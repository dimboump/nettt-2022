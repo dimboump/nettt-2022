{
 "cells": [
  {
   "cell_type": "code",
   "execution_count": 1,
   "metadata": {},
   "outputs": [],
   "source": [
    "import pandas as pd\n",
    "import matplotlib.pyplot as plt\n",
    "from google.cloud import storage, translate"
   ]
  },
  {
   "cell_type": "code",
   "execution_count": 2,
   "metadata": {},
   "outputs": [
    {
     "data": {
      "text/html": [
       "<div>\n",
       "<style scoped>\n",
       "    .dataframe tbody tr th:only-of-type {\n",
       "        vertical-align: middle;\n",
       "    }\n",
       "\n",
       "    .dataframe tbody tr th {\n",
       "        vertical-align: top;\n",
       "    }\n",
       "\n",
       "    .dataframe thead th {\n",
       "        text-align: right;\n",
       "    }\n",
       "</style>\n",
       "<table border=\"1\" class=\"dataframe\">\n",
       "  <thead>\n",
       "    <tr style=\"text-align: right;\">\n",
       "      <th></th>\n",
       "      <th>year</th>\n",
       "      <th>date</th>\n",
       "      <th>category</th>\n",
       "      <th>title_en</th>\n",
       "      <th>link_en</th>\n",
       "      <th>text_en</th>\n",
       "      <th>length_en</th>\n",
       "      <th>title_el</th>\n",
       "      <th>text_el</th>\n",
       "      <th>length_el</th>\n",
       "      <th>link_el</th>\n",
       "    </tr>\n",
       "  </thead>\n",
       "  <tbody>\n",
       "    <tr>\n",
       "      <th>0</th>\n",
       "      <td>2022</td>\n",
       "      <td>2022-04-14</td>\n",
       "      <td>MONETARY POLICY DECISION</td>\n",
       "      <td>Monetary policy decisions</td>\n",
       "      <td>https://www.ecb.europa.eu/press/pr/date/2022/h...</td>\n",
       "      <td>14 April 2022Russia’s aggression in Ukraine is...</td>\n",
       "      <td>899</td>\n",
       "      <td>Αποφάσεις νομισματικής πολιτικής</td>\n",
       "      <td>14 Απριλίου 2022Η επίθεση της Ρωσίας στην Ουκρ...</td>\n",
       "      <td>1070</td>\n",
       "      <td>https://www.ecb.europa.eu/press/pr/date/2022/h...</td>\n",
       "    </tr>\n",
       "    <tr>\n",
       "      <th>1</th>\n",
       "      <td>2022</td>\n",
       "      <td>2022-03-10</td>\n",
       "      <td>MONETARY POLICY DECISION</td>\n",
       "      <td>Monetary policy decisions</td>\n",
       "      <td>https://www.ecb.europa.eu/press/pr/date/2022/h...</td>\n",
       "      <td>10 March 2022 The Russian invasion of Ukraine ...</td>\n",
       "      <td>977</td>\n",
       "      <td>Αποφάσεις νομισματικής πολιτικής</td>\n",
       "      <td>10 Μαρτίου 2022 Η εισβολή της Ρωσίας στην Ουκρ...</td>\n",
       "      <td>1200</td>\n",
       "      <td>https://www.ecb.europa.eu/press/pr/date/2022/h...</td>\n",
       "    </tr>\n",
       "    <tr>\n",
       "      <th>2</th>\n",
       "      <td>2022</td>\n",
       "      <td>2022-03-02</td>\n",
       "      <td>PRESS RELEASE</td>\n",
       "      <td>Charity concert for Ukraine at Berlin State Opera</td>\n",
       "      <td>https://www.ecb.europa.eu/press/pr/date/2022/h...</td>\n",
       "      <td>2 March 2022 The European Central Bank (ECB) a...</td>\n",
       "      <td>227</td>\n",
       "      <td>Φιλανθρωπική συναυλία για την Ουκρανία στην Κρ...</td>\n",
       "      <td>2 Μαρτίου 2022 Η Ευρωπαϊκή Κεντρική Τράπεζα (Ε...</td>\n",
       "      <td>257</td>\n",
       "      <td>https://www.ecb.europa.eu/press/pr/date/2022/h...</td>\n",
       "    </tr>\n",
       "    <tr>\n",
       "      <th>3</th>\n",
       "      <td>2022</td>\n",
       "      <td>2022-02-17</td>\n",
       "      <td>PRESS RELEASE</td>\n",
       "      <td>Financial statements of the ECB for 2021</td>\n",
       "      <td>https://www.ecb.europa.eu/press/pr/date/2022/h...</td>\n",
       "      <td>17 February 2022  ECB profit €0.2 billion (202...</td>\n",
       "      <td>713</td>\n",
       "      <td>Οικονομικές καταστάσεις της ΕΚΤ για το 2021</td>\n",
       "      <td>17 Φεβρουαρίου 2022  Τα κέρδη της ΕΚΤ ανήλθαν ...</td>\n",
       "      <td>849</td>\n",
       "      <td>https://www.ecb.europa.eu/press/pr/date/2022/h...</td>\n",
       "    </tr>\n",
       "    <tr>\n",
       "      <th>4</th>\n",
       "      <td>2022</td>\n",
       "      <td>2022-02-17</td>\n",
       "      <td>ANNUAL ACCOUNTS</td>\n",
       "      <td>Annual Accounts 2021</td>\n",
       "      <td>https://www.ecb.europa.eu/pub/annual/annual-ac...</td>\n",
       "      <td>Key figures  1 Management report 1.1 Purpose o...</td>\n",
       "      <td>16183</td>\n",
       "      <td>Ετήσιοι λογαριασμοί της ΕΚΤ 2021</td>\n",
       "      <td>Βασικά στοιχεία  1 Έκθεση διαχείρισης 1.1 Σκοπ...</td>\n",
       "      <td>17353</td>\n",
       "      <td>https://www.ecb.europa.eu/pub/annual/annual-ac...</td>\n",
       "    </tr>\n",
       "  </tbody>\n",
       "</table>\n",
       "</div>"
      ],
      "text/plain": [
       "   year        date                  category  \\\n",
       "0  2022  2022-04-14  MONETARY POLICY DECISION   \n",
       "1  2022  2022-03-10  MONETARY POLICY DECISION   \n",
       "2  2022  2022-03-02             PRESS RELEASE   \n",
       "3  2022  2022-02-17             PRESS RELEASE   \n",
       "4  2022  2022-02-17           ANNUAL ACCOUNTS   \n",
       "\n",
       "                                            title_en  \\\n",
       "0                          Monetary policy decisions   \n",
       "1                          Monetary policy decisions   \n",
       "2  Charity concert for Ukraine at Berlin State Opera   \n",
       "3           Financial statements of the ECB for 2021   \n",
       "4                               Annual Accounts 2021   \n",
       "\n",
       "                                             link_en  \\\n",
       "0  https://www.ecb.europa.eu/press/pr/date/2022/h...   \n",
       "1  https://www.ecb.europa.eu/press/pr/date/2022/h...   \n",
       "2  https://www.ecb.europa.eu/press/pr/date/2022/h...   \n",
       "3  https://www.ecb.europa.eu/press/pr/date/2022/h...   \n",
       "4  https://www.ecb.europa.eu/pub/annual/annual-ac...   \n",
       "\n",
       "                                             text_en  length_en  \\\n",
       "0  14 April 2022Russia’s aggression in Ukraine is...        899   \n",
       "1  10 March 2022 The Russian invasion of Ukraine ...        977   \n",
       "2  2 March 2022 The European Central Bank (ECB) a...        227   \n",
       "3  17 February 2022  ECB profit €0.2 billion (202...        713   \n",
       "4  Key figures  1 Management report 1.1 Purpose o...      16183   \n",
       "\n",
       "                                            title_el  \\\n",
       "0                   Αποφάσεις νομισματικής πολιτικής   \n",
       "1                   Αποφάσεις νομισματικής πολιτικής   \n",
       "2  Φιλανθρωπική συναυλία για την Ουκρανία στην Κρ...   \n",
       "3        Οικονομικές καταστάσεις της ΕΚΤ για το 2021   \n",
       "4                   Ετήσιοι λογαριασμοί της ΕΚΤ 2021   \n",
       "\n",
       "                                             text_el  length_el  \\\n",
       "0  14 Απριλίου 2022Η επίθεση της Ρωσίας στην Ουκρ...       1070   \n",
       "1  10 Μαρτίου 2022 Η εισβολή της Ρωσίας στην Ουκρ...       1200   \n",
       "2  2 Μαρτίου 2022 Η Ευρωπαϊκή Κεντρική Τράπεζα (Ε...        257   \n",
       "3  17 Φεβρουαρίου 2022  Τα κέρδη της ΕΚΤ ανήλθαν ...        849   \n",
       "4  Βασικά στοιχεία  1 Έκθεση διαχείρισης 1.1 Σκοπ...      17353   \n",
       "\n",
       "                                             link_el  \n",
       "0  https://www.ecb.europa.eu/press/pr/date/2022/h...  \n",
       "1  https://www.ecb.europa.eu/press/pr/date/2022/h...  \n",
       "2  https://www.ecb.europa.eu/press/pr/date/2022/h...  \n",
       "3  https://www.ecb.europa.eu/press/pr/date/2022/h...  \n",
       "4  https://www.ecb.europa.eu/pub/annual/annual-ac...  "
      ]
     },
     "execution_count": 2,
     "metadata": {},
     "output_type": "execute_result"
    }
   ],
   "source": [
    "df = pd.read_csv('corpus_el.csv', sep=';')\n",
    "df.head()"
   ]
  },
  {
   "cell_type": "code",
   "execution_count": 3,
   "metadata": {},
   "outputs": [
    {
     "name": "stdout",
     "output_type": "stream",
     "text": [
      "(679, 11)\n",
      "(678, 11)\n"
     ]
    }
   ],
   "source": [
    "print(df.shape)\n",
    "df = df[df['length_el'] > 0]\n",
    "print(df.shape)"
   ]
  },
  {
   "cell_type": "code",
   "execution_count": 4,
   "metadata": {},
   "outputs": [
    {
     "name": "stdout",
     "output_type": "stream",
     "text": [
      "There are 678 Greek texts.\n"
     ]
    }
   ],
   "source": [
    "print(f\"There are {df.shape[0]} Greek texts.\")"
   ]
  },
  {
   "cell_type": "code",
   "execution_count": 5,
   "metadata": {},
   "outputs": [
    {
     "data": {
      "text/plain": [
       "1699614"
      ]
     },
     "execution_count": 5,
     "metadata": {},
     "output_type": "execute_result"
    }
   ],
   "source": [
    "int(df['text_el'].str.len().sum())"
   ]
  },
  {
   "cell_type": "code",
   "execution_count": 29,
   "metadata": {},
   "outputs": [],
   "source": [
    "def translate_text(text, project_id='nettt-2022'):\n",
    "\n",
    "    client = translate.TranslationServiceClient.from_service_account_json('../api/google-trans.json')\n",
    "    location = 'global'\n",
    "    parent = f'projects/{project_id}/locations/{location}'\n",
    "\n",
    "    response = client.translate_text(\n",
    "        request = {\n",
    "            'parent': parent,\n",
    "            'contents': [text],\n",
    "            'mime_type': 'text/plain',\n",
    "            'source_language_code': 'en',\n",
    "            'target_language_code': 'el',\n",
    "        },\n",
    "        timeout=30\n",
    "    )\n",
    "\n",
    "    for translation in response.translations:\n",
    "        return translation.translated_text"
   ]
  },
  {
   "cell_type": "code",
   "execution_count": 7,
   "metadata": {},
   "outputs": [],
   "source": [
    "# df[['length_el']].idxmin()"
   ]
  },
  {
   "cell_type": "code",
   "execution_count": 33,
   "metadata": {},
   "outputs": [
    {
     "data": {
      "text/plain": [
       "length_en    21\n",
       "dtype: int64"
      ]
     },
     "execution_count": 33,
     "metadata": {},
     "output_type": "execute_result"
    }
   ],
   "source": [
    "df[['length_en']].idxmax()"
   ]
  },
  {
   "cell_type": "code",
   "execution_count": 35,
   "metadata": {},
   "outputs": [
    {
     "ename": "InvalidArgument",
     "evalue": "400 Text is too long. [field_violations {\n  field: \"content\"\n  description: \"Total text length: 105468 Maximum: 102400\"\n}\n]",
     "output_type": "error",
     "traceback": [
      "\u001b[1;31m---------------------------------------------------------------------------\u001b[0m",
      "\u001b[1;31m_InactiveRpcError\u001b[0m                         Traceback (most recent call last)",
      "\u001b[1;32m~\\AppData\\Roaming\\Python\\Python38\\site-packages\\google\\api_core\\grpc_helpers.py\u001b[0m in \u001b[0;36merror_remapped_callable\u001b[1;34m(*args, **kwargs)\u001b[0m\n\u001b[0;32m     56\u001b[0m         \u001b[1;32mtry\u001b[0m\u001b[1;33m:\u001b[0m\u001b[1;33m\u001b[0m\u001b[1;33m\u001b[0m\u001b[0m\n\u001b[1;32m---> 57\u001b[1;33m             \u001b[1;32mreturn\u001b[0m \u001b[0mcallable_\u001b[0m\u001b[1;33m(\u001b[0m\u001b[1;33m*\u001b[0m\u001b[0margs\u001b[0m\u001b[1;33m,\u001b[0m \u001b[1;33m**\u001b[0m\u001b[0mkwargs\u001b[0m\u001b[1;33m)\u001b[0m\u001b[1;33m\u001b[0m\u001b[1;33m\u001b[0m\u001b[0m\n\u001b[0m\u001b[0;32m     58\u001b[0m         \u001b[1;32mexcept\u001b[0m \u001b[0mgrpc\u001b[0m\u001b[1;33m.\u001b[0m\u001b[0mRpcError\u001b[0m \u001b[1;32mas\u001b[0m \u001b[0mexc\u001b[0m\u001b[1;33m:\u001b[0m\u001b[1;33m\u001b[0m\u001b[1;33m\u001b[0m\u001b[0m\n",
      "\u001b[1;32m~\\AppData\\Roaming\\Python\\Python38\\site-packages\\grpc\\_channel.py\u001b[0m in \u001b[0;36m__call__\u001b[1;34m(self, request, timeout, metadata, credentials, wait_for_ready, compression)\u001b[0m\n\u001b[0;32m    945\u001b[0m                                       wait_for_ready, compression)\n\u001b[1;32m--> 946\u001b[1;33m         \u001b[1;32mreturn\u001b[0m \u001b[0m_end_unary_response_blocking\u001b[0m\u001b[1;33m(\u001b[0m\u001b[0mstate\u001b[0m\u001b[1;33m,\u001b[0m \u001b[0mcall\u001b[0m\u001b[1;33m,\u001b[0m \u001b[1;32mFalse\u001b[0m\u001b[1;33m,\u001b[0m \u001b[1;32mNone\u001b[0m\u001b[1;33m)\u001b[0m\u001b[1;33m\u001b[0m\u001b[1;33m\u001b[0m\u001b[0m\n\u001b[0m\u001b[0;32m    947\u001b[0m \u001b[1;33m\u001b[0m\u001b[0m\n",
      "\u001b[1;32m~\\AppData\\Roaming\\Python\\Python38\\site-packages\\grpc\\_channel.py\u001b[0m in \u001b[0;36m_end_unary_response_blocking\u001b[1;34m(state, call, with_call, deadline)\u001b[0m\n\u001b[0;32m    848\u001b[0m     \u001b[1;32melse\u001b[0m\u001b[1;33m:\u001b[0m\u001b[1;33m\u001b[0m\u001b[1;33m\u001b[0m\u001b[0m\n\u001b[1;32m--> 849\u001b[1;33m         \u001b[1;32mraise\u001b[0m \u001b[0m_InactiveRpcError\u001b[0m\u001b[1;33m(\u001b[0m\u001b[0mstate\u001b[0m\u001b[1;33m)\u001b[0m\u001b[1;33m\u001b[0m\u001b[1;33m\u001b[0m\u001b[0m\n\u001b[0m\u001b[0;32m    850\u001b[0m \u001b[1;33m\u001b[0m\u001b[0m\n",
      "\u001b[1;31m_InactiveRpcError\u001b[0m: <_InactiveRpcError of RPC that terminated with:\n\tstatus = StatusCode.INVALID_ARGUMENT\n\tdetails = \"Text is too long.\"\n\tdebug_error_string = \"{\"created\":\"@1650806655.172000000\",\"description\":\"Error received from peer ipv6:[2a00:1450:400e:80f::200a]:443\",\"file\":\"src/core/lib/surface/call.cc\",\"file_line\":904,\"grpc_message\":\"Text is too long.\",\"grpc_status\":3}\"\n>",
      "\nThe above exception was the direct cause of the following exception:\n",
      "\u001b[1;31mInvalidArgument\u001b[0m                           Traceback (most recent call last)",
      "\u001b[1;32m<ipython-input-35-a6e84158caf4>\u001b[0m in \u001b[0;36m<module>\u001b[1;34m\u001b[0m\n\u001b[1;32m----> 1\u001b[1;33m \u001b[0mtranslate_text\u001b[0m\u001b[1;33m(\u001b[0m\u001b[0mdf\u001b[0m\u001b[1;33m.\u001b[0m\u001b[0miloc\u001b[0m\u001b[1;33m[\u001b[0m\u001b[1;36m21\u001b[0m\u001b[1;33m]\u001b[0m\u001b[1;33m[\u001b[0m\u001b[1;34m'text_en'\u001b[0m\u001b[1;33m]\u001b[0m\u001b[1;33m)\u001b[0m\u001b[1;33m\u001b[0m\u001b[1;33m\u001b[0m\u001b[0m\n\u001b[0m",
      "\u001b[1;32m<ipython-input-29-626eba4d1d9b>\u001b[0m in \u001b[0;36mtranslate_text\u001b[1;34m(text, project_id)\u001b[0m\n\u001b[0;32m      5\u001b[0m     \u001b[0mparent\u001b[0m \u001b[1;33m=\u001b[0m \u001b[1;34mf'projects/{project_id}/locations/{location}'\u001b[0m\u001b[1;33m\u001b[0m\u001b[1;33m\u001b[0m\u001b[0m\n\u001b[0;32m      6\u001b[0m \u001b[1;33m\u001b[0m\u001b[0m\n\u001b[1;32m----> 7\u001b[1;33m     response = client.translate_text(\n\u001b[0m\u001b[0;32m      8\u001b[0m         request = {\n\u001b[0;32m      9\u001b[0m             \u001b[1;34m'parent'\u001b[0m\u001b[1;33m:\u001b[0m \u001b[0mparent\u001b[0m\u001b[1;33m,\u001b[0m\u001b[1;33m\u001b[0m\u001b[1;33m\u001b[0m\u001b[0m\n",
      "\u001b[1;32m~\\AppData\\Roaming\\Python\\Python38\\site-packages\\google\\cloud\\translate_v3\\services\\translation_service\\client.py\u001b[0m in \u001b[0;36mtranslate_text\u001b[1;34m(self, request, parent, target_language_code, contents, model, mime_type, source_language_code, retry, timeout, metadata)\u001b[0m\n\u001b[0;32m    591\u001b[0m \u001b[1;33m\u001b[0m\u001b[0m\n\u001b[0;32m    592\u001b[0m         \u001b[1;31m# Send the request.\u001b[0m\u001b[1;33m\u001b[0m\u001b[1;33m\u001b[0m\u001b[1;33m\u001b[0m\u001b[0m\n\u001b[1;32m--> 593\u001b[1;33m         \u001b[0mresponse\u001b[0m \u001b[1;33m=\u001b[0m \u001b[0mrpc\u001b[0m\u001b[1;33m(\u001b[0m\u001b[0mrequest\u001b[0m\u001b[1;33m,\u001b[0m \u001b[0mretry\u001b[0m\u001b[1;33m=\u001b[0m\u001b[0mretry\u001b[0m\u001b[1;33m,\u001b[0m \u001b[0mtimeout\u001b[0m\u001b[1;33m=\u001b[0m\u001b[0mtimeout\u001b[0m\u001b[1;33m,\u001b[0m \u001b[0mmetadata\u001b[0m\u001b[1;33m=\u001b[0m\u001b[0mmetadata\u001b[0m\u001b[1;33m,\u001b[0m\u001b[1;33m)\u001b[0m\u001b[1;33m\u001b[0m\u001b[1;33m\u001b[0m\u001b[0m\n\u001b[0m\u001b[0;32m    594\u001b[0m \u001b[1;33m\u001b[0m\u001b[0m\n\u001b[0;32m    595\u001b[0m         \u001b[1;31m# Done; return the response.\u001b[0m\u001b[1;33m\u001b[0m\u001b[1;33m\u001b[0m\u001b[1;33m\u001b[0m\u001b[0m\n",
      "\u001b[1;32m~\\AppData\\Roaming\\Python\\Python38\\site-packages\\google\\api_core\\gapic_v1\\method.py\u001b[0m in \u001b[0;36m__call__\u001b[1;34m(self, timeout, retry, *args, **kwargs)\u001b[0m\n\u001b[0;32m    152\u001b[0m             \u001b[0mkwargs\u001b[0m\u001b[1;33m[\u001b[0m\u001b[1;34m\"metadata\"\u001b[0m\u001b[1;33m]\u001b[0m \u001b[1;33m=\u001b[0m \u001b[0mmetadata\u001b[0m\u001b[1;33m\u001b[0m\u001b[1;33m\u001b[0m\u001b[0m\n\u001b[0;32m    153\u001b[0m \u001b[1;33m\u001b[0m\u001b[0m\n\u001b[1;32m--> 154\u001b[1;33m         \u001b[1;32mreturn\u001b[0m \u001b[0mwrapped_func\u001b[0m\u001b[1;33m(\u001b[0m\u001b[1;33m*\u001b[0m\u001b[0margs\u001b[0m\u001b[1;33m,\u001b[0m \u001b[1;33m**\u001b[0m\u001b[0mkwargs\u001b[0m\u001b[1;33m)\u001b[0m\u001b[1;33m\u001b[0m\u001b[1;33m\u001b[0m\u001b[0m\n\u001b[0m\u001b[0;32m    155\u001b[0m \u001b[1;33m\u001b[0m\u001b[0m\n\u001b[0;32m    156\u001b[0m \u001b[1;33m\u001b[0m\u001b[0m\n",
      "\u001b[1;32m~\\AppData\\Roaming\\Python\\Python38\\site-packages\\google\\api_core\\timeout.py\u001b[0m in \u001b[0;36mfunc_with_timeout\u001b[1;34m(*args, **kwargs)\u001b[0m\n\u001b[0;32m     97\u001b[0m             \u001b[1;34m\"\"\"Wrapped function that adds timeout.\"\"\"\u001b[0m\u001b[1;33m\u001b[0m\u001b[1;33m\u001b[0m\u001b[0m\n\u001b[0;32m     98\u001b[0m             \u001b[0mkwargs\u001b[0m\u001b[1;33m[\u001b[0m\u001b[1;34m\"timeout\"\u001b[0m\u001b[1;33m]\u001b[0m \u001b[1;33m=\u001b[0m \u001b[0mself\u001b[0m\u001b[1;33m.\u001b[0m\u001b[0m_timeout\u001b[0m\u001b[1;33m\u001b[0m\u001b[1;33m\u001b[0m\u001b[0m\n\u001b[1;32m---> 99\u001b[1;33m             \u001b[1;32mreturn\u001b[0m \u001b[0mfunc\u001b[0m\u001b[1;33m(\u001b[0m\u001b[1;33m*\u001b[0m\u001b[0margs\u001b[0m\u001b[1;33m,\u001b[0m \u001b[1;33m**\u001b[0m\u001b[0mkwargs\u001b[0m\u001b[1;33m)\u001b[0m\u001b[1;33m\u001b[0m\u001b[1;33m\u001b[0m\u001b[0m\n\u001b[0m\u001b[0;32m    100\u001b[0m \u001b[1;33m\u001b[0m\u001b[0m\n\u001b[0;32m    101\u001b[0m         \u001b[1;32mreturn\u001b[0m \u001b[0mfunc_with_timeout\u001b[0m\u001b[1;33m\u001b[0m\u001b[1;33m\u001b[0m\u001b[0m\n",
      "\u001b[1;32m~\\AppData\\Roaming\\Python\\Python38\\site-packages\\google\\api_core\\grpc_helpers.py\u001b[0m in \u001b[0;36merror_remapped_callable\u001b[1;34m(*args, **kwargs)\u001b[0m\n\u001b[0;32m     57\u001b[0m             \u001b[1;32mreturn\u001b[0m \u001b[0mcallable_\u001b[0m\u001b[1;33m(\u001b[0m\u001b[1;33m*\u001b[0m\u001b[0margs\u001b[0m\u001b[1;33m,\u001b[0m \u001b[1;33m**\u001b[0m\u001b[0mkwargs\u001b[0m\u001b[1;33m)\u001b[0m\u001b[1;33m\u001b[0m\u001b[1;33m\u001b[0m\u001b[0m\n\u001b[0;32m     58\u001b[0m         \u001b[1;32mexcept\u001b[0m \u001b[0mgrpc\u001b[0m\u001b[1;33m.\u001b[0m\u001b[0mRpcError\u001b[0m \u001b[1;32mas\u001b[0m \u001b[0mexc\u001b[0m\u001b[1;33m:\u001b[0m\u001b[1;33m\u001b[0m\u001b[1;33m\u001b[0m\u001b[0m\n\u001b[1;32m---> 59\u001b[1;33m             \u001b[1;32mraise\u001b[0m \u001b[0mexceptions\u001b[0m\u001b[1;33m.\u001b[0m\u001b[0mfrom_grpc_error\u001b[0m\u001b[1;33m(\u001b[0m\u001b[0mexc\u001b[0m\u001b[1;33m)\u001b[0m \u001b[1;32mfrom\u001b[0m \u001b[0mexc\u001b[0m\u001b[1;33m\u001b[0m\u001b[1;33m\u001b[0m\u001b[0m\n\u001b[0m\u001b[0;32m     60\u001b[0m \u001b[1;33m\u001b[0m\u001b[0m\n\u001b[0;32m     61\u001b[0m     \u001b[1;32mreturn\u001b[0m \u001b[0merror_remapped_callable\u001b[0m\u001b[1;33m\u001b[0m\u001b[1;33m\u001b[0m\u001b[0m\n",
      "\u001b[1;31mInvalidArgument\u001b[0m: 400 Text is too long. [field_violations {\n  field: \"content\"\n  description: \"Total text length: 105468 Maximum: 102400\"\n}\n]"
     ]
    }
   ],
   "source": [
    "translate_text(df.iloc[21]['text_en'])"
   ]
  },
  {
   "cell_type": "code",
   "execution_count": 34,
   "metadata": {},
   "outputs": [
    {
     "data": {
      "text/plain": [
       "\"Key figures  1 Management report 1.1 Purpose of the ECB’s management report The management report[1] is an integral part of the ECB’s Annual Accounts and is designed to provide readers with contextual information related to the financial statements.[2] Given that the ECB’s activities and operations are undertaken in support of its policy objectives, the ECB’s financial position and result should be viewed in conjunction with its policy actions. To this end, the management report presents the ECB’s main tasks and activities, as well as their impact on its financial statements. Furthermore, it analyses the main developments in the Balance Sheet and the Profit and Loss Account during the year and includes information on the ECB’s financial resources. Finally, it describes the risk environment in which the ECB operates, providing information on the specific risks to which the ECB is exposed, and the risk management policies used to mitigate risks. 1.2 Main tasks and activities The ECB is part of the Eurosystem, which has the primary objective of maintaining price stability. The ECB performs its tasks as described in the Treaty on the Functioning of the European Union[3] and in the Statute of the European System of Central Banks and of the European Central Bank (Statute of the ESCB)[4] (Figure 1). The ECB conducts its activities in order to fulfil its mandate and not with the intention of generating profit.  Figure\\xa01 The ECB’s main tasks     The Eurosystem’s monetary policy operations are recorded in the financial statements of the ECB and of the euro area national central banks (NCBs), reflecting the principle of decentralised implementation of monetary policy in the Eurosystem. Table\\xa01 below provides an overview of the main operations and functions of the ECB in pursuit of its mandate, and their impact on the ECB’s financial statements.  Table 1 The ECB’s key activities and their impact on its financial statements  Implementation of monetary policy  Conduct of foreign exchange operations and management of foreign reserves  Promotion of the smooth operation of payment systems  Contributing to the safety and soundness of the banking system and the stability of the financial system  Other   1) Further details on securities lending can be found on the ECB’s website.2) Further details on the currency swap lines can be found on the ECB’s website. 3) Further details on the Eurosystem’s euro liquidity operations against eligible collateral can be found on the ECB’s website. 4) Further details on TARGET2 can be found on the ECB’s website.    1.3 Financial developments 1.3.1 Balance Sheet The ECB’s Balance Sheet expanded in the period 2016-2018, mainly owing to the net acquisition of securities under the asset purchase programme (APP).[5] Net purchases under this programme ceased in December 2018 and resumed again in November 2019. In the intervening period the ECB fully reinvested the principal payments from maturing securities held in its APP portfolios. As a result, the ECB’s balance sheet growth slowed down in 2019 and was driven mainly by rises in the market value of the ECB’s foreign reserve assets and in the value of euro banknotes in circulation. In 2020, in order to address the impact of the coronavirus (COVID-19) pandemic, the Governing Council decided on a comprehensive package of monetary policy measures, which also affected the size of the ECB’s Balance Sheet.   In 2020 the ECB’s total assets increased by €112.2\\xa0billion to €569.3\\xa0billion, mainly owing to its share of securities purchases under the new pandemic emergency purchase programme (PEPP)[6] and the APP. These purchases resulted in an increase in “Securities held for monetary policy purposes”, while the cash settlement of these purchases via TARGET2 accounts led to a corresponding increase in “Intra-Eurosystem liabilities”. The rise in the value of euro banknotes in circulation also contributed to this increase.  Chart\\xa01 Main components of the ECB’s Balance Sheet  (EUR billions)   Source: ECB.     Euro-denominated securities held for monetary policy purposes constituted 61% of the ECB’s total assets at the end of 2020. Under this balance sheet position, the ECB holds securities acquired in the context of the Securities Markets Programme (SMP), the three covered bond purchase programmes (CBPP1, CBPP2 and CBPP3), the ABSPP, the PSPP and the PEPP.  In 2020 the Governing Council took several decisions regarding purchases of securities held for monetary policy purposes to counter the serious risks to the transmission of monetary policy and the outlook for the euro area posed by the COVID-19 pandemic. In particular, in March 2020 the Governing Council decided to add to the existing monthly purchases pace of €20 billion under the APP a temporary envelope of additional net asset purchases of €120 billion until the end of the year.[7] Later that month the Governing Council decided to launch the PEPP with an initial envelope of €750 billion until the end of the year.[8] In response to the development of the pandemic, the Governing Council decided to increase the initial envelope of the PEPP by €600 billion in June 2020[9] and by an additional €500 billion in December 2020[10], increasing the total envelope to €1,850 billion. It also decided to extend net asset purchases under the PEPP until at least the end of March 2022 and, in any case, until it judges that the COVID-19 crisis phase is over.  As a result of the purchases, the portfolio of securities held by the ECB for monetary policy purposes increased by €98.6\\xa0billion to €349.0\\xa0billion in 2020 (Chart\\xa02), with PEPP purchases accounting for most of this increase. The decrease in holdings under the SMP, CBPP1 and CBPP2 was due to redemptions and amounted to €1.4 billion.  Chart\\xa02 Securities held for monetary policy purposes  (EUR billions)   Source: ECB.    For the active programmes of securities held for monetary policy purposes, namely the APP and the PEPP, securities held by the ECB at the end of December 2020 had a diversified maturity profile[11] (Chart 3).   Chart\\xa03 Maturity profile of the APP and the PEPP    Source: ECB.Note: For asset-backed securities the maturity profile is based on the weighted average life of the securities rather than the legal maturity date.    In 2020 the total euro equivalent value of the ECB’s foreign reserve assets, which consist of gold, special drawing rights, US dollars, Japanese yen and Chinese renminbi, remained virtually unchanged at €75.8\\xa0billion.  The euro equivalent value of the ECB’s holdings of gold and gold receivables increased by €3.1\\xa0billion to €25.1\\xa0billion in 2020 (Chart\\xa04) owing to an increase in the market price of gold in euro terms, while the size of these holdings in fine ounces remained unchanged. This increase also led to an equivalent rise in the ECB’s gold revaluation accounts (see Section\\xa01.3.2 “Financial resources”).  Chart\\xa04 Gold holdings and gold prices  (left-hand scale: EUR billions; right-hand scale: euro per fine ounce of gold)   Source: ECB.Note: “Gold revaluation accounts” does not include the contributions of the central banks of the Members States that joined the euro area after 1 January 1999 to the accumulated gold revaluation accounts of the ECB as at the day prior to their entry into the Eurosystem.     The ECB’s net foreign currency holdings[12] of US dollars, Japanese yen and Chinese renminbi decreased in euro terms by €3.0\\xa0billion to €50.1\\xa0billion (Chart\\xa05), mainly owing to the depreciation of the US dollar against the euro. The depreciation of the US dollar is also reflected in the lower balances in the ECB’s revaluation accounts (see Section 1.3.2 “Financial resources”).  Chart\\xa05 Foreign currency holdings  (EUR\\xa0billions)   Source: ECB.    The US dollar continued to be the main component of the ECB’s foreign currency holdings, accounting for approximately 76% of the total at the end of 2020. The ECB manages the investment of its foreign currency reserves using a three-step approach. First, a strategic benchmark portfolio is designed by the ECB’s risk managers and approved by the Governing Council. Second, the ECB’s portfolio managers design the tactical benchmark portfolio, which is approved by the Executive Board. Third, investment operations are conducted in a decentralised manner by the NCBs on a day-to-day basis. The ECB’s foreign currency reserves are mainly invested in securities and money market deposits or are held in current accounts (Chart\\xa06). Securities in this portfolio are valued at year-end market prices.  Chart\\xa06 Composition of foreign currency investments  (EUR billions)   Source: ECB.     The purpose of the ECB’s foreign currency reserves is to finance potential interventions in the foreign exchange market. For this reason, the ECB’s foreign currency reserves are managed in accordance with three objectives: (in order of priority) liquidity, safety and return. Therefore, this portfolio mainly comprises securities with short maturities (Chart\\xa07).  Chart\\xa07 Maturity profile of foreign currency-denominated securities    Source: ECB.    In 2020 the value of the own funds portfolio increased by €0.1 billion to €20.7 billion (Chart\\xa08), mainly owing to the reinvestment of the interest income generated and the increase in the market value of the securities held in the portfolio. The portfolio mainly consists of euro-denominated securities which are valued at year-end market prices. In 2020 government debt securities accounted for 73% of the total portfolio.  Chart\\xa08 The ECB’s own funds portfolio  (EUR billions)   Source: ECB.    The ECB’s own funds portfolio predominantly consists of investments of the ECB’s financial resources, namely its paid-up capital and amounts held in the general reserve fund and the provision for financial risks. Owing to the reinvestment of income proceeds and the valuation of securities at market prices, the own funds portfolio and the aforementioned financial resources do not necessarily correspond in size. The purpose of this portfolio is to provide income to help fund the ECB’s operating expenses which are not related to the delivery of its supervisory tasks.[13] It is invested in euro-denominated assets, subject to the limits imposed by its risk control framework. This results in a more diversified maturity structure (Chart\\xa09) than in the foreign currency reserves portfolio.  Chart\\xa09 Maturity profile of the ECB’s own funds securities    Source: ECB.    At the end of 2020, the total value of euro banknotes in circulation was €1,434.5 billion, an increase of 11% compared to the end of 2019. The ECB has been allocated a share of 8% of the total value of euro banknotes in circulation, which amounted to €114.8 billion at the end of the year. Since the ECB does not issue banknotes itself, it holds intra-Eurosystem claims vis-à-vis the euro area NCBs for a value equivalent to the value of the banknotes in circulation. The ECB’s intra-Eurosystem liabilities, which mainly comprise the net TARGET2 balance of euro area NCBs vis-à-vis the ECB and the ECB’s liabilities with regard to the foreign reserve assets transferred to it by the euro area NCBs when they joined the Eurosystem, increased by €103.8 billion to €378.4 billion in 2020. The increase in intra-Eurosystem liabilities in 2020, as well as their development over the period 2016-2019, was mostly driven by the evolution of the net TARGET2 liability as a result of the ECB’s net purchases of securities held for monetary policy purposes, which are settled via TARGET2 accounts (Chart 10).   Chart\\xa010 Net TARGET2 balance and securities held for monetary policy purposes  (EUR billions)   Source: ECB.    1.3.2 Financial resources  The ECB’s financial resources consist of its capital, the provision for financial risks, the revaluation accounts and the profit for the year. These financial resources are (i)\\xa0invested in assets that generate income and/or (ii)\\xa0used to directly offset losses materialising from financial risks. As at 31\\xa0December\\xa02020, the ECB’s financial resources totalled €46.2\\xa0billion (Chart\\xa011). This was €1.5\\xa0billion lower than in 2019, mainly owing to (i) the decrease in the revaluation accounts following the appreciation of the euro against the US dollar and (ii) the lower profit in 2020.  Chart\\xa011 The ECB’s financial resources  (EUR billions)   Source: ECB.Note: “Revaluation accounts” includes total revaluation gains on gold, foreign currency and securities holdings, but excludes the revaluation account for post-employment benefits.     Unrealised gains on gold, foreign currencies and securities that are subject to price revaluation are not recognised as income in the Profit and Loss Account but are recorded directly in revaluation accounts shown on the liability side of the ECB’s Balance Sheet. The balances in these accounts can be used to absorb the impact of any future unfavourable movement in the respective prices and/or exchange rates, and thus strengthen the ECB’s resilience against the underlying risks. In 2020 the revaluation accounts for gold, foreign currencies and securities[14] decreased by €0.9\\xa0billion to €29.3\\xa0billion, owing to the lower revaluation balances in foreign currencies as a result of the appreciation of the euro against the US dollar and Japanese yen (Chart\\xa012). This decrease was partially offset by the increase in the gold revaluation balances as a result of the rise in the market price of gold.  Chart\\xa012 The main foreign exchange rates and gold price over the period 2016-20  (percentage changes vis-à-vis 2016; year-end data)   Source: ECB.    Notwithstanding the Bank of England’s departure from the European System of Central Banks (ESCB), the ECB’s capital paid up by euro area and non-euro area NCBs remained unchanged in 2020 at €7.7 billion, as the remaining NCBs covered the Bank of England’s withdrawn paid-up capital of €58 million. The ECB’s total paid-up capital will increase from €7.7 billion in 2020 to €8.9 billion in 2022, since the shares of the euro area NCBs in the subscribed capital of the ECB increased following the withdrawal of the Bank of England from the ESCB and will be paid up in full in two annual instalments of around €0.6 billion each in 2021 and 2022.[15]  In view of its exposure to financial risks (see Section\\xa01.4.1 “Financial risks”), the ECB maintains a provision for financial risks. The size of this provision is reviewed annually, taking a range of factors into account, including the level of holdings of risk-bearing assets, the projected results for the coming year and a risk assessment. The provision for financial risks, together with any amount held in the ECB’s general reserve fund, may not exceed the value of the capital paid up by the euro area NCBs. In 2020, as a result of the adjustment of the NCBs’ capital key shares following the Bank of England’s withdrawal from the ESCB and the related decisions of the Governing Council on the ECB’s capital, the euro area NCBs paid €48 million into the ECB’s paid-up capital, thereby increasing the upper limit of the provision for financial risks by an equal amount. Taking into account the results of the assessment of the ECB’s exposures to financial risks, the Governing Council decided to transfer €48 million to the ECB’s provision for financial risks, increasing it to its maximum permitted level of €7.6 billion. The profit resulting from the ECB’s assets and liabilities in a given financial year can be used to absorb potential losses incurred in the same year. In 2020 the ECB’s profit was €1.6\\xa0billion (see Section 1.3.3 “Profit and Loss Account”). 1.3.3 Profit and Loss Account After several years of increases in the ECB’s annual profit, mainly owing to rising interest income generated on foreign reserve assets and on securities held for monetary policy purposes, this trend reversed in 2020 (Chart 13).  In 2020 the ECB’s profit was €1,643\\xa0million (2019: €2,366\\xa0million). The decrease of €722\\xa0million compared with 2019 was mainly due to lower net interest income.   Chart\\xa013 Main components of the ECB’s Profit and Loss Account  (EUR millions)   Source: ECB.Note: “Other income and expenses” consists of “Net income/expense from fees and commissions”, “Income from equity shares and participating interests”, “Other income” and “Other expenses”.     The net interest income of the ECB decreased by €669\\xa0million to €2,017\\xa0million (Chart\\xa014), mainly owing to lower interest income earned on foreign reserve assets. Interest income earned on securities held for monetary policy purposes also declined.  Chart\\xa014 Net interest income  (EUR millions)   Source: ECB.     Net interest income on foreign reserve assets decreased by €577\\xa0million to €474\\xa0million, mainly as a result of the lower interest income earned on securities denominated in US dollars. Owing to the decreasing trend in US dollar bond yields throughout most of 2019 and 2020 (Chart 15), in particular for short maturities, the ECB acquired securities with lower yields, thereby decreasing the average yield of its US dollar portfolio compared to the previous year. This had a negative impact on the interest income earned on this portfolio during 2020.  Chart\\xa015 Two-year sovereign bond yields in the United States, Japan and China  (percentages per annum; month-end data)   Source: ECB.     Net interest income generated on securities held for monetary policy purposes in 2020 amounted to €1,337 million, which was €110 million lower than in 2019 (Chart 16). The main driver of the decrease was the reduction in net interest income on the SMP, CBPP1 and CBPP2 portfolios by €118 million to €193 million, owing to the decline in the size of these portfolios as a result of the maturing securities. In addition, the negative net interest income on the PEPP portfolio of €41 million also contributed to the overall decrease in the interest income from monetary policy-related securities. The negative net interest income on the PEPP portfolio was due to the negative average yield on the purchased public sector securities as a result of low euro area sovereign bond yields in 2020 (Chart 17). At the same time, net interest income arising from the APP securities increased by only €48 million to €1,184 million. The increase stemmed mainly from the PSPP portfolio, owing to the lower premium amortisation on the PSPP holdings acquired in previous years.[16] In 2020 securities held for monetary policy purposes generated around 66% of the ECB’s net interest income.  Chart\\xa016 Net interest income on securities held for monetary policy purposes  (EUR millions)   Source: ECB.     Chart\\xa017 Ten-year sovereign bond yields in the euro area  (percentages per annum; month-end data)   Source: ECB.     Both the interest income on the ECB’s share of total euro banknotes in circulation and the interest expense related to the remuneration of NCBs’ claims in respect of foreign reserves transferred were zero as a result of the 0% interest rate used by the Eurosystem in its main refinancing operations (MROs) in 2020. Net other interest income increased, mainly owing to higher interest income on the deposits accepted by the ECB, which was largely a result of the higher average balances during 2020. This increase more than compensated for the lower interest income earned on the own funds portfolio as a result of the low-yield environment in the euro area (Chart 17).  The net result of financial operations and write-downs on financial assets amounted to a gain of €316\\xa0million (Chart\\xa018). This result was €139\\xa0million higher than in 2019, mainly owing to higher net realised price gains. The increase in net realised price gains was mainly due to higher price gains on sales of US dollar-denominated securities, as their market value was positively affected by the decrease in US dollar bond yields during the year.  Chart\\xa018 Realised results and write-downs  (EUR millions)   Source: ECB.    In addition, as at 31 December 2020, an amount of €48 million was transferred to the ECB’s provision for financial risks. After taking the results of its risk assessment into account, the Governing Council decided to increase the size of the provision for financial risks to €7,584 million, increasing it to its upper limit as determined by the paid-up capital of the euro area NCBs. By contrast, in 2019 an amount of €84 million was released in order to comply with the upper limit (see Section 1.3.2 “Financial resources”).  The total operating expenses of the ECB, including depreciation and banknote production services, increased by €43\\xa0million to €1,199\\xa0million (Chart\\xa019). The increase compared to 2019 was mainly due to higher staff costs as a result of (i) the higher average number of staff in 2020, predominately in banking supervision, and (ii) the higher expense in relation to post-employment benefits, resulting from the use of a lower discount rate for the actuarial valuation at the end of 2020. Administrative expenses decreased, primarily in relation to supervisory tasks, mainly owing to reduced external consultancy support following the finalisation of the Targeted Review of Internal Models (TRIM) and reduced business travel owing to a substantial streamlining of onsite supervisory activities in view of the COVID-19 pandemic. This decrease was partially offset by higher information technology (IT) expenses owing to the significant demand for IT services in connection with remote working in 2020. Banking supervision-related expenses are fully covered by fees levied on the supervised entities. Based on the actual expenses incurred by the ECB in the performance of its banking supervisory tasks, supervisory fee income for 2020 stood at €535 million.[17]   Chart\\xa019 Operating expenses and supervisory fee income  (EUR millions)   Source: ECB.    1.4 Risk management Risk management is a critical part of the ECB’s activities and is conducted through a continuous process of (i)\\xa0risk identification and assessment, (ii)\\xa0review of the risk strategy and policies, (iii)\\xa0implementation of risk mitigating actions, and (iv)\\xa0risk monitoring and reporting, all of which are supported by effective methodologies, processes and systems.  Figure\\xa02 Risk management cycle     The following sections focus on the risks, their sources and the applicable risk control frameworks. 1.4.1 Financial risks The Executive Board proposes policies and procedures that ensure an appropriate level of protection against the financial risks to which the ECB is exposed. The Risk Management Committee (RMC), which comprises experts from Eurosystem central banks, contributes to the monitoring, measuring and reporting of financial risks related to the balance sheet of the Eurosystem, and it defines and reviews the associated methodologies and frameworks. In this way, the RMC helps the decision-making bodies to ensure an appropriate level of protection for the Eurosystem. Financial risks arise from the ECB’s core activities and associated exposures. The risk control frameworks and limits that the ECB uses to manage its risk profile differ across types of operation, reflecting the policy or investment objectives of the different portfolios and the risk characteristics of the underlying assets. To monitor and assess the risks, the ECB relies on a number of risk estimation techniques developed by its experts. These techniques are based on a joint market and credit risk simulation framework. The core modelling concepts, techniques and assumptions underlying the risk measures draw on industry standards and available market data. The risks are typically quantified as the expected shortfall (ES),[18] estimated at the 99% confidence level over a one-year horizon. Two approaches are used to calculate risks: (i)\\xa0the accounting approach, under which the ECB’s revaluation accounts are considered as a buffer in the calculation of risk estimates in line with all applicable accounting rules; and (ii)\\xa0the financial approach, under which the revaluation accounts are not considered as a buffer in the risk calculation. The ECB also calculates other risk measures at different confidence levels, performs sensitivity and stress scenario analyses, and assesses longer-term projections of exposures and income to maintain a comprehensive picture of the risks.[19]  The total risks of the ECB increased during the year. At the end of 2020 the total financial risks for all the ECB’s portfolios combined, as measured by the ES at the 99% confidence level over a one-year horizon under the accounting approach, stood at €12.8\\xa0billion, which was €4.6\\xa0billion higher than the risks estimated as at the end\\xa0of 2019 (Chart 20). The increase in estimated risks is mainly attributable to the net asset purchases under both the PEPP and the APP.   Chart\\xa020 Total financial risks (ES 99% accounting approach)  (EUR billions)   Source: ECB.     Credit risk arises from the ECB’s monetary policy portfolios, its euro-denominated own funds portfolio and its foreign reserve holdings. While securities held for monetary policy purposes are valued at amortised cost subject to impairment and are therefore, in the absence of sales, not subject to price changes associated with credit migrations, they are still subject to credit default risk. Euro-denominated own funds and foreign reserves are valued at market prices and, as such, are subject to credit migration and default risk. Credit risk increased compared with the previous year owing to the expansion of the ECB’s Balance Sheet through purchases of securities under the APP and the PEPP. Credit risk is mitigated mainly through the application of eligibility criteria, due diligence procedures and limits that differ across portfolios.  Currency and commodity risks arise from the ECB’s foreign currency and gold holdings. The currency risk increased compared to the previous year owing to lower currency revaluation accounts, which act as buffers against adverse exchange rate movements. In view of the policy role of these assets, the ECB does not hedge the related currency and commodity risks. Instead, these risks are mitigated through the existence of revaluation accounts and the diversification of the holdings across different currencies and gold.  The ECB’s foreign reserves and euro-denominated own funds are mainly invested in fixed income securities and are subject to mark-to-market interest rate risk, given that they are valued at market prices. The ECB’s foreign reserves are mainly invested in assets with relatively short maturities (see Chart\\xa07 in Section\\xa01.3.1 “Balance Sheet”), while the assets in the own funds portfolio generally have longer maturities (see Chart\\xa09 in Section\\xa01.3.1 “Balance Sheet”). This risk component, as measured under the accounting approach, increased slightly compared to 2019, reflecting developments in market conditions. The mark-to-market interest rate risk of the ECB is mitigated through asset allocation policies and the revaluation accounts. The ECB is also subject to interest rate risk arising from mismatches between the interest rate earned on its assets and the interest rate paid on its liabilities, which has an impact on its net interest income. This risk is not directly linked to any particular portfolio but rather to the structure of the ECB’s Balance Sheet as a whole and, in particular, the existence of maturity and yield mismatches between assets and liabilities. It is monitored by means of projections of the ECB’s profitability, which indicate that the ECB is expected to continue to earn net interest income in the coming years. This type of risk is managed through asset allocation policies and is further mitigated by the existence of unremunerated liabilities on the ECB’s Balance Sheet. 1.4.2 Operational risk The Executive Board is responsible for and approves the ECB’s operational risk[20] management (ORM) policy and framework. The Operational Risk Committee (ORC) supports the Executive Board in the performance of its role in overseeing the management of operational risks. ORM is an integral part of the ECB’s governance structure[21] and management processes. The main objective of the ECB’s ORM framework is to contribute to ensuring that the ECB achieves its mission and objectives, while protecting its reputation and assets against loss, misuse and damage. Under the ORM framework, each business area is responsible for identifying, assessing, responding to, reporting on and monitoring its operational risks, incidents and controls. In this context, the ECB’s risk tolerance policy provides guidance with regard to risk response strategies and risk acceptance procedures. It is linked to a five-by-five risk matrix based on impact and likelihood grading scales using quantitative and qualitative criteria. The environment in which the ECB operates is exposed to increasingly complex threats and there are a wide range of operational risks associated with the ECB’s day-to-day activities. The main areas of concern for the ECB include a wide spectrum of non-financial risks resulting from people, information, systems, processes and external third-party providers. Consequently, the ECB has put in place processes to facilitate ongoing and effective management of its operational risks and to integrate risk information into the decision-making process. Moreover, the ECB focuses on enhancing its resilience. As such, response structures and contingency plans have been established to ensure the continuity of critical business functions in the event of any disruption or crisis (e.g. the COVID-19 pandemic). 1.4.3 Conduct risk The ECB has a dedicated Compliance and Governance Office as a key risk management control function to strengthen the ECB’s governance framework in order to address conduct risk[22] at the ECB. Its purpose is to support the Executive Board in protecting the integrity and reputation of the ECB, to promote ethical standards of behaviour and to strengthen the ECB’s accountability and transparency. A high-level ECB Ethics Committee provides advice and guidance to high-level ECB officials on integrity and conduct matters and supports the Governing Council in managing related risks at executive level appropriately and coherently. 2 Financial statements of the ECB 2.1 Balance Sheet as at 31 December 2020     Notes: Totals in the financial statements and in the tables included in the notes may not add up due to rounding. The figures 0 and (0) indicate positive or negative amounts rounded to zero, while a dash (-) indicates zero.     2.2 Profit and Loss Account for the year ending 31 December 2020      Frankfurt am Main, 9\\xa0February\\xa02021European Central Bank Christine LagardePresident 2.3 Accounting policies Form and presentation of the financial statements The financial statements of the ECB have been drawn up in accordance with the following accounting policies,[23] which the Governing Council of the ECB considers to achieve a fair presentation of the financial statements, reflecting at the same time the nature of central bank activities. Accounting principles The following accounting principles have been applied: economic reality and transparency, prudence, recognition of post-balance sheet events, materiality, going concern, the accruals principle, consistency and comparability. Recognition of assets and liabilities An asset or liability is only recognised in the Balance Sheet when it is probable that any associated future economic benefit will flow to or from the ECB, substantially all of the associated risks and rewards have been transferred to the ECB, and the cost or value of the asset or the amount of the obligation can be measured reliably. Basis of accounting The accounts have been prepared on a historical cost basis, modified to include the market valuation of marketable securities (other than securities currently held for monetary policy purposes), gold and all other on-balance-sheet and off-balance-sheet assets and liabilities denominated in foreign currency. Transactions in financial assets and liabilities are reflected in the accounts on the basis of the date on which they were settled. With the exception of spot transactions in securities, transactions in financial instruments denominated in foreign currency are recorded in off-balance-sheet accounts on the trade date. At the settlement date the off-balance-sheet entries are reversed, and transactions are booked on-balance-sheet. Purchases and sales of foreign currency affect the net foreign currency position on the trade date, and realised results arising from sales are also calculated on that date. Accrued interest, premiums and discounts related to financial instruments denominated in foreign currency are calculated and recorded daily, and the foreign currency position is also affected daily by these accruals. Gold and foreign currency assets and liabilities Assets and liabilities denominated in foreign currency are converted into euro at the exchange rate prevailing on the balance sheet date. Income and expenses are converted at the exchange rate prevailing on the recording date. The revaluation of foreign exchange assets and liabilities, including on-balance-sheet and off-balance-sheet instruments, is performed on a currency-by-currency basis. Revaluation to the market price for assets and liabilities denominated in foreign currency is treated separately from the exchange rate revaluation. Gold is valued at the market price prevailing at the balance sheet date. No distinction is made between the price and currency revaluation differences for gold. Instead, a single gold valuation is accounted for on the basis of the price in euro per fine ounce of gold, which, for the year ending 31 December 2020, was derived from the exchange rate of the euro against the US dollar on 31 December 2020. The special drawing right (SDR) is defined in terms of a basket of currencies and its value is determined by the weighted sum of the exchange rates of five major currencies (the US dollar, euro, Chinese renminbi, Japanese yen and pound sterling). The ECB’s holdings of SDRs were converted into euro using the exchange rate of the euro against the SDR as at 31 December 2020. Securities Securities held for monetary policy purposesSecurities currently held for monetary policy purposes are accounted for at amortised cost subject to impairment. Other securitiesMarketable securities (other than securities currently held for monetary policy purposes) and similar assets are valued either at the mid-market prices or on the basis of the relevant yield curve prevailing on the balance sheet date, on a security-by-security basis. Options embedded in securities are not separated for valuation purposes. For the year ending 31 December 2020, mid-market prices on 30\\xa0December\\xa02020 were used. Illiquid equity shares and any other equity instruments held as permanent investments are valued at cost subject to impairment. Income recognition Income and expenses are recognised in the period in which they are earned or incurred.[24] Realised gains and losses resulting from the sale of foreign currency, gold and securities are recorded in the Profit and Loss Account. Such realised gains and losses are calculated by reference to the average cost of the respective asset. Unrealised gains are not recognised as income and are transferred directly to a revaluation account. Unrealised losses are recorded in the Profit and Loss Account if, at the year-end, they exceed previous revaluation gains accumulated in the corresponding revaluation account. Such unrealised losses on any one security or currency or on gold are not netted against unrealised gains on other securities or currencies or gold. In the event of such unrealised losses on any item recorded in the Profit and Loss Account, the average cost of that item is reduced to the year-end exchange rate or market price. Unrealised losses on interest rate swaps that are not cleared through a central clearing counterparty are recorded in the Profit and Loss Account at the year-end and amortised in subsequent years. Impairment losses are recorded in the Profit and Loss Account and are not reversed in subsequent years unless the impairment decreases and the decrease can be related to an observable event that occurred after the impairment was first recorded. Premiums or discounts arising on securities are amortised over the securities’ remaining contractual life. Reverse transactions Reverse transactions are operations whereby the ECB buys or sells assets under a repurchase agreement or conducts credit operations against collateral. Under a repurchase agreement, securities are sold for cash with a simultaneous agreement to repurchase them from the counterparty at an agreed price on a set future date. Repurchase agreements are recorded as collateralised deposits on the liability side of the Balance Sheet. Securities sold under such an agreement remain on the Balance Sheet of the ECB. Under a reverse repurchase agreement, securities are bought for cash with a simultaneous agreement to sell them back to the counterparty at an agreed price on a set future date. Reverse repurchase agreements are recorded as collateralised loans on the asset side of the Balance Sheet, but are not included in the ECB’s security holdings. Reverse transactions (including securities lending transactions) conducted under a programme offered by a specialised institution are recorded on the Balance Sheet only where collateral has been provided in the form of cash and this cash remains uninvested. Off-balance-sheet instruments Currency instruments, namely foreign exchange forward transactions, forward legs of foreign exchange swaps and other currency instruments involving an exchange of one currency for another at a future date, are included in the net foreign currency position for the purpose of calculating foreign exchange gains and losses. Interest rate instruments are revalued on an item-by-item basis. Daily changes in the variation margin of open interest rate futures contracts, as well as interest rate swaps that are cleared via a central counterparty, are recorded in the Profit and Loss Account. The valuation of forward transactions in securities and of interest rate swaps that are not cleared via a central counterparty is carried out by the ECB based on generally accepted valuation methods using observable market prices and rates, as well as discount factors from the settlement dates to the valuation date. Post-balance sheet events The values of assets and liabilities are adjusted for events that occur between the annual balance sheet date and the date on which the Executive Board authorises the submission of the ECB’s Annual Accounts to the Governing Council for approval, if such events materially affect the condition of assets and liabilities at the balance sheet date. Important post-balance sheet events that do not affect the condition of assets and liabilities at the balance sheet date are disclosed in the notes. Intra-ESCB balances/intra-Eurosystem balances Intra-ESCB balances result primarily from cross-border payments in the European Union (EU) that are settled in central bank money in euro. These transactions are for the most part initiated by private entities (i.e.\\xa0credit institutions, corporations and individuals). They are settled in TARGET2\\xa0– the Trans-European Automated Real-time Gross settlement Express Transfer system\\xa0– and give rise to bilateral balances in the TARGET2 accounts of EU central banks. These bilateral balances are netted and then assigned to the ECB on a daily basis, leaving each national central bank (NCB) with a single net bilateral position vis-à-vis the ECB only. Payments conducted by the ECB and settled in TARGET2 also affect the single net bilateral positions. These positions in the books of the ECB represent the net claim or liability of each NCB against the rest of the European System of Central Banks (ESCB). Intra-Eurosystem balances of euro area NCBs vis-à-vis the ECB arising from TARGET2, as well as other intra-Eurosystem balances denominated in euro (e.g.\\xa0the ECB’s interim profit distribution to NCBs), are presented on the Balance Sheet of the ECB as a single net asset or liability position under either “Other claims within the Eurosystem (net)” or “Other liabilities within the Eurosystem (net)”. Intra-ESCB balances of non-euro area NCBs vis-à-vis the ECB, arising from their participation in TARGET2,[25] are disclosed under “Liabilities to non-euro area residents denominated in euro”. Intra-Eurosystem balances arising from the allocation of euro banknotes within the Eurosystem are included as a single net asset under “Claims related to the allocation of euro banknotes within the Eurosystem” (see “Banknotes in circulation” below). Intra-Eurosystem balances arising from the transfer of foreign reserve assets to the ECB by NCBs joining the Eurosystem are denominated in euro and reported under “Liabilities equivalent to the transfer of foreign reserves”. Fixed assets Fixed assets, including intangible assets, but excluding land and works of art, are valued at cost less depreciation. Land and works of art are valued at cost. The ECB’s main building is valued at cost less depreciation subject to impairment. For the depreciation of the ECB’s main building, costs are assigned to the appropriate asset components, which are depreciated in accordance with their estimated useful lives. Depreciation is calculated on a straight-line basis over the expected useful life of the asset, beginning in the quarter after the asset is available for use. The useful lives applied for the main asset classes are as follows:  The depreciation period for capitalised refurbishment expenditure relating to the ECB’s existing rented premises is adjusted to take account of any events that have an impact on the expected useful life of the affected asset. The ECB performs an annual impairment test of its main building and right-of-use assets relating to office buildings (see “Leases” below). If an impairment indicator is identified, and it is assessed that the asset may be impaired, the recoverable amount is estimated. An impairment loss is recorded in the Profit and Loss Account if the recoverable amount is less than the net book value. Fixed assets costing less than €10,000 are written off in the year of acquisition. Fixed assets that comply with the capitalisation criteria, but are still under construction or development, are recorded under the heading “Assets under construction”. The related costs are transferred to the relevant fixed asset headings once the assets are available for use. Leases For all leases involving a tangible asset, the related right-of-use asset and lease liability are recognised on the Balance Sheet at the lease commencement date and included under “Tangible and intangible fixed assets” and “Sundry” (liabilities), respectively. Where leases comply with the capitalisation criteria, but the asset involved is still under construction or adaptation, the incurred costs before the lease commencement date are recorded under the heading “Assets under construction”. The related right-of-use asset and lease liability are recognised under the relevant fixed asset headings once the asset is available for use (lease commencement date). Right-of-use assets are valued at cost less depreciation. In addition, right-of-use assets relating to office buildings are subject to impairment (regarding annual impairment test, see “Fixed assets” above). Depreciation is calculated on a straight-line basis from the commencement date to either the end of the useful life of the right-of-use asset or the end of the lease term, whichever is earlier. The lease liability is initially measured at the present value of the future lease payments (comprising only lease components), discounted using the ECB's incremental borrowing rate. Subsequently, the lease liability is measured at amortised cost using the effective interest method. The related interest expense is recorded in the Profit and Loss Account under “Other interest expense”. When there is a change in future lease payments arising from a change in an index or other reassessment of the existing contract, the lease liability is remeasured. Any such remeasurement results in a corresponding adjustment to the carrying amount of the right-of-use asset. Short-term leases with a duration of 12 months or less and leases of low-value assets below €10,000 (consistent with the threshold used for the recognition of fixed assets) are recorded as an expense in the Profit and Loss Account. The ECB’s post-employment benefits, other long-term benefits and termination benefits The ECB operates defined benefit plans for its staff and the members of the Executive Board, as well as for the members of the Supervisory Board employed by the ECB. The staff pension plan is funded by assets held in a long-term employee benefit fund. The compulsory contributions made by the ECB and the staff are reflected in the defined benefit pillar of the plan. Staff can make additional contributions on a voluntary basis in a defined contribution pillar that can be used to provide additional benefits.[26] These additional benefits are determined by the amount of voluntary contributions together with the investment returns arising from those contributions. Unfunded arrangements are in place for the post-employment and other long-term benefits of members of the Executive Board and members of the Supervisory Board employed by the ECB. For staff, unfunded arrangements are in place for post-employment benefits other than pensions and for other long-term benefits and termination benefits. Net defined benefit liabilityThe liability recognised in the Balance Sheet under “Sundry” (liabilities) in respect of the defined benefit plans, including other long-term benefits and termination benefits, is the present value of the defined benefit obligation at the balance sheet date, less the fair value of plan assets used to fund the related obligation. The defined benefit obligation is calculated annually by independent actuaries using the projected unit credit method. The present value of the defined benefit obligation is calculated by discounting the estimated future cash flows using a rate which is determined by reference to market yields at the balance sheet date on high-quality euro-denominated corporate bonds that have similar terms to maturity to the related obligation. Actuarial gains and losses can arise from experience adjustments (where actual outcomes are different from the actuarial assumptions previously made) and changes in actuarial assumptions. Net defined benefit costThe net defined benefit cost is split into components reported in the Profit and Loss Account and remeasurements in respect of post-employment benefits shown in the Balance Sheet under “Revaluation accounts”. The net amount charged to the Profit and Loss Account comprises:  the current service cost of the defined benefits accruing for the year; the past service cost of the defined benefits resulting from a plan amendment; net interest at the discount rate on the net defined benefit liability; remeasurements in respect of other long-term benefits and termination benefits of a long-term nature, if any, in their entirety.  The net amount shown under “Revaluation accounts” comprises the following items:  actuarial gains and losses on the defined benefit obligation; the actual return on plan assets, excluding amounts included in the net interest on the net defined benefit liability; any change in the effect of the asset ceiling, excluding amounts included in the net interest on the net defined benefit liability.  These amounts are valued annually by independent actuaries to establish the appropriate liability in the financial statements. Banknotes in circulation The ECB and the euro area NCBs, which together comprise the Eurosystem, issue euro banknotes.[27] The total value of euro banknotes in circulation is allocated to the Eurosystem central banks on the last working day of each month in accordance with the banknote allocation key.[28] The ECB has been allocated a share of 8% of the total value of euro banknotes in circulation, which is disclosed in the Balance Sheet under the liability item “Banknotes in circulation”. The ECB’s share of the total euro banknote issue is backed by claims on the NCBs. These claims, which bear interest,[29] are disclosed under the sub-item “Intra-Eurosystem claims: claims related to the allocation of euro banknotes within the Eurosystem” (see “Intra-ESCB balances/intra-Eurosystem balances” above). Interest income on these claims is included in the Profit and Loss Account under the item “Interest income arising from the allocation of euro banknotes within the Eurosystem”. Interim profit distribution An amount that is equal to the sum of the ECB’s income on euro banknotes in circulation and income arising from the securities held for monetary policy purposes purchased under (a)\\xa0the Securities Markets Programme, (b)\\xa0the third covered bond purchase programme, (c)\\xa0the asset-backed securities purchase programme, (d)\\xa0the public sector purchase programme, and (e) the pandemic emergency purchase programme is distributed in January of the following year by means of an interim profit distribution, unless otherwise decided by the Governing Council.[30] It is distributed in full unless it is higher than the ECB’s net profit for the year and subject to any decisions by the Governing Council to make transfers to the provision for financial risks. The Governing Council may also decide to reduce the amount of the income on euro banknotes in circulation to be distributed in January by the amount of the costs incurred by the ECB in connection with the issue and handling of euro banknotes. Reclassifications In accordance with Article\\xa021 of the Statute of the ESCB, the ECB may act as fiscal agent for Union institutions, bodies, offices or agencies, central governments, regional, local or other public authorities, other bodies governed by public law, or public undertakings of Member States. In this context the ECB accepts deposits from the European Financial Stability Facility (EFSF) and the European Stability Mechanism (ESM), which in the 2019 Annual Accounts were presented under the heading “Other liabilities”. With effect from 1 July 2020 Eurostat revised the statistical classification of these institutions from “other financial intermediaries” to the “general government” sector.[31] As a result, as of that date the related amounts are presented under the heading “General government”. The 2019 comparative amounts have been adjusted as follows:  Changes to accounting policies In 2020 there were no changes to the accounting policies applied by the ECB. Other issues In accordance with Article\\xa027 of the Statute of the ESCB, and on the basis of a recommendation of the Governing Council, the EU Council has approved the appointment of Baker Tilly GmbH & Co. KG Wirtschaftsprüfungsgesellschaft, Düsseldorf (Federal Republic of Germany) as the external auditors of the ECB for a five-year period up to the end of the financial year 2022. This five-year period can be extended for up to two additional financial years. 2.4 Notes on the Balance Sheet Note 1 - Gold and gold receivables As at 31 December 2020 the ECB held 16,229,522 ounces[32] of fine gold, the market value of which amounted to €25,056\\xa0million (2019: €21,976\\xa0million). No gold operations took place in 2020 and the ECB’s holdings therefore remained unchanged compared with their level as at 31\\xa0December\\xa02019. The increase in the euro equivalent value of these holdings was due to the rise in the market price of gold in euro terms (see “Gold and foreign currency assets and liabilities” in Section 2.3 “Accounting policies” and note\\xa015 “Revaluation accounts”). Note 2 - Claims on non-euro area and euro area residents denominated in foreign currency Note 2.1 - Receivables from the IMF This asset represents the ECB’s holdings of SDRs and amounted to €680\\xa0million as at 31 December 2020 (2019: €710\\xa0million). It arises as the result of a two-way SDR buying and selling arrangement with the International Monetary Fund (IMF), whereby the IMF is authorised to arrange sales or purchases of SDRs against euro, on behalf of the ECB, within minimum and maximum holding levels. For accounting purposes, SDRs are treated as a foreign currency (see “Gold and foreign currency assets and liabilities” in Section 2.3 “Accounting policies”). The decrease in the euro equivalent value of the ECB’s holdings of SDRs was due to the depreciation of the SDR against the euro during 2020. Note 2.2 - Balances with banks and security investments, external loans and other external assets; and claims on euro area residents denominated in foreign currency These two items consist of balances with banks and loans denominated in foreign currency, and investments in securities denominated in US dollars, Japanese yen and Chinese renminbi.  The total value of these items decreased in 2020, mainly owing to the depreciation of the US dollar against the euro. The ECB’s net foreign currency holdings[33] as at 31 December 2020 were as follows:  No foreign exchange interventions took place during 2020. Note 3 - Claims on non-euro area residents denominated in euro Note 3.1 - Balances with banks, security investments and loans As at 31 December 2020 this item consisted of a claim amounting to €1,830 million in relation to liquidity facility arrangements between the Eurosystem and non-euro area central banks. Under these arrangements, the Eurosystem provides euro liquidity to non-euro area central banks in exchange for eligible collateral[34] to address euro liquidity needs in their jurisdictions in case of market dysfunction and thereby minimise the risk of adverse spillover effects on euro area financial markets and economies.  Note 4 - Other claims on euro area credit institutions denominated in euro As at 31 December 2020 this item consisted of current account balances with euro area residents amounting to €81\\xa0million (2019: €109\\xa0million). Note 5 - Securities of euro area residents denominated in euro Note 5.1 - Securities held for monetary policy purposes As at 31 December 2020 this item consisted of securities acquired by the ECB within the scope of the three covered bond purchase programmes (CBPPs), the Securities Markets Programme (SMP), the asset-backed securities purchase programme (ABSPP), the public sector purchase programme (PSPP) and the pandemic emergency purchase programme (PEPP).      1) Further eligibility criteria for the specific programmes can be found in the Governing Council’s decisions2) Only public debt securities issued by five euro area treasuries were purchased under the SMP. 3) The ECB does not acquire securities under the corporate sector purchase programme (CSPP).4) A waiver of the eligibility requirements was granted for securities issued by the Greek Government.    In 2020 the Eurosystem continued its net purchases under the asset purchase programme (APP)[35] at a monthly pace of €20 billion on average. In March 2020 the Governing Council decided to add a temporary envelope of additional net asset purchases of €120 billion until the end of the year. The Governing Council expects net purchases to run for as long as necessary to reinforce the accommodative impact of its policy rates, and to end shortly before it starts raising the key ECB interest rates. The Governing Council also intends to continue the reinvestments for an extended period of time past the date when the Governing Council starts raising the key ECB interest rates, and in any case for as long as necessary to maintain favourable liquidity conditions and an ample degree of monetary accommodation. In addition, in March 2020 the Eurosystem launched a temporary pandemic emergency purchase programme (PEPP)[36], with an initial envelope of €750 billion, to ease the overall monetary policy stance and to counter the severe risks to the monetary policy transmission mechanism and the outlook for the euro area posed by the coronavirus (COVID-19) pandemic. Purchases include all the asset categories eligible under the APP[37] and were initially envisaged to continue until the end of 2020. The Governing Council increased the envelope for the PEPP by €600 billion in June 2020 and by an additional €500 billion in December 2020, increasing it to a total of €1,850 billion. The horizon for net purchases was also extended to at least the end of March 2022 and, in any case, until the Governing Council judges that the coronavirus crisis phase is over. Furthermore, the Governing Council intends to reinvest the principal payments from maturing securities purchased under the PEPP until at least the end of 2023. The future roll-off of the PEPP portfolio will be managed to avoid interference with the appropriate monetary policy stance. The securities purchased under these programmes are valued on an amortised cost basis subject to impairment (see “Securities” in Section 2.3 “Accounting policies”). The amortised cost of the securities held by the ECB and their market value[38] (which is not recorded on the Balance Sheet or in the Profit and Loss Account and is provided for comparison purposes only) are as follows:  Securities redemptions led to a decrease in the amortised cost value of the portfolios held under the first and second CBPPs, as well as under the SMP.  The Governing Council assesses on a regular basis the financial risks associated with the securities held under these programmes. Impairment tests are conducted on an annual basis, using data as at the year-end, and are approved by the Governing Council. In these tests, impairment indicators are assessed separately for each programme. In cases where impairment indicators are observed, further analysis is performed to confirm that the cash flows of the underlying securities have not been affected by an impairment event. Based on the results of this year’s impairment tests, no losses have been recorded by the ECB for the securities held in its monetary policy portfolios in 2020. Note 6 - Intra-Eurosystem claims Note 6.1 - Claims related to the allocation of euro banknotes within the Eurosystem This item consists of the claims of the ECB vis-à-vis the euro area NCBs relating to the allocation of euro banknotes within the Eurosystem (see “Banknotes in circulation” in Section 2.3 “Accounting policies”) and as at 31 December 2020 amounted to €114,761\\xa0million (2019: €103,420\\xa0million). The remuneration of these claims is calculated daily at the latest available marginal interest rate used by the Eurosystem in its tenders for main refinancing operations[39] (see note\\xa023.2 “Interest income arising from the allocation of euro banknotes within the Eurosystem”). Note 7 - Other assets Note 7.1 - Tangible and intangible fixed assets These assets comprised the following items on 31 December 2020:  In respect of the ECB’s main building and right-of-use office buildings, an impairment test was conducted at the end of the year and no impairment loss has been recorded. Note 7.2 - Other financial assets This item consists mainly of the ECB’s own funds portfolio, which predominantly consists of investments of the ECB’s financial resources, namely the paid-up capital and amounts held in the reserves and the provision for financial risks. It also includes 3,211\\xa0shares in the Bank for International Settlements (BIS) at the acquisition cost of €42\\xa0million and other current accounts denominated in euro. The components of this item are as follows:  The net increase in this item in 2020 was mainly due to (a) the reinvestment of interest income generated on the ECB’s own funds portfolio and (b) the increase in the market value of the securities held in this portfolio. Note 7.3 - Off-balance-sheet instruments revaluation differences This item is composed of valuation changes in swap and forward transactions in foreign currency that were outstanding on 31 December 2020 (see note\\xa020 “Foreign exchange swap and forward transactions”). These valuation changes amounted to €388\\xa0million (2019:\\xa0€619\\xa0million) and are the result of the conversion of such transactions into their euro equivalents at the exchange rates prevailing on the balance sheet date, compared with the euro values resulting from the conversion of the transactions at the average cost of the respective foreign currency on that date (see “Off-balance-sheet instruments” and “Gold and foreign currency assets and liabilities” in Section 2.3 “Accounting policies”). Note 7.4 - Accruals and prepaid expenses On 31 December 2020 this item stood at €3,390\\xa0million (2019:\\xa0€2,572\\xa0million). It comprised mainly accrued coupon interest on securities, including outstanding interest paid at acquisition, amounting to €2,757\\xa0million (2019:\\xa0€2,431\\xa0million) (see note\\xa02.2 “Balances with banks and security investments, external loans and other external assets; and claims on euro area residents denominated in foreign currency”, note\\xa05 “Securities of euro area residents denominated in euro” and note\\xa07.2 “Other financial assets”). This item also included an amount of €514 million corresponding to the supervisory fees to be received for the fee period 2020. This amount will be collected in the second quarter of 2021. From 2020 onwards, fees will be levied ex post on the basis of actual costs.[40] However, in 2020, for the last time, the amount of supervisory fees was adjusted for a surplus carried forward from the previous fee period (see note\\xa026 “Net income/expense from fees and commissions”). This item also includes (a)\\xa0accrued income from common Eurosystem projects (see note\\xa028 “Other income”); (b)\\xa0miscellaneous prepayments; and (c)\\xa0accrued interest income on other financial assets and liabilities. Note 7.5 - Sundry On 31 December 2020 this item amounted to €1,970\\xa0million (2019: €2,221\\xa0million) and mainly comprised the accrued amount of the ECB’s interim profit distribution of €1,260\\xa0million (2019: €1,431\\xa0million) (see “Interim profit distribution” in Section 2.3 “Accounting policies” and note 12.2 “Other liabilities within the Eurosystem (net)”). It also included balances with a value of €692\\xa0million (2019: €757\\xa0million) related to swap and forward transactions in foreign currency outstanding on 31\\xa0December 2020 that arose from the conversion of such transactions into their euro equivalents at the respective currency’s average cost on the balance sheet date, compared with the euro values at which the transactions were initially recorded (see “Off-balance-sheet instruments” in Section 2.3 “Accounting policies”). Note 8 - Banknotes in circulation This item consists of the ECB’s share (8%) of total euro banknotes in circulation (see “Banknotes in circulation” in Section 2.3 “Accounting policies”) and as at 31\\xa0December 2020 amounted to €114,761\\xa0million (2019: €103,420\\xa0million). Note 9 - Other liabilities to euro area credit institutions denominated in euro The Eurosystem central banks have the possibility of accepting cash as collateral in their PSPP securities lending facilities without having to reinvest it. In the case of the ECB, these operations are conducted via a specialised institution. The same conditions apply to the public sector PEPP holdings. As at 31 December 2020 the outstanding value of such lending transactions against cash collateral conducted with euro area credit institutions was €2,559\\xa0million (2019:\\xa0€1,325\\xa0million). Cash received as collateral was transferred to TARGET2 accounts. As the cash remained uninvested at the year-end, these transactions were recorded on the Balance Sheet (see “Reverse transactions” in Section 2.3 “Accounting policies”).[41] Note 10 - Liabilities to other euro area residents denominated in euro Note 10.1 - General government As at 31 December 2020 this item amounted to €10,012\\xa0million (2019: €18,198\\xa0million) and included deposits of the European Stability Mechanism (ESM) and the European Financial Stability Facility (EFSF) (see “Reclassifications” in Section 2.3 “Accounting policies”).  Note 10.2 – Other liabilities As at 31 December 2020 this item amounted to €3,688\\xa0million (2019: €2,268\\xa0million). This item includes deposits or payments of funds accepted by the ECB and made by or on behalf of the participants in EURO1 and RT1[42] which are used as a guarantee fund for EURO1 or to support settlement in RT1. Note 11 - Liabilities to non-euro area residents denominated in euro As at 31 December 2020 this item amounted to €11,567\\xa0million (2019:\\xa0€7,245\\xa0million). The largest component was an amount of €4,685\\xa0million (2019:\\xa0€3,271\\xa0million) consisting of TARGET2 balances of non-euro area NCBs vis-à-vis the ECB (see “Intra-ESCB balances/intra-Eurosystem balances” in Section 2.3 “Accounting policies”). The increase in these balances in 2020 corresponds to the net payments flow from account holders in euro area countries to account holders in non-euro area countries which are settled via TARGET2. This item also includes an amount of €3,457\\xa0million (2019: €3,350\\xa0million) arising from the standing reciprocal currency arrangement with the Federal Reserve Bank of New York. Under this arrangement, US dollars are provided by the Federal Reserve System to the ECB by means of swap transactions, with the aim of offering short-term US dollar funding to Eurosystem counterparties. The ECB simultaneously enters into back-to-back swap transactions with euro area NCBs, which use the resulting funds to conduct US dollar liquidity-providing operations with Eurosystem counterparties in the form of reverse transactions. The back-to-back swap transactions result in intra-Eurosystem balances between the ECB and the NCBs. Furthermore, the swap transactions conducted with the Federal Reserve System and the euro area NCBs result in forward claims and liabilities that are recorded in off-balance-sheet accounts (see note\\xa020 “Foreign exchange swap and forward transactions”). The remainder of this item consists of an amount of €3,425\\xa0million (2019: €625\\xa0million) arising from outstanding PSPP and public sector PEPP securities lending transactions conducted with non-euro area residents in which cash was received as collateral and transferred to TARGET2 accounts (see note\\xa09 “Other liabilities to euro area credit institutions denominated in euro”). Note 12 - Intra-Eurosystem liabilities Note 12.1 - Liabilities equivalent to the transfer of foreign reserves These represent the liabilities to euro area NCBs that arose from the transfer of foreign reserve assets to the ECB when they joined the Eurosystem. Pursuant to Article\\xa030.2 of the Statute of the ESCB, these contributions are fixed in proportion to the NCBs’ shares in the subscribed capital of the ECB. Following (a) the increase in the weighting of the euro area NCBs (which have transferred foreign reserve assets to the ECB) in the ECB’s subscribed capital resulting from Bank of England’s withdrawal from the ESCB and (b) a decision of the Governing Council to reduce the proportion of the euro area NCBs’ contributions, so that the total amount of foreign reserve assets already transferred by the euro area NCBs will remain at the current level, the liability equivalent to this transfer was marginally adjusted. This resulted in a small decrease of €0.2\\xa0million on 1 February 2020, which was repaid to the euro area NCBs.  The remuneration of these liabilities is calculated daily at the latest available marginal interest rate used by the Eurosystem in its tenders for main refinancing operations, adjusted to reflect a zero return on the gold component (see note\\xa023.3 “Remuneration of NCBs’ claims in respect of foreign reserves transferred”). Note 12.2 - Other liabilities within the Eurosystem (net) In 2020 this item consisted predominantly of the TARGET2 balances of euro area NCBs vis-à-vis the ECB and the amount due to euro area NCBs in respect of the ECB’s interim profit distribution (see “Intra-ESCB balances/intra-Eurosystem balances” and “Interim profit distribution”, respectively, in Section 2.3 “Accounting policies”).  The increase in the net TARGET2 liability resulted mainly from the net purchases of securities under the PEPP and the APP, which were settled via TARGET2 accounts (see note 5 “Securities of euro area residents denominated in euro”). In addition, the decrease in the deposits accepted by the ECB in its role as fiscal agent (see note 10.1 “General government”) and the payment of the ECB’s profit distribution for 2019 also contributed to the increase in the liability in 2020. This increase was partially offset by the interest income received from securities held for monetary policy purposes and the increase in cash received as collateral against the lending of PSPP and public sector PEPP securities (see note 9 “Other liabilities to euro area credit institutions denominated in euro” and note 11 “Liabilities to non-euro area residents denominated in euro”). The remuneration of TARGET2 positions, with the exception of balances arising from back-to-back swap transactions in connection with US dollar liquidity-providing operations, is calculated daily at the latest available marginal interest rate used by the Eurosystem in its tenders for main refinancing operations. Note 13 - Other liabilities Note 13.1 - Off-balance-sheet instruments revaluation differences This item is composed of valuation changes in swap and forward transactions in foreign currency that were outstanding on 31 December 2020 (see note\\xa020 “Foreign exchange swap and forward transactions”). These valuation changes amounted to €636\\xa0million (2019: €709\\xa0million) and are the result of the conversion of such transactions into their euro equivalents at the exchange rates prevailing on the balance sheet date, compared with the euro values resulting from the conversion of the transactions at the average cost of the respective foreign currency on that date (see “Off-balance-sheet instruments” and “Gold and foreign currency assets and liabilities” in Section 2.3 “Accounting policies”). Note 13.2 - Accruals and income collected in advance This item comprised the following components on 31 December 2020:  Note 13.3 - Sundry On 31 December 2020 this item stood at €2,419\\xa0million (2019:\\xa0€2,188\\xa0million). It included balances amounting to €507\\xa0million (2019: €662\\xa0million) related to swap and forward transactions in foreign currency that were outstanding on 31\\xa0December 2020 (see note\\xa020 “Foreign exchange swap and forward transactions”). These balances arose from the conversion of such transactions into their euro equivalents at the respective currency’s average cost on the balance sheet date, compared with the euro values at which the transactions were initially recorded (see “Off-balance-sheet instruments” in Section 2.3 “Accounting policies”). The item also includes a lease liability of €199\\xa0million (2019: €232 million) (see “Leases” in Section 2.3 “Accounting policies”). In addition, this item includes the ECB’s net defined benefit liability in respect of the post-employment and other long-term benefits of its staff[43] and the members of the Executive Board, as well as the members of the Supervisory Board employed by the ECB. The termination benefits of ECB staff are also included. The ECB’s post-employment benefits, other long-term benefits and termination benefits Balance SheetThe amounts recognised in the Balance Sheet under the item “Sundry” (liabilities) in respect of post-employment, other long-term and staff termination benefits were as follows:     Note: The columns labelled “Boards” report amounts in respect of both the Executive Board and the Supervisory Board.    In 2020 the present value of the defined benefit obligation vis-à-vis staff of €3,034\\xa0million (2019:\\xa0€2,497\\xa0million) included unfunded benefits amounting to €364\\xa0million (2019:\\xa0€323\\xa0million) relating to post-employment benefits other than pensions, to other long-term benefits and to staff termination benefits. The present value of the defined benefit obligation vis-à-vis the members of the Executive Board and the members of the Supervisory Board of €44\\xa0million (2019:\\xa0€39\\xa0million) relates solely to unfunded arrangements in place for post-employment and other long-term benefits. Remeasurements of the ECB’s net defined benefit liability in respect of post-employment benefits are recognised in the Balance Sheet under liability item “Revaluation accounts”. In 2020 remeasurement losses under that liability item amounted to €1,067\\xa0million (2019:\\xa0€749\\xa0million) (see note 15 “Revaluation accounts”). Changes in the defined benefit obligation, plan assets and remeasurement resultsChanges in the present value of the defined benefit obligation were as follows:     Note: The columns labelled “Boards” report amounts in respect of both the Executive Board and the Supervisory Board.1) Net figure including compulsory contributions and transfers into/out of the plans. The compulsory contributions paid by staff are 7.4%, whilst those paid by the ECB are 20.7% of the basic salary.    The total remeasurement losses of €363\\xa0million on the defined benefit obligation in 2020 arose primarily as a result of the rise in the future pension increase rate from 1.0% in 2019 to 1.7% in 2020. In addition, the discount rate used for the valuation further decreased from 1.2% in 2019 to 1.1% in 2020. Changes in 2020 in the fair value of plan assets in the defined benefit pillar relating to staff were as follows:  The remeasurement gain on plan assets in 2020 reflected the fact that the actual return on the fund units was higher than the assumed interest income on plan assets, which was based on the discount rate assumption. Changes in 2020 in the remeasurement results were as follows:      Profit and Loss AccountThe amounts recognised in the Profit and Loss Account in 2020 were as follows:     Note: The columns labelled “Boards” report amounts in respect of both the Executive Board and the Supervisory Board.    The current service cost increased in 2020 to €142\\xa0million (2019: €92\\xa0million), mainly owing to a decline in the discount rate from 2.3% in 2018 to 1.2% in 2019.[44] Key assumptionsIn preparing the valuations referred to in this note, the independent actuaries have used assumptions which the Executive Board has accepted for the purposes of accounting and disclosure. The principal assumptions used for the purposes of calculating the liability for post-employment benefits and other long-term benefits are as follows:     1) These assumptions were used for calculating the part of the ECB’s defined benefit obligation which is funded by assets with an underlying capital guarantee.2) In addition, allowance is made for prospective individual salary increases of up to 1.8% per annum, depending on the age of the plan participants. 3) In accordance with the ECB’s pension plan rules, pensions will be increased annually. If general salary adjustments for ECB employees are below price inflation, any increase in pensions will be in line with the general salary adjustments. If the general salary adjustments exceed price inflation, they will be applied to determine the increase in pensions, provided that the financial position of the ECB’s pension plans permits such an increase.    Note 14 - Provisions This item consists mainly of a provision for financial risks, which will be used to the extent deemed necessary by the Governing Council to offset future realised and unrealised losses. The size of and continuing requirement for this provision is reviewed annually, based on the ECB’s assessment of its exposure to these risks and taking a range of factors into account. Its size, together with any amount held in the general reserve fund, may not exceed the value of the ECB’s capital paid up by the euro area NCBs. Taking into account the results of the assessment of the ECB’s exposures to financial risks and the maximum allowed ceiling of the ECB’s provision for financial risks, the Governing Council decided to transfer, as at 31 December 2020, an amount of €48 million to this provision. This transfer reduced the ECB’s net profit for 2020 to €1,643 million and increased the size of the provision to €7,584 million, which corresponds to the value of the ECB’s capital paid up by the euro area NCBs as at that date. This item also includes administrative provisions amounting to €57 million (2019: €50 million). Note 15 - Revaluation accounts This item consists mainly of revaluation balances arising from unrealised gains on assets, liabilities and off-balance-sheet instruments (see “Income recognition”, “Gold and foreign currency assets and liabilities”, “Securities” and “Off-balance-sheet instruments” in Section 2.3 “Accounting policies”). It also includes remeasurements of the ECB’s net defined benefit liability in respect of post-employment benefits (see “The ECB’s post-employment benefits, other long-term benefits and termination benefits” in Section 2.3 “Accounting policies” and note\\xa013.3 “Sundry”).  The decrease in the size of the revaluation accounts is predominately due to the depreciation of the US dollar and Japanese yen against the euro in 2020. This decline was partially offset by an increase in the size of the gold revaluation accounts owing to the rise in the market price of gold in 2020. The foreign exchange rates used for the year-end revaluation were as follows:  Note 16 - Capital and reserves Note 16.1 - Capital Change to the ECB’s capital keyPursuant to Article 29 of the Statute of the ESCB, the shares of the NCBs in the key for subscription to the ECB’s capital are weighted according to the shares of the respective Member States in the total population and gross domestic product of the EU, in equal measure.[45] These weights are adjusted every five years and whenever there is a change in the composition of the NCBs that contribute to the ECB’s capital, i.e. the NCBs of EU Member States. As a result of the departure of the United Kingdom from the European Union on 31\\xa0January 2020 and the consequent withdrawal of the Bank of England from the ESCB, the weightings assigned to the remaining NCBs in the key for subscription to the ECB’s capital were adjusted with effect from 1 February 2020, as follows:       Capital of the ECBThe subscribed capital of the ECB is €10,825 million. The ECB kept its subscribed capital unchanged after the Bank of England’s withdrawal from the ESCB. The share of the Bank of England in the ECB’s subscribed capital, which stood at 14.3%, was reallocated among both the euro area NCBs and the remaining non-euro area NCBs. The ECB’s paid-up capital also remained unchanged at €7,659 million in 2020, as the remaining NCBs covered the withdrawn Bank of England’s paid-up capital of €58 million. Over the next two years, in two annual instalments, euro area NCBs will pay up in full their increased subscriptions to the ECB’s capital following the Bank of England’s withdrawal from the ESCB. This will increase the ECB’s paid-up capital from €7,659 million in 2020 to €8,270 million in 2021 and €8,880 million in 2022.  2.5 Off-balance-sheet instruments Note 17 - Securities lending programmes As part of the management of the ECB’s own funds, the ECB has a securities lending programme agreement in place under which a specialised institution enters into securities lending transactions on behalf of the ECB. In addition, in accordance with the Governing Council’s decisions, the ECB has made available for lending its holdings of securities purchased under the first, second and third CBPPs, the PSPP and the PEPP, as well as its holdings of securities purchased under the SMP that are also eligible for purchase under the PSPP.[46] Unless these securities lending operations are conducted against cash collateral that remains uninvested at the end of the year, they are recorded in off-balance-sheet accounts.[47] Such securities lending operations with a value of €17,214\\xa0million (2019: €10,076\\xa0million) were outstanding as at 31 December 2020. Of this amount, €12,615\\xa0million (2019: €5,502\\xa0million) related to the lending of securities held for monetary policy purposes. Note 18 - Interest rate futures As at 31 December 2020 the following foreign currency transactions, presented at year-end market rates, were outstanding:  These transactions were conducted in the context of the management of the ECB’s foreign reserves. Note 19 - Interest rate swaps There were no outstanding interest rate swap transactions as at 31 December 2020, while at the end of 2019 transactions with a notional value of €703\\xa0million, presented at year-end market rates, were outstanding. Such transactions are conducted in the context of the management of the ECB’s foreign reserves. Note 20 - Foreign exchange swap and forward transactions Management of foreign reservesForeign exchange swap and forward transactions were conducted in 2020 in the context of the management of the ECB’s foreign reserves. Claims and liabilities resulting from these transactions that were outstanding as at 31 December 2020 are presented at year-end market rates as follows:      Liquidity-providing swap arrangementsThe ECB has in place reciprocal swap arrangements with the Bank of Canada, the Bank of England, the Bank of Japan, the Federal Reserve Bank of New York, the Swiss National Bank and the People’s Bank of China. These swap arrangements allow for the provision of (a) liquidity in any of the respective currencies of the above-mentioned central banks to euro area banks or (b) euro liquidity to financial institutions in the jurisdictions of the above central banks. Furthermore, swap agreements are also in place with the Bulgarian National Bank, Hrvatska narodna banka, Danmarks Nationalbank and Sveriges Riksbank for the provision of euro liquidity to financial institutions in their jurisdictions. The above arrangements are aimed at addressing possible liquidity needs to counter potential market dysfunction. US dollar-denominated claims and liabilities with a maturity date in 2021 arose in connection with the provision of US dollar liquidity to Eurosystem counterparties (see note 11 “Liabilities to non-euro area residents denominated in euro”). Note 21 - Administration of borrowing and lending operations In 2020 the ECB continued to be responsible for the administration of the borrowing and lending operations of the EU under the medium-term financial assistance facility and the European Financial Stabilisation Mechanism, for the loan facility agreement for Greece, and for the administration of payments relating to two EFSF loans. In addition, in 2020, in response to the COVID-19 pandemic, the EU granted loans to the Member States under its new instrument for temporary Support to mitigate Unemployment Risks in an Emergency (SURE). The ECB and the NCBs of the borrowing EU Member States supported the European Commission in the administration of these loans.  In 2020 the ECB processed payments related to all the above-mentioned operations. Note 22 - Contingent liabilities from pending lawsuits Several lawsuits have been filed against the ECB and other EU institutions by a number of depositors, shareholders and bondholders of Cypriot credit institutions. The applicants allege that they have suffered financial losses as a result of acts that they deem to have led to the restructuring of these credit institutions in the context of the financial assistance programme for Cyprus in 2013. Two of these cases, designated as test cases, were dismissed on substance by the General Court of the EU in 2018, and appeals against these judgments were lodged by the applicants and the Council. By its judgment of 16 December 2020, the Court of Justice of the EU dismissed the appeals lodged by the applicants at first instance against these two test cases and thereby upheld the General Court’s judgments (of 2018) dismissing the actions for damages directed against the ECB. All other similar cases, which had been suspended, are expected to be decided in accordance with the final outcome of the test cases, and thus the ECB should also win these cases. This follows orders of the General Court in 2014 which found twelve similar cases inadmissible in their entirety and, following appeals, judgments of the Court of Justice in 2016 which either confirmed the inadmissibility or ruled in favour of the ECB. The ECB’s involvement in the process leading up to the conclusion of the financial assistance programme was limited to the provision of technical advice, pursuant to the ESM Treaty, acting in liaison with the European Commission, as well as the issuance of a non-binding opinion on the Cypriot draft resolution law. It is therefore considered that no losses will be incurred by the ECB as a result of these cases, particularly in view of the Court of Justice’s judgment in the above-mentioned test cases. 2.6 Notes on the Profit and Loss Account Note 23 - Net interest income Note 23.1 - Interest income on foreign reserve assets This item includes interest income, net of interest expense, in respect of the ECB’s net foreign reserve assets, as follows:  The overall decrease in net interest income in 2020 was mainly due to lower interest income generated on the US dollar portfolio. Note 23.2 - Interest income arising from the allocation of euro banknotes within the Eurosystem This item consists of the interest income relating to the ECB’s 8% share of the total euro banknote issue (see “Banknotes in circulation” in Section 2.3 “Accounting policies” and note\\xa06.1 “Claims related to the allocation of euro banknotes within the Eurosystem”). For\\xa02020 this interest income was zero, owing to the fact that the rate on the main refinancing operations remained at 0% during the entire year. Note 23.3 - Remuneration of NCBs’ claims in respect of foreign reserves transferred Remuneration paid to euro area NCBs on their claims in respect of the foreign reserve assets transferred to the ECB (see note\\xa012.1 “Liabilities equivalent to the transfer of foreign reserves”) is disclosed under this heading. The remuneration in 2020 was zero, reflecting the fact that the rate on the main refinancing operations was 0% during the entire year. Note 23.4 - Other interest income; and other interest expense Other interest income and other interest expense in 2020 were as follows:     1) The ECB’s net interest income on SMP holdings of Greek government bonds amounted to €50 million (2019: €94 million).    Note 24 - Realised gains/losses arising from financial operations Net realised gains arising from financial operations in 2020 were as follows:  Net realised price gains include realised gains and losses on securities, interest rate futures and interest rate swaps. The increase in net realised price gains in 2020 was mainly due to higher realised price gains generated in the US dollar portfolio as a result of the lower US dollar securities yields compared to 2019. Note 25 - Write-downs on financial assets and positions Write-downs on financial assets and positions in 2020 were as follows:  The higher write-downs compared to 2019 were due to the unrealised exchange rate losses arising from the Chinese renminbi holding. The average acquisition cost of this holding was written down to its 2020 year-end exchange rate owing to the depreciation of this currency against the euro to a level lower than its average cost. Note 26 - Net income/expense from fees and commissions  In 2020 income under this heading consisted mainly of supervisory fees. Expenses arose predominantly from custody fees. Income and expenses related to supervisory tasksThe ECB levies annual fees on supervised entities in order to recover expenditure incurred in the performance of its supervisory tasks. Following this year’s implementation of ex post invoicing under the revised fee framework,[48] the fees are based on the actual annual expenses for supervisory tasks incurred in the respective fee period adjusted for amounts reimbursed to/received from individual banks for previous fee periods and other adjustments, including interest received on late payments.[49] In 2020, for the last time, the amount levied will be affected by the surplus carried forward from the previous fee period. The individual supervisory fees are invoiced in the second quarter following the respective year-end. Based on the actual expenses incurred by the ECB in the performance of its banking supervision tasks, the supervisory fee income for 2020 stood at €535\\xa0million. However, the annual supervisory fees to be levied on the supervised entities for 2020 amount to €514\\xa0million (see note\\xa07.4 “Accruals and prepaid expenses”)[50] following adjustments for (a) the surplus of €22\\xa0million carried forward from the 2019 fee period and (b)\\xa0an amount of €1\\xa0million corresponding to net reimbursements to individual banks for previous fee periods and other adjustments, including interest received on late payments. The ECB is also entitled to impose administrative penalties on supervised entities for failure to comply with EU banking regulations on prudential requirements (including ECB supervisory decisions). The related income is not considered in the calculation of the annual supervisory fees. Instead, it is recorded as income in the ECB’s Profit and Loss Account and is distributed to euro area NCBs as part of the ECB’s profit distribution regime. In 2020 no income arose from penalties on supervised entities. Thus, the income of the ECB for supervisory tasks in 2020 was as follows:  Banking supervision-related expenses result from the direct supervision of significant entities, the oversight of the supervision of less significant entities and the performance of horizontal tasks and specialised services. They consist of the direct expenses of the ECB Banking Supervision Directorates General and of the relevant expenses arising from support areas needed to fulfil the ECB’s supervisory responsibilities, including premises and facilities, human resources management, administrative services, budgeting and controlling, accounting, legal, communication and translation services, internal audit, and statistical and information technology (IT) services. For\\xa02020 the total actual expenses related to the ECB’s supervisory tasks, which are recovered via the annual supervisory fees, amounted to €535\\xa0million (2019: €537\\xa0million). The slight overall decrease was driven by lower expenses in relation to external consultancy support, resulting mainly from the finalisation of the Targeted Review of Internal Models (TRIM), and business travel, owing to a substantial streamlining of onsite supervisory activities in view of the COVID-19 pandemic. These lower expenses were largely offset by higher staff costs following the growth in the average number of staff working for ECB Banking Supervision. Note 27 - Income from equity shares and participating interests Dividends received on shares which the ECB holds in the BIS (see note\\xa07.2 “Other financial assets”) are shown under this heading. No dividend was received in 2020 (2019: €1\\xa0million), as the BIS Annual General Meeting approved the proposal of the Board of Directors to retain all BIS profit for the period 2019/2020.[51] Note 28 - Other income Other miscellaneous income during 2020 arose mainly from contributions of euro area NCBs to costs incurred by the ECB in connection with joint Eurosystem projects. Note 29 - Staff costs Staff costs in 2020 were as follows:     1) Salaries and allowances are, in essence, modelled on, and comparable with, the remuneration scheme of the EU.    The average number of employees, expressed in full-time equivalents (FTEs)[52], amounted to 3,923 (2019: 3,770), of which 356\\xa0were managerial staff (2019: 349). Staff costs increased in 2020, mainly owing to the higher average number of staff employed by the ECB and higher costs, particularly in relation to post-employment benefits, resulting from the use of a lower discount rate for the actuarial valuation at the end of 2020 (see note\\xa013.3 “Sundry”). Remuneration of the Executive and Supervisory BoardsMembers of the Executive Board and the members of the Supervisory Board employed by the ECB receive a basic salary and a residence allowance. In the case of the President, a residence is provided in lieu of a residence allowance. Members of the Executive Board and the Chair of the Supervisory Board also receive a representation allowance. Subject to the Conditions of Employment for Staff of the European Central Bank, members of both boards may be entitled to household, child and education allowances, depending on their individual circumstances. Salaries are subject to a tax for the benefit of the EU, as well as to deductions in respect of contributions to the pension, medical, long-term care and accident insurance schemes. Allowances are non-taxable and non-pensionable. In 2020 the basic salaries of the members of the Executive Board and members of the Supervisory Board employed by the ECB (i.e.\\xa0excluding representatives of national supervisors) were as follows:[53]     1) Frank Elderson took office as a member of the Executive Board on 15 December 2020; his remuneration for the remainder of December will be included in the costs for 2021.2) This total excludes the salary of the Vice-Chair of the Supervisory Board (Sabine Lautenschläger until February 2019 and Yves Mersch from October 2019 until 14 December 2020), which is reported with those of the other members of the Executive Board.    Total allowances paid to members of both boards and the ECB’s contributions to medical, long-term care and accident insurance schemes on their behalf amounted to €1,201,810 (2019:\\xa0€1,182,767).  Transitional payments may be made to former members of both boards for a limited period after the end of their terms of office. In 2020 these payments, the related family allowances and the ECB’s contributions to the medical, long-term care and accident insurance schemes of former members of both boards amounted to €1,555,042 (2019: €864,287). The increase in these payments is mainly due to the number of board members leaving the ECB in 2019 and 2020. Pension payments, including post-employment allowances, and contributions to the medical, long-term care and accident insurance schemes for former board members and their dependants amounted to €928,149 (2019:\\xa0€1,848,157).[54]  Note 30 - Administrative expenses Administrative expenses in 2020 were as follows:  The overall decrease in administrative expenses in 2020 was mainly due to lower expenses for external consultancy support (“External services”) and business travel (“Other expenses”), mainly related to supervisory tasks (see note\\xa026 “Net income/expense from fees and commissions”). This decrease was partially offset by higher IT-related expenses owing to the significant demand for IT services related to remote working in 2020 in connection with the COVID-19 pandemic. Note 31 - Banknote production services This expense arises predominantly from the cross-border transportation of euro banknotes between banknote printing works and NCBs, for the delivery of new banknotes, and between NCBs, for the compensation of shortages with surplus stocks. These costs are borne centrally by the ECB. 3 Independent auditor’s report  To the President and Governing Councilof the European Central Bank Frankfurt am Main Report on the Audit of the ECB’s Financial Statements 2020 Opinion We have audited the Financial Statements of the European Central Bank (ECB) for the year ended 31 December 2020 – included in the ECB’s Annual Accounts – which comprise the balance sheet, the profit and loss account, and a summary of significant accounting policies and other explanatory notes. In our opinion, the accompanying Financial Statements give a true and fair view of the financial position of the ECB as at 31 December 2020 and of the results of its financial operations for the year then ended in accordance with the principles established by the Governing Council, which are laid down in Decision (EU) 2016/2247 of the ECB of 3\\xa0November\\xa02016 on the annual accounts of the ECB (ECB/2016/35), as amended, which is based on Guideline (EU) 2016/2249 of the ECB of 3\\xa0November\\xa02016 on the legal framework for accounting and financial reporting in the European System of Central Banks (ECB/2016/34), as amended. Basis for Opinion We conducted our audit in accordance with International Standards on Auditing (“ISAs”). Our responsibilities under those standards are further described in the Auditor’s Responsibilities for the Audit of the Financial Statements section of our report. We are independent of the ECB in accordance with the German ethical requirements that are relevant to our audit of the Financial Statements, which are consistent with the International Ethics Standards Board for Accountants' Code of Ethics for Professional Accountants (“IESBA Code”) and we have fulfilled our other ethical responsibilities in accordance with these requirements. We believe that the audit evidence we have obtained is sufficient and appropriate to provide a basis for our opinion. Other Information The ECB’s Executive Board (“Executive Board”) is responsible for the other information included in the ECB’s Annual Accounts. The other information comprises all the information included in the ECB’s Annual Accounts except the Financial Statements of the ECB and our auditor’s report. Our opinion on the Financial Statements does not cover the other information and we do not express any form of assurance conclusion thereon. In connection with our audit of the Financial Statements, our responsibility is to read the other information and, in doing so, consider whether the other information is materially inconsistent with the Financial Statements or our knowledge obtained in the audit or otherwise appears to be materially misstated. Responsibilities of the Executive Board and those charged with Governance for the Financial Statements The Executive Board is responsible for the preparation and fair presentation of the Financial Statements in accordance with the principles established by the Governing Council, which are laid down in Decision (EU) 2016/2247 of the ECB of 3\\xa0November\\xa02016 on the annual accounts of the ECB (ECB/2016/35), as amended, which is based on Guideline (EU) 2016/2249 of the ECB of 3\\xa0November\\xa02016 on the legal framework for accounting and financial reporting in the European System of Central Banks (ECB/2016/34), as amended, and for such internal control as the Executive Board determines is necessary to enable the preparation of Financial Statements that are free from material misstatement, whether due to fraud or error. In preparing the Financial Statements, the Executive Board is responsible for assessing the ECB’s ability to continue as a going concern, disclosing, as applicable, matters related to going concern and using the going concern basis of accounting. Those charged with governance are responsible for overseeing the ECB’s financial reporting process. Auditor’s Responsibilities for the Audit of the Financial Statements Our objectives are to obtain reasonable assurance about whether the Financial Statements as a whole are free from material misstatement, whether due to fraud or error, and to issue an auditor’s report that includes our opinion. Reasonable assurance is a high level of assurance, but is not a guarantee that an audit conducted in accordance with ISAs will always detect a material misstatement when it exists. Misstatements can arise from fraud or error and are considered material if, individually or in the aggregate, they could reasonably be expected to influence the economic decisions of users taken on the basis of these Financial Statements. As part of an audit in accordance with ISAs, we exercise professional judgment and maintain professional scepticism throughout the planning and performance of the audit. We also:  Identify and assess the risks of material misstatement of the Financial Statements, whether due to fraud or error, design and perform audit procedures responsive to those risks, and obtain audit evidence that is sufficient and appropriate to provide a basis for our opinion. The risk of not detecting a material misstatement resulting from fraud is higher than for one resulting from error, as fraud may involve collusion, forgery, intentional omissions, misrepresentations, or the override of internal control. Obtain an understanding of internal control relevant to the audit in order to design audit procedures that are appropriate in the circumstances, but not for the purpose of expressing an opinion on the effectiveness of the ECB’s internal control. Evaluate the appropriateness of accounting policies used and the reasonableness of accounting estimates and related disclosures made by management. Conclude on the appropriateness of management’s use of the going concern basis of accounting and, based on the audit evidence obtained, whether a material uncertainty exists related to events or conditions that may cast significant doubt on the ECB’s ability to continue as a going concern. If we conclude that a material uncertainty exists, we are required to draw attention in our auditor’s report to the related disclosures in the Financial Statements or, if such disclosures are inadequate, to modify our opinion. Our conclusions are based on the audit evidence obtained up to the date of our auditor’s report. Evaluate the overall presentation, structure and content of the Financial Statements, including the disclosures, and whether the Financial Statements represent the underlying transactions and events in a manner that achieves fair presentation.  We are required to communicate with those charged with governance regarding, among other matters, the planned scope and timing of the audit and significant audit findings, including any significant deficiencies in internal control that we identify during our audit. Frankfurt am Main, 10 February 2021 Baker Tilly GmbH & Co. KG Wirtschaftsprüfungsgesellschaft (Düsseldorf)  4 Note on profit distribution/allocation of losses This note is not part of the financial statements of the ECB for the year 2020. Pursuant to Article 33 of the Statute of the ESCB, the net profit of the ECB shall be transferred in the following order:  an amount to be determined by the Governing Council, which may not exceed 20% of the net profit, shall be transferred to the general reserve fund, subject to a limit equal to 100% of the capital; and the remaining net profit shall be distributed to the shareholders of the ECB in proportion to their paid-up shares.[55]  In the event of a loss incurred by the ECB, the shortfall may be offset against the general reserve fund of the ECB and, if necessary, following a decision by the Governing Council, against the monetary income of the relevant financial year in proportion and up to the amounts allocated to the NCBs in accordance with Article 32.5 of the Statute of the ESCB.[56] The ECB’s net profit for 2020 was €1,643 million. Following a decision by the Governing Council, an interim profit distribution, amounting to €1,260 million, was paid out to the euro area NCBs on 29 January 2021. Furthermore, the Governing Council decided to distribute the remaining profit of €383 million to the euro area NCBs.   © European Central Bank, 2021 Postal address 60640 Frankfurt am Main, GermanyTelephone +49 69 1344 0 Website www.ecb.europa.eu All rights reserved. Reproduction for educational and non-commercial purposes is permitted provided that the source is acknowledged. For specific terminology please refer to the ECB glossary (available in English only). PDF ISBN 978-92-899-4672-8, ISSN 2443-4760, doi:10.2866/284080, QB-BS-21-001-EN-NHTML ISBN 978-92-899-4653-7, ISSN 2443-4760, doi:10.2866/375026, QB-BS-21-001-EN-Q\""
      ]
     },
     "execution_count": 34,
     "metadata": {},
     "output_type": "execute_result"
    }
   ],
   "source": [
    "df.iloc[21]['text_en']"
   ]
  },
  {
   "cell_type": "code",
   "execution_count": 8,
   "metadata": {},
   "outputs": [],
   "source": [
    "# df.iloc[662]['text_en']"
   ]
  },
  {
   "cell_type": "code",
   "execution_count": 21,
   "metadata": {},
   "outputs": [
    {
     "data": {
      "text/plain": [
       "((339, 11), (339, 11))"
      ]
     },
     "execution_count": 21,
     "metadata": {},
     "output_type": "execute_result"
    }
   ],
   "source": [
    "df_a = df.iloc[:int(df.shape[0]/2)]\n",
    "df_b = df.iloc[int(df.shape[0]/2):]\n",
    "\n",
    "df_a.shape, df_b.shape"
   ]
  },
  {
   "cell_type": "code",
   "execution_count": 43,
   "metadata": {},
   "outputs": [
    {
     "data": {
      "text/plain": [
       "4"
      ]
     },
     "execution_count": 43,
     "metadata": {},
     "output_type": "execute_result"
    }
   ],
   "source": [
    "df_a['text_en'].str.len().idxmax()"
   ]
  },
  {
   "cell_type": "code",
   "execution_count": 45,
   "metadata": {},
   "outputs": [
    {
     "name": "stderr",
     "output_type": "stream",
     "text": [
      "C:\\Program Files\\Python38\\lib\\site-packages\\pandas\\core\\frame.py:4167: SettingWithCopyWarning: \n",
      "A value is trying to be set on a copy of a slice from a DataFrame\n",
      "\n",
      "See the caveats in the documentation: https://pandas.pydata.org/pandas-docs/stable/user_guide/indexing.html#returning-a-view-versus-a-copy\n",
      "  return super().drop(\n"
     ]
    },
    {
     "data": {
      "text/plain": [
       "(338, 11)"
      ]
     },
     "execution_count": 45,
     "metadata": {},
     "output_type": "execute_result"
    }
   ],
   "source": [
    "df_a.drop(df_a.index[df_a['text_en'].str.len().idxmax()], inplace=True)\n",
    "df_a.shape"
   ]
  },
  {
   "cell_type": "code",
   "execution_count": 51,
   "metadata": {},
   "outputs": [
    {
     "name": "stderr",
     "output_type": "stream",
     "text": [
      "C:\\Program Files\\Python38\\lib\\site-packages\\pandas\\core\\frame.py:4167: SettingWithCopyWarning: \n",
      "A value is trying to be set on a copy of a slice from a DataFrame\n",
      "\n",
      "See the caveats in the documentation: https://pandas.pydata.org/pandas-docs/stable/user_guide/indexing.html#returning-a-view-versus-a-copy\n",
      "  return super().drop(\n"
     ]
    },
    {
     "data": {
      "text/plain": [
       "(328, 11)"
      ]
     },
     "execution_count": 51,
     "metadata": {},
     "output_type": "execute_result"
    }
   ],
   "source": [
    "largest_10_idx = list(df_a.nlargest(10, 'length_en').index)\n",
    "df_a.shape\n",
    "df_a.drop(largest_10_idx, inplace=True)\n",
    "df_a.shape"
   ]
  },
  {
   "cell_type": "code",
   "execution_count": 52,
   "metadata": {},
   "outputs": [
    {
     "name": "stderr",
     "output_type": "stream",
     "text": [
      "<ipython-input-52-a5f3f805e02d>:1: SettingWithCopyWarning: \n",
      "A value is trying to be set on a copy of a slice from a DataFrame.\n",
      "Try using .loc[row_indexer,col_indexer] = value instead\n",
      "\n",
      "See the caveats in the documentation: https://pandas.pydata.org/pandas-docs/stable/user_guide/indexing.html#returning-a-view-versus-a-copy\n",
      "  df_a['google_nmt'] = df_a['text_en'].apply(translate_text)\n",
      "<ipython-input-52-a5f3f805e02d>:2: SettingWithCopyWarning: \n",
      "A value is trying to be set on a copy of a slice from a DataFrame.\n",
      "Try using .loc[row_indexer,col_indexer] = value instead\n",
      "\n",
      "See the caveats in the documentation: https://pandas.pydata.org/pandas-docs/stable/user_guide/indexing.html#returning-a-view-versus-a-copy\n",
      "  df_a['length_google'] = df_a['google_nmt'].apply(lambda x: len(x.split()))\n"
     ]
    }
   ],
   "source": [
    "df_a['google_nmt'] = df_a['text_en'].apply(translate_text)\n",
    "df_a['length_google'] = df_a['google_nmt'].apply(lambda x: len(x.split()))"
   ]
  },
  {
   "cell_type": "code",
   "execution_count": 53,
   "metadata": {},
   "outputs": [
    {
     "data": {
      "text/html": [
       "<div>\n",
       "<style scoped>\n",
       "    .dataframe tbody tr th:only-of-type {\n",
       "        vertical-align: middle;\n",
       "    }\n",
       "\n",
       "    .dataframe tbody tr th {\n",
       "        vertical-align: top;\n",
       "    }\n",
       "\n",
       "    .dataframe thead th {\n",
       "        text-align: right;\n",
       "    }\n",
       "</style>\n",
       "<table border=\"1\" class=\"dataframe\">\n",
       "  <thead>\n",
       "    <tr style=\"text-align: right;\">\n",
       "      <th></th>\n",
       "      <th>year</th>\n",
       "      <th>date</th>\n",
       "      <th>category</th>\n",
       "      <th>title_en</th>\n",
       "      <th>link_en</th>\n",
       "      <th>text_en</th>\n",
       "      <th>length_en</th>\n",
       "      <th>title_el</th>\n",
       "      <th>text_el</th>\n",
       "      <th>length_el</th>\n",
       "      <th>link_el</th>\n",
       "      <th>google_nmt</th>\n",
       "      <th>length_google</th>\n",
       "    </tr>\n",
       "  </thead>\n",
       "  <tbody>\n",
       "    <tr>\n",
       "      <th>86</th>\n",
       "      <td>2017</td>\n",
       "      <td>2017-07-20</td>\n",
       "      <td>MONETARY POLICY DECISION</td>\n",
       "      <td>Monetary policy decisions</td>\n",
       "      <td>https://www.ecb.europa.eu/press/pr/date/2017/h...</td>\n",
       "      <td>At today’s meeting the Governing Council of th...</td>\n",
       "      <td>211</td>\n",
       "      <td>Αποφάσεις νομισματικής πολιτικής</td>\n",
       "      <td>Κατά τη σημερινή του συνεδρίαση, το Διοικητικό...</td>\n",
       "      <td>258</td>\n",
       "      <td>https://www.ecb.europa.eu/press/pr/date/2017/h...</td>\n",
       "      <td>Στη σημερινή συνεδρίαση το Διοικητικό Συμβούλι...</td>\n",
       "      <td>218</td>\n",
       "    </tr>\n",
       "    <tr>\n",
       "      <th>295</th>\n",
       "      <td>2010</td>\n",
       "      <td>2010-08-05</td>\n",
       "      <td>MONETARY POLICY DECISION</td>\n",
       "      <td>Monetary policy decisions</td>\n",
       "      <td>https://www.ecb.europa.eu/press/pr/date/2010/h...</td>\n",
       "      <td>At today’s meeting the Governing Council of th...</td>\n",
       "      <td>64</td>\n",
       "      <td>Αποφάσεις νομισματικής πολιτικής</td>\n",
       "      <td>Κατά τη σημερινή του συνεδρίαση το Διοικητικό ...</td>\n",
       "      <td>88</td>\n",
       "      <td>https://www.ecb.europa.eu/press/pr/date/2010/h...</td>\n",
       "      <td>Στη σημερινή συνεδρίασή του το Διοικητικό Συμβ...</td>\n",
       "      <td>61</td>\n",
       "    </tr>\n",
       "    <tr>\n",
       "      <th>3</th>\n",
       "      <td>2022</td>\n",
       "      <td>2022-02-17</td>\n",
       "      <td>PRESS RELEASE</td>\n",
       "      <td>Financial statements of the ECB for 2021</td>\n",
       "      <td>https://www.ecb.europa.eu/press/pr/date/2022/h...</td>\n",
       "      <td>17 February 2022  ECB profit €0.2 billion (202...</td>\n",
       "      <td>713</td>\n",
       "      <td>Οικονομικές καταστάσεις της ΕΚΤ για το 2021</td>\n",
       "      <td>17 Φεβρουαρίου 2022  Τα κέρδη της ΕΚΤ ανήλθαν ...</td>\n",
       "      <td>849</td>\n",
       "      <td>https://www.ecb.europa.eu/press/pr/date/2022/h...</td>\n",
       "      <td>17 Φεβρουαρίου 2022 Κέρδη ΕΚΤ 0,2 δισ. ευρώ (2...</td>\n",
       "      <td>793</td>\n",
       "    </tr>\n",
       "    <tr>\n",
       "      <th>91</th>\n",
       "      <td>2017</td>\n",
       "      <td>2017-03-28</td>\n",
       "      <td>PRESS RELEASE</td>\n",
       "      <td>ECB welcomes dialogue with NGOs on transparency</td>\n",
       "      <td>https://www.ecb.europa.eu/press/pr/date/2017/h...</td>\n",
       "      <td>Non-governmental organisation commends ECB for...</td>\n",
       "      <td>332</td>\n",
       "      <td>Η ΕΚΤ καλωσορίζει τον διάλογο με μη κυβερνητικ...</td>\n",
       "      <td>Μη κυβερνητική οργάνωση επαινεί την ΕΚΤ για τα...</td>\n",
       "      <td>392</td>\n",
       "      <td>https://www.ecb.europa.eu/press/pr/date/2017/h...</td>\n",
       "      <td>Μη κυβερνητικός οργανισμός επαινεί την ΕΚΤ για...</td>\n",
       "      <td>371</td>\n",
       "    </tr>\n",
       "    <tr>\n",
       "      <th>20</th>\n",
       "      <td>2021</td>\n",
       "      <td>2021-02-18</td>\n",
       "      <td>PRESS RELEASE</td>\n",
       "      <td>Financial statements of the ECB for 2020</td>\n",
       "      <td>https://www.ecb.europa.eu/press/pr/date/2021/h...</td>\n",
       "      <td>18 February 2021  ECB profit amounted to €1.6 ...</td>\n",
       "      <td>804</td>\n",
       "      <td>Οικονομικές καταστάσεις της ΕΚΤ για το 2020</td>\n",
       "      <td>18 Φεβρουαρίου 2021  Τα κέρδη της ΕΚΤ ανήλθαν ...</td>\n",
       "      <td>929</td>\n",
       "      <td>https://www.ecb.europa.eu/press/pr/date/2021/h...</td>\n",
       "      <td>Στις 18 Φεβρουαρίου 2021 τα κέρδη της ΕΚΤ ανήλ...</td>\n",
       "      <td>878</td>\n",
       "    </tr>\n",
       "    <tr>\n",
       "      <th>330</th>\n",
       "      <td>2009</td>\n",
       "      <td>2009-03-05</td>\n",
       "      <td>MONETARY POLICY DECISION</td>\n",
       "      <td>Monetary policy decisions</td>\n",
       "      <td>https://www.ecb.europa.eu/press/pr/date/2009/h...</td>\n",
       "      <td>At today’s meeting the Governing Council of th...</td>\n",
       "      <td>38</td>\n",
       "      <td>Αποφάσεις νομισματικής πολιτικής</td>\n",
       "      <td>Κατά τη σημερινή του συνεδρίαση, το Διοικητικό...</td>\n",
       "      <td>61</td>\n",
       "      <td>https://www.ecb.europa.eu/press/pr/date/2009/h...</td>\n",
       "      <td>Στη σημερινή συνεδρίαση, το Διοικητικό Συμβούλ...</td>\n",
       "      <td>39</td>\n",
       "    </tr>\n",
       "    <tr>\n",
       "      <th>159</th>\n",
       "      <td>2014</td>\n",
       "      <td>2014-08-08</td>\n",
       "      <td>PRESS RELEASE</td>\n",
       "      <td>ECB publishes Comprehensive Assessment Stress ...</td>\n",
       "      <td>https://www.ecb.europa.eu/press/pr/date/2014/h...</td>\n",
       "      <td>EMBARGOTransmission embargo until 11.30 a.m. C...</td>\n",
       "      <td>455</td>\n",
       "      <td>Η ΕΚΤ δημοσιεύει εγχειρίδιο για την άσκηση προ...</td>\n",
       "      <td>EMBARGOΑπαγόρευση δημοσίευσης πριν από τις 11....</td>\n",
       "      <td>581</td>\n",
       "      <td>https://www.ecb.europa.eu/press/pr/date/2014/h...</td>\n",
       "      <td>Εμπάργκο μετάδοσης EMBARGOT έως τις 11.30 π.μ....</td>\n",
       "      <td>496</td>\n",
       "    </tr>\n",
       "    <tr>\n",
       "      <th>82</th>\n",
       "      <td>2017</td>\n",
       "      <td>2017-12-14</td>\n",
       "      <td>MONETARY POLICY DECISION</td>\n",
       "      <td>Monetary policy decisions</td>\n",
       "      <td>https://www.ecb.europa.eu/press/pr/date/2017/h...</td>\n",
       "      <td>At today’s meeting the Governing Council of th...</td>\n",
       "      <td>252</td>\n",
       "      <td>Αποφάσεις νομισματικής πολιτικής</td>\n",
       "      <td>Κατά τη σημερινή του συνεδρίαση το Διοικητικό ...</td>\n",
       "      <td>294</td>\n",
       "      <td>https://www.ecb.europa.eu/press/pr/date/2017/h...</td>\n",
       "      <td>Στη σημερινή συνεδρίαση το Διοικητικό Συμβούλι...</td>\n",
       "      <td>262</td>\n",
       "    </tr>\n",
       "    <tr>\n",
       "      <th>36</th>\n",
       "      <td>2020</td>\n",
       "      <td>2020-04-30</td>\n",
       "      <td>MONETARY POLICY DECISION</td>\n",
       "      <td>Monetary policy decisions</td>\n",
       "      <td>https://www.ecb.europa.eu/press/pr/date/2020/h...</td>\n",
       "      <td>At today’s meeting the Governing Council of th...</td>\n",
       "      <td>664</td>\n",
       "      <td>Αποφάσεις νομισματικής πολιτικής</td>\n",
       "      <td>Κατά τη σημερινή του συνεδρίαση, το Διοικητικό...</td>\n",
       "      <td>794</td>\n",
       "      <td>https://www.ecb.europa.eu/press/pr/date/2020/h...</td>\n",
       "      <td>Στη σημερινή του συνεδρίαση, το Διοικητικό Συμ...</td>\n",
       "      <td>692</td>\n",
       "    </tr>\n",
       "    <tr>\n",
       "      <th>126</th>\n",
       "      <td>2015</td>\n",
       "      <td>2015-07-17</td>\n",
       "      <td>PRESS RELEASE</td>\n",
       "      <td>Biannual information on euro banknote counterf...</td>\n",
       "      <td>https://www.ecb.europa.eu/press/pr/date/2015/h...</td>\n",
       "      <td>Decline in euro banknote counterfeits in first...</td>\n",
       "      <td>518</td>\n",
       "      <td>Εξαμηνιαίο ενημερωτικό δελτίο σχετικά με την π...</td>\n",
       "      <td>Τα πλαστά τραπεζογραμμάτια ευρώ μειώθηκαν το π...</td>\n",
       "      <td>628</td>\n",
       "      <td>https://www.ecb.europa.eu/press/pr/date/2015/h...</td>\n",
       "      <td>Μείωση των πλαστών τραπεζογραμματίων ευρώ το π...</td>\n",
       "      <td>563</td>\n",
       "    </tr>\n",
       "  </tbody>\n",
       "</table>\n",
       "</div>"
      ],
      "text/plain": [
       "     year        date                  category  \\\n",
       "86   2017  2017-07-20  MONETARY POLICY DECISION   \n",
       "295  2010  2010-08-05  MONETARY POLICY DECISION   \n",
       "3    2022  2022-02-17             PRESS RELEASE   \n",
       "91   2017  2017-03-28             PRESS RELEASE   \n",
       "20   2021  2021-02-18             PRESS RELEASE   \n",
       "330  2009  2009-03-05  MONETARY POLICY DECISION   \n",
       "159  2014  2014-08-08             PRESS RELEASE   \n",
       "82   2017  2017-12-14  MONETARY POLICY DECISION   \n",
       "36   2020  2020-04-30  MONETARY POLICY DECISION   \n",
       "126  2015  2015-07-17             PRESS RELEASE   \n",
       "\n",
       "                                              title_en  \\\n",
       "86                           Monetary policy decisions   \n",
       "295                          Monetary policy decisions   \n",
       "3             Financial statements of the ECB for 2021   \n",
       "91     ECB welcomes dialogue with NGOs on transparency   \n",
       "20            Financial statements of the ECB for 2020   \n",
       "330                          Monetary policy decisions   \n",
       "159  ECB publishes Comprehensive Assessment Stress ...   \n",
       "82                           Monetary policy decisions   \n",
       "36                           Monetary policy decisions   \n",
       "126  Biannual information on euro banknote counterf...   \n",
       "\n",
       "                                               link_en  \\\n",
       "86   https://www.ecb.europa.eu/press/pr/date/2017/h...   \n",
       "295  https://www.ecb.europa.eu/press/pr/date/2010/h...   \n",
       "3    https://www.ecb.europa.eu/press/pr/date/2022/h...   \n",
       "91   https://www.ecb.europa.eu/press/pr/date/2017/h...   \n",
       "20   https://www.ecb.europa.eu/press/pr/date/2021/h...   \n",
       "330  https://www.ecb.europa.eu/press/pr/date/2009/h...   \n",
       "159  https://www.ecb.europa.eu/press/pr/date/2014/h...   \n",
       "82   https://www.ecb.europa.eu/press/pr/date/2017/h...   \n",
       "36   https://www.ecb.europa.eu/press/pr/date/2020/h...   \n",
       "126  https://www.ecb.europa.eu/press/pr/date/2015/h...   \n",
       "\n",
       "                                               text_en  length_en  \\\n",
       "86   At today’s meeting the Governing Council of th...        211   \n",
       "295  At today’s meeting the Governing Council of th...         64   \n",
       "3    17 February 2022  ECB profit €0.2 billion (202...        713   \n",
       "91   Non-governmental organisation commends ECB for...        332   \n",
       "20   18 February 2021  ECB profit amounted to €1.6 ...        804   \n",
       "330  At today’s meeting the Governing Council of th...         38   \n",
       "159  EMBARGOTransmission embargo until 11.30 a.m. C...        455   \n",
       "82   At today’s meeting the Governing Council of th...        252   \n",
       "36   At today’s meeting the Governing Council of th...        664   \n",
       "126  Decline in euro banknote counterfeits in first...        518   \n",
       "\n",
       "                                              title_el  \\\n",
       "86                    Αποφάσεις νομισματικής πολιτικής   \n",
       "295                   Αποφάσεις νομισματικής πολιτικής   \n",
       "3          Οικονομικές καταστάσεις της ΕΚΤ για το 2021   \n",
       "91   Η ΕΚΤ καλωσορίζει τον διάλογο με μη κυβερνητικ...   \n",
       "20         Οικονομικές καταστάσεις της ΕΚΤ για το 2020   \n",
       "330                   Αποφάσεις νομισματικής πολιτικής   \n",
       "159  Η ΕΚΤ δημοσιεύει εγχειρίδιο για την άσκηση προ...   \n",
       "82                    Αποφάσεις νομισματικής πολιτικής   \n",
       "36                    Αποφάσεις νομισματικής πολιτικής   \n",
       "126  Εξαμηνιαίο ενημερωτικό δελτίο σχετικά με την π...   \n",
       "\n",
       "                                               text_el  length_el  \\\n",
       "86   Κατά τη σημερινή του συνεδρίαση, το Διοικητικό...        258   \n",
       "295  Κατά τη σημερινή του συνεδρίαση το Διοικητικό ...         88   \n",
       "3    17 Φεβρουαρίου 2022  Τα κέρδη της ΕΚΤ ανήλθαν ...        849   \n",
       "91   Μη κυβερνητική οργάνωση επαινεί την ΕΚΤ για τα...        392   \n",
       "20   18 Φεβρουαρίου 2021  Τα κέρδη της ΕΚΤ ανήλθαν ...        929   \n",
       "330  Κατά τη σημερινή του συνεδρίαση, το Διοικητικό...         61   \n",
       "159  EMBARGOΑπαγόρευση δημοσίευσης πριν από τις 11....        581   \n",
       "82   Κατά τη σημερινή του συνεδρίαση το Διοικητικό ...        294   \n",
       "36   Κατά τη σημερινή του συνεδρίαση, το Διοικητικό...        794   \n",
       "126  Τα πλαστά τραπεζογραμμάτια ευρώ μειώθηκαν το π...        628   \n",
       "\n",
       "                                               link_el  \\\n",
       "86   https://www.ecb.europa.eu/press/pr/date/2017/h...   \n",
       "295  https://www.ecb.europa.eu/press/pr/date/2010/h...   \n",
       "3    https://www.ecb.europa.eu/press/pr/date/2022/h...   \n",
       "91   https://www.ecb.europa.eu/press/pr/date/2017/h...   \n",
       "20   https://www.ecb.europa.eu/press/pr/date/2021/h...   \n",
       "330  https://www.ecb.europa.eu/press/pr/date/2009/h...   \n",
       "159  https://www.ecb.europa.eu/press/pr/date/2014/h...   \n",
       "82   https://www.ecb.europa.eu/press/pr/date/2017/h...   \n",
       "36   https://www.ecb.europa.eu/press/pr/date/2020/h...   \n",
       "126  https://www.ecb.europa.eu/press/pr/date/2015/h...   \n",
       "\n",
       "                                            google_nmt  length_google  \n",
       "86   Στη σημερινή συνεδρίαση το Διοικητικό Συμβούλι...            218  \n",
       "295  Στη σημερινή συνεδρίασή του το Διοικητικό Συμβ...             61  \n",
       "3    17 Φεβρουαρίου 2022 Κέρδη ΕΚΤ 0,2 δισ. ευρώ (2...            793  \n",
       "91   Μη κυβερνητικός οργανισμός επαινεί την ΕΚΤ για...            371  \n",
       "20   Στις 18 Φεβρουαρίου 2021 τα κέρδη της ΕΚΤ ανήλ...            878  \n",
       "330  Στη σημερινή συνεδρίαση, το Διοικητικό Συμβούλ...             39  \n",
       "159  Εμπάργκο μετάδοσης EMBARGOT έως τις 11.30 π.μ....            496  \n",
       "82   Στη σημερινή συνεδρίαση το Διοικητικό Συμβούλι...            262  \n",
       "36   Στη σημερινή του συνεδρίαση, το Διοικητικό Συμ...            692  \n",
       "126  Μείωση των πλαστών τραπεζογραμματίων ευρώ το π...            563  "
      ]
     },
     "execution_count": 53,
     "metadata": {},
     "output_type": "execute_result"
    }
   ],
   "source": [
    "df_a.sample(10)"
   ]
  },
  {
   "cell_type": "code",
   "execution_count": 58,
   "metadata": {},
   "outputs": [
    {
     "name": "stderr",
     "output_type": "stream",
     "text": [
      "C:\\Program Files\\Python38\\lib\\site-packages\\pandas\\core\\frame.py:4167: SettingWithCopyWarning: \n",
      "A value is trying to be set on a copy of a slice from a DataFrame\n",
      "\n",
      "See the caveats in the documentation: https://pandas.pydata.org/pandas-docs/stable/user_guide/indexing.html#returning-a-view-versus-a-copy\n",
      "  return super().drop(\n"
     ]
    },
    {
     "data": {
      "text/plain": [
       "(338, 11)"
      ]
     },
     "execution_count": 58,
     "metadata": {},
     "output_type": "execute_result"
    }
   ],
   "source": [
    "df_b.drop(df_b.index[df_b['text_en'].str.len().idxmax() - 339], inplace=True)\n",
    "df_b.shape"
   ]
  },
  {
   "cell_type": "code",
   "execution_count": 59,
   "metadata": {},
   "outputs": [
    {
     "name": "stderr",
     "output_type": "stream",
     "text": [
      "C:\\Program Files\\Python38\\lib\\site-packages\\pandas\\core\\frame.py:4167: SettingWithCopyWarning: \n",
      "A value is trying to be set on a copy of a slice from a DataFrame\n",
      "\n",
      "See the caveats in the documentation: https://pandas.pydata.org/pandas-docs/stable/user_guide/indexing.html#returning-a-view-versus-a-copy\n",
      "  return super().drop(\n"
     ]
    },
    {
     "data": {
      "text/plain": [
       "(328, 11)"
      ]
     },
     "execution_count": 59,
     "metadata": {},
     "output_type": "execute_result"
    }
   ],
   "source": [
    "largest_10_idx = list(df_b.nlargest(10, 'length_en').index)\n",
    "df_b.shape\n",
    "df_b.drop(largest_10_idx, inplace=True)\n",
    "df_b.shape"
   ]
  },
  {
   "cell_type": "code",
   "execution_count": 60,
   "metadata": {},
   "outputs": [
    {
     "name": "stderr",
     "output_type": "stream",
     "text": [
      "<ipython-input-60-8daf7a5f49a9>:1: SettingWithCopyWarning: \n",
      "A value is trying to be set on a copy of a slice from a DataFrame.\n",
      "Try using .loc[row_indexer,col_indexer] = value instead\n",
      "\n",
      "See the caveats in the documentation: https://pandas.pydata.org/pandas-docs/stable/user_guide/indexing.html#returning-a-view-versus-a-copy\n",
      "  df_b['google_nmt'] = df_b['text_en'].apply(translate_text)\n",
      "<ipython-input-60-8daf7a5f49a9>:2: SettingWithCopyWarning: \n",
      "A value is trying to be set on a copy of a slice from a DataFrame.\n",
      "Try using .loc[row_indexer,col_indexer] = value instead\n",
      "\n",
      "See the caveats in the documentation: https://pandas.pydata.org/pandas-docs/stable/user_guide/indexing.html#returning-a-view-versus-a-copy\n",
      "  df_b['length_google'] = df_b['google_nmt'].apply(lambda x: len(x.split()))\n"
     ]
    }
   ],
   "source": [
    "df_b['google_nmt'] = df_b['text_en'].apply(translate_text)\n",
    "df_b['length_google'] = df_b['google_nmt'].apply(lambda x: len(x.split()))"
   ]
  },
  {
   "cell_type": "code",
   "execution_count": 61,
   "metadata": {},
   "outputs": [
    {
     "data": {
      "text/plain": [
       "(656, 13)"
      ]
     },
     "execution_count": 61,
     "metadata": {},
     "output_type": "execute_result"
    }
   ],
   "source": [
    "df_ = pd.concat([df_a, df_b], ignore_index=True).sort_values(by='date', ascending=False)\n",
    "df_.shape"
   ]
  },
  {
   "cell_type": "code",
   "execution_count": 66,
   "metadata": {},
   "outputs": [
    {
     "data": {
      "image/png": "[encoded data removed]",
      "text/plain": [
       "<Figure size 640x480 with 1 Axes>"
      ]
     },
     "metadata": {},
     "output_type": "display_data"
    }
   ],
   "source": [
    "plt.plot(df_[['length_el', 'length_google']].mean())\n",
    "plt.title('Mean length (human vs machine-translated text)')\n",
    "plt.ylabel('Word length')\n",
    "plt.grid()\n",
    "plt.show()"
   ]
  },
  {
   "cell_type": "code",
   "execution_count": 64,
   "metadata": {},
   "outputs": [
    {
     "data": {
      "text/html": [
       "<div>\n",
       "<style scoped>\n",
       "    .dataframe tbody tr th:only-of-type {\n",
       "        vertical-align: middle;\n",
       "    }\n",
       "\n",
       "    .dataframe tbody tr th {\n",
       "        vertical-align: top;\n",
       "    }\n",
       "\n",
       "    .dataframe thead th {\n",
       "        text-align: right;\n",
       "    }\n",
       "</style>\n",
       "<table border=\"1\" class=\"dataframe\">\n",
       "  <thead>\n",
       "    <tr style=\"text-align: right;\">\n",
       "      <th></th>\n",
       "      <th>year</th>\n",
       "      <th>date</th>\n",
       "      <th>category</th>\n",
       "      <th>title_en</th>\n",
       "      <th>link_en</th>\n",
       "      <th>text_en</th>\n",
       "      <th>length_en</th>\n",
       "      <th>title_el</th>\n",
       "      <th>text_el</th>\n",
       "      <th>length_el</th>\n",
       "      <th>link_el</th>\n",
       "      <th>google_nmt</th>\n",
       "      <th>length_google</th>\n",
       "    </tr>\n",
       "  </thead>\n",
       "  <tbody>\n",
       "    <tr>\n",
       "      <th>165</th>\n",
       "      <td>2014</td>\n",
       "      <td>2014-06-05</td>\n",
       "      <td>PRESS RELEASE</td>\n",
       "      <td>ECB announces monetary policy measures to enha...</td>\n",
       "      <td>https://www.ecb.europa.eu/press/pr/date/2014/h...</td>\n",
       "      <td>In pursuing its price stability mandate, the G...</td>\n",
       "      <td>647</td>\n",
       "      <td>Η ΕΚΤ ανακοινώνει μέτρα νομισματικής πολιτικής...</td>\n",
       "      <td>Στο πλαίσιο της επιδίωξης της αποστολής του να...</td>\n",
       "      <td>779</td>\n",
       "      <td>https://www.ecb.europa.eu/press/pr/date/2014/h...</td>\n",
       "      <td>Κατά την εκτέλεση της εντολής του για τη σταθε...</td>\n",
       "      <td>698</td>\n",
       "    </tr>\n",
       "    <tr>\n",
       "      <th>511</th>\n",
       "      <td>2003</td>\n",
       "      <td>2003-08-01</td>\n",
       "      <td>PRESS RELEASE</td>\n",
       "      <td>Publication of the indicative calendar for the...</td>\n",
       "      <td>https://www.ecb.europa.eu/press/pr/date/2003/h...</td>\n",
       "      <td>The European Central Bank (ECB) is today publi...</td>\n",
       "      <td>158</td>\n",
       "      <td>� ΑΡΑΡΤΗΜΑ 1. � ρακτικές πληροφορίες σχετικά μ...</td>\n",
       "      <td>- Μεταβατική περίοδος τήρησης των ελάχιστων υπ...</td>\n",
       "      <td>879</td>\n",
       "      <td>https://www.ecb.europa.eu/press/pr/date/2003/h...</td>\n",
       "      <td>Η Ευρωπαϊκή Κεντρική Τράπεζα (ΕΚΤ) δημοσιεύει ...</td>\n",
       "      <td>164</td>\n",
       "    </tr>\n",
       "    <tr>\n",
       "      <th>338</th>\n",
       "      <td>2008</td>\n",
       "      <td>2008-09-04</td>\n",
       "      <td>MONETARY POLICY DECISION</td>\n",
       "      <td>Monetary policy decisions</td>\n",
       "      <td>https://www.ecb.europa.eu/press/pr/date/2008/h...</td>\n",
       "      <td>At today’s meeting the Governing Council of th...</td>\n",
       "      <td>65</td>\n",
       "      <td>Αποφάσεις νομισματικής πολιτικής</td>\n",
       "      <td>Κατά τη σημερινή του συνεδρίαση, το Διοικητικό...</td>\n",
       "      <td>87</td>\n",
       "      <td>https://www.ecb.europa.eu/press/pr/date/2008/h...</td>\n",
       "      <td>Στη σημερινή συνεδρίασή του το Διοικητικό Συμβ...</td>\n",
       "      <td>65</td>\n",
       "    </tr>\n",
       "    <tr>\n",
       "      <th>296</th>\n",
       "      <td>2010</td>\n",
       "      <td>2010-03-04</td>\n",
       "      <td>PRESS RELEASE</td>\n",
       "      <td>Annual Accounts of the European Central Bank f...</td>\n",
       "      <td>https://www.ecb.europa.eu/press/pr/date/2010/h...</td>\n",
       "      <td>The Governing Council of the European Central ...</td>\n",
       "      <td>903</td>\n",
       "      <td>Ετήσιοι λογαριασμοί της Ευρωπαϊκής Κεντρικής Τ...</td>\n",
       "      <td>Το Διοικητικό Συμβούλιο της Ευρωπαϊκής Κεντρικ...</td>\n",
       "      <td>953</td>\n",
       "      <td>https://www.ecb.europa.eu/press/pr/date/2010/h...</td>\n",
       "      <td>Το Διοικητικό Συμβούλιο της Ευρωπαϊκής Κεντρικ...</td>\n",
       "      <td>916</td>\n",
       "    </tr>\n",
       "    <tr>\n",
       "      <th>595</th>\n",
       "      <td>2001</td>\n",
       "      <td>2001-03-29</td>\n",
       "      <td>MONETARY POLICY DECISION</td>\n",
       "      <td>Monetary policy decisions</td>\n",
       "      <td>https://www.ecb.europa.eu/press/pr/date/2001/h...</td>\n",
       "      <td>At today's meeting the Governing Council of th...</td>\n",
       "      <td>42</td>\n",
       "      <td>Αποφάσεις νομισματικής πολιτικής</td>\n",
       "      <td>Κατά τη σημερινή του συνεδρίαση, το Διοικητικό...</td>\n",
       "      <td>58</td>\n",
       "      <td>https://www.ecb.europa.eu/press/pr/date/2001/h...</td>\n",
       "      <td>Στη σημερινή συνεδρίασή του το Διοικητικό Συμβ...</td>\n",
       "      <td>40</td>\n",
       "    </tr>\n",
       "  </tbody>\n",
       "</table>\n",
       "</div>"
      ],
      "text/plain": [
       "     year        date                  category  \\\n",
       "165  2014  2014-06-05             PRESS RELEASE   \n",
       "511  2003  2003-08-01             PRESS RELEASE   \n",
       "338  2008  2008-09-04  MONETARY POLICY DECISION   \n",
       "296  2010  2010-03-04             PRESS RELEASE   \n",
       "595  2001  2001-03-29  MONETARY POLICY DECISION   \n",
       "\n",
       "                                              title_en  \\\n",
       "165  ECB announces monetary policy measures to enha...   \n",
       "511  Publication of the indicative calendar for the...   \n",
       "338                          Monetary policy decisions   \n",
       "296  Annual Accounts of the European Central Bank f...   \n",
       "595                          Monetary policy decisions   \n",
       "\n",
       "                                               link_en  \\\n",
       "165  https://www.ecb.europa.eu/press/pr/date/2014/h...   \n",
       "511  https://www.ecb.europa.eu/press/pr/date/2003/h...   \n",
       "338  https://www.ecb.europa.eu/press/pr/date/2008/h...   \n",
       "296  https://www.ecb.europa.eu/press/pr/date/2010/h...   \n",
       "595  https://www.ecb.europa.eu/press/pr/date/2001/h...   \n",
       "\n",
       "                                               text_en  length_en  \\\n",
       "165  In pursuing its price stability mandate, the G...        647   \n",
       "511  The European Central Bank (ECB) is today publi...        158   \n",
       "338  At today’s meeting the Governing Council of th...         65   \n",
       "296  The Governing Council of the European Central ...        903   \n",
       "595  At today's meeting the Governing Council of th...         42   \n",
       "\n",
       "                                              title_el  \\\n",
       "165  Η ΕΚΤ ανακοινώνει μέτρα νομισματικής πολιτικής...   \n",
       "511  � ΑΡΑΡΤΗΜΑ 1. � ρακτικές πληροφορίες σχετικά μ...   \n",
       "338                   Αποφάσεις νομισματικής πολιτικής   \n",
       "296  Ετήσιοι λογαριασμοί της Ευρωπαϊκής Κεντρικής Τ...   \n",
       "595                   Αποφάσεις νομισματικής πολιτικής   \n",
       "\n",
       "                                               text_el  length_el  \\\n",
       "165  Στο πλαίσιο της επιδίωξης της αποστολής του να...        779   \n",
       "511  - Μεταβατική περίοδος τήρησης των ελάχιστων υπ...        879   \n",
       "338  Κατά τη σημερινή του συνεδρίαση, το Διοικητικό...         87   \n",
       "296  Το Διοικητικό Συμβούλιο της Ευρωπαϊκής Κεντρικ...        953   \n",
       "595  Κατά τη σημερινή του συνεδρίαση, το Διοικητικό...         58   \n",
       "\n",
       "                                               link_el  \\\n",
       "165  https://www.ecb.europa.eu/press/pr/date/2014/h...   \n",
       "511  https://www.ecb.europa.eu/press/pr/date/2003/h...   \n",
       "338  https://www.ecb.europa.eu/press/pr/date/2008/h...   \n",
       "296  https://www.ecb.europa.eu/press/pr/date/2010/h...   \n",
       "595  https://www.ecb.europa.eu/press/pr/date/2001/h...   \n",
       "\n",
       "                                            google_nmt  length_google  \n",
       "165  Κατά την εκτέλεση της εντολής του για τη σταθε...            698  \n",
       "511  Η Ευρωπαϊκή Κεντρική Τράπεζα (ΕΚΤ) δημοσιεύει ...            164  \n",
       "338  Στη σημερινή συνεδρίασή του το Διοικητικό Συμβ...             65  \n",
       "296  Το Διοικητικό Συμβούλιο της Ευρωπαϊκής Κεντρικ...            916  \n",
       "595  Στη σημερινή συνεδρίασή του το Διοικητικό Συμβ...             40  "
      ]
     },
     "execution_count": 64,
     "metadata": {},
     "output_type": "execute_result"
    }
   ],
   "source": [
    "df_.sample(5)"
   ]
  },
  {
   "cell_type": "code",
   "execution_count": 65,
   "metadata": {},
   "outputs": [],
   "source": [
    "df_.to_csv('corpus_el_google.csv', sep=';', index=False)"
   ]
  }
 ],
 "metadata": {
  "interpreter": {
   "hash": "1baa965d5efe3ac65b79dfc60c0d706280b1da80fedb7760faf2759126c4f253"
  },
  "kernelspec": {
   "display_name": "Python 3.8.2 64-bit",
   "language": "python",
   "name": "python3"
  },
  "language_info": {
   "codemirror_mode": {
    "name": "ipython",
    "version": 3
   },
   "file_extension": ".py",
   "mimetype": "text/x-python",
   "name": "python",
   "nbconvert_exporter": "python",
   "pygments_lexer": "ipython3",
   "version": "3.8.2"
  },
  "orig_nbformat": 4
 },
 "nbformat": 4,
 "nbformat_minor": 2
}
