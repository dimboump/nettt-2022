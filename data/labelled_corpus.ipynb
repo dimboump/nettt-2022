{
 "cells": [
  {
   "cell_type": "code",
   "execution_count": 1,
   "metadata": {},
   "outputs": [],
   "source": [
    "import pandas as pd"
   ]
  },
  {
   "cell_type": "code",
   "execution_count": 2,
   "metadata": {},
   "outputs": [
    {
     "data": {
      "text/html": [
       "<div>\n",
       "<style scoped>\n",
       "    .dataframe tbody tr th:only-of-type {\n",
       "        vertical-align: middle;\n",
       "    }\n",
       "\n",
       "    .dataframe tbody tr th {\n",
       "        vertical-align: top;\n",
       "    }\n",
       "\n",
       "    .dataframe thead th {\n",
       "        text-align: right;\n",
       "    }\n",
       "</style>\n",
       "<table border=\"1\" class=\"dataframe\">\n",
       "  <thead>\n",
       "    <tr style=\"text-align: right;\">\n",
       "      <th></th>\n",
       "      <th>text_el</th>\n",
       "      <th>google_nmt</th>\n",
       "    </tr>\n",
       "  </thead>\n",
       "  <tbody>\n",
       "    <tr>\n",
       "      <th>146</th>\n",
       "      <td>Ο κανονισμός σχετικά με τα εποπτικά τέλη καθορ...</td>\n",
       "      <td>Ο κανονισμός για τις εποπτικές αμοιβές καθορίζ...</td>\n",
       "    </tr>\n",
       "    <tr>\n",
       "      <th>361</th>\n",
       "      <td>Η Ελλάδα είναι η χώρα στην οποία είναι αφιερωμ...</td>\n",
       "      <td>Η Ελλάδα είναι η χώρα που παρουσιάζεται με την...</td>\n",
       "    </tr>\n",
       "    <tr>\n",
       "      <th>427</th>\n",
       "      <td>Κατά τη σημερινή του συνεδρίαση, η οποία πραγμ...</td>\n",
       "      <td>Στη σημερινή συνεδρίαση, που πραγματοποιήθηκε ...</td>\n",
       "    </tr>\n",
       "    <tr>\n",
       "      <th>192</th>\n",
       "      <td>EMBARGOΑπαγόρευση δημοσίευσης πριν από τις 9.0...</td>\n",
       "      <td>Οι μεγάλες τράπεζες θα υποβληθούν σε αξιολόγησ...</td>\n",
       "    </tr>\n",
       "    <tr>\n",
       "      <th>507</th>\n",
       "      <td>Κατά τη σημερινή του συνεδρίαση, το Διοικητικό...</td>\n",
       "      <td>Στη σημερινή συνεδρίασή του το Διοικητικό Συμβ...</td>\n",
       "    </tr>\n",
       "    <tr>\n",
       "      <th>538</th>\n",
       "      <td>Κατά τη σημερινή του συνεδρίαση, το Διοικητικό...</td>\n",
       "      <td>Στη σημερινή συνεδρίασή του το Διοικητικό Συμβ...</td>\n",
       "    </tr>\n",
       "    <tr>\n",
       "      <th>2</th>\n",
       "      <td>2 Μαρτίου 2022 Η Ευρωπαϊκή Κεντρική Τράπεζα (Ε...</td>\n",
       "      <td>2 Μαρτίου 2022 Η Ευρωπαϊκή Κεντρική Τράπεζα (Ε...</td>\n",
       "    </tr>\n",
       "    <tr>\n",
       "      <th>298</th>\n",
       "      <td>Κατά τη σημερινή του συνεδρίαση, το Διοικητικό...</td>\n",
       "      <td>Στη σημερινή συνεδρίασή του το Διοικητικό Συμβ...</td>\n",
       "    </tr>\n",
       "    <tr>\n",
       "      <th>344</th>\n",
       "      <td>Κατά τη σημερινή του συνεδρίαση, η οποία πραγμ...</td>\n",
       "      <td>Στη σημερινή συνεδρίαση, που πραγματοποιήθηκε ...</td>\n",
       "    </tr>\n",
       "    <tr>\n",
       "      <th>261</th>\n",
       "      <td>Η Ευρωπαϊκή Κεντρική Τράπεζα (ΕΚΤ) δημοσιεύει ...</td>\n",
       "      <td>Η Ευρωπαϊκή Κεντρική Τράπεζα (ΕΚΤ) δημοσιεύει ...</td>\n",
       "    </tr>\n",
       "  </tbody>\n",
       "</table>\n",
       "</div>"
      ],
      "text/plain": [
       "                                               text_el  \\\n",
       "146  Ο κανονισμός σχετικά με τα εποπτικά τέλη καθορ...   \n",
       "361  Η Ελλάδα είναι η χώρα στην οποία είναι αφιερωμ...   \n",
       "427  Κατά τη σημερινή του συνεδρίαση, η οποία πραγμ...   \n",
       "192  EMBARGOΑπαγόρευση δημοσίευσης πριν από τις 9.0...   \n",
       "507  Κατά τη σημερινή του συνεδρίαση, το Διοικητικό...   \n",
       "538  Κατά τη σημερινή του συνεδρίαση, το Διοικητικό...   \n",
       "2    2 Μαρτίου 2022 Η Ευρωπαϊκή Κεντρική Τράπεζα (Ε...   \n",
       "298  Κατά τη σημερινή του συνεδρίαση, το Διοικητικό...   \n",
       "344  Κατά τη σημερινή του συνεδρίαση, η οποία πραγμ...   \n",
       "261  Η Ευρωπαϊκή Κεντρική Τράπεζα (ΕΚΤ) δημοσιεύει ...   \n",
       "\n",
       "                                            google_nmt  \n",
       "146  Ο κανονισμός για τις εποπτικές αμοιβές καθορίζ...  \n",
       "361  Η Ελλάδα είναι η χώρα που παρουσιάζεται με την...  \n",
       "427  Στη σημερινή συνεδρίαση, που πραγματοποιήθηκε ...  \n",
       "192  Οι μεγάλες τράπεζες θα υποβληθούν σε αξιολόγησ...  \n",
       "507  Στη σημερινή συνεδρίασή του το Διοικητικό Συμβ...  \n",
       "538  Στη σημερινή συνεδρίασή του το Διοικητικό Συμβ...  \n",
       "2    2 Μαρτίου 2022 Η Ευρωπαϊκή Κεντρική Τράπεζα (Ε...  \n",
       "298  Στη σημερινή συνεδρίασή του το Διοικητικό Συμβ...  \n",
       "344  Στη σημερινή συνεδρίαση, που πραγματοποιήθηκε ...  \n",
       "261  Η Ευρωπαϊκή Κεντρική Τράπεζα (ΕΚΤ) δημοσιεύει ...  "
      ]
     },
     "execution_count": 2,
     "metadata": {},
     "output_type": "execute_result"
    }
   ],
   "source": [
    "df_to_split = pd.read_csv('corpus_el_google.csv', sep=';', usecols=['text_el', 'google_nmt'])\n",
    "df_to_split.sample(10)"
   ]
  },
  {
   "cell_type": "code",
   "execution_count": 3,
   "metadata": {},
   "outputs": [
    {
     "data": {
      "text/plain": [
       "((645, 2), (645, 2))"
      ]
     },
     "execution_count": 3,
     "metadata": {},
     "output_type": "execute_result"
    }
   ],
   "source": [
    "df_translators = pd.DataFrame({'el': df_to_split['text_el'], 'author': 'translator'})\n",
    "df_google = pd.DataFrame({'el': df_to_split['google_nmt'], 'author': 'google'})\n",
    "\n",
    "df_translators.shape, df_google.shape"
   ]
  },
  {
   "cell_type": "code",
   "execution_count": 4,
   "metadata": {},
   "outputs": [
    {
     "data": {
      "text/html": [
       "<div>\n",
       "<style scoped>\n",
       "    .dataframe tbody tr th:only-of-type {\n",
       "        vertical-align: middle;\n",
       "    }\n",
       "\n",
       "    .dataframe tbody tr th {\n",
       "        vertical-align: top;\n",
       "    }\n",
       "\n",
       "    .dataframe thead th {\n",
       "        text-align: right;\n",
       "    }\n",
       "</style>\n",
       "<table border=\"1\" class=\"dataframe\">\n",
       "  <thead>\n",
       "    <tr style=\"text-align: right;\">\n",
       "      <th></th>\n",
       "      <th>el</th>\n",
       "      <th>author</th>\n",
       "    </tr>\n",
       "  </thead>\n",
       "  <tbody>\n",
       "    <tr>\n",
       "      <th>0</th>\n",
       "      <td>14 Απριλίου 2022Η επίθεση της Ρωσίας στην Ουκρ...</td>\n",
       "      <td>translator</td>\n",
       "    </tr>\n",
       "    <tr>\n",
       "      <th>1</th>\n",
       "      <td>14 Απριλίου 2022 Η επιθετικότητα της Ρωσίας στ...</td>\n",
       "      <td>google</td>\n",
       "    </tr>\n",
       "    <tr>\n",
       "      <th>2</th>\n",
       "      <td>10 Μαρτίου 2022 Η εισβολή της Ρωσίας στην Ουκρ...</td>\n",
       "      <td>translator</td>\n",
       "    </tr>\n",
       "    <tr>\n",
       "      <th>3</th>\n",
       "      <td>10 Μαρτίου 2022 Η ρωσική εισβολή στην Ουκρανία...</td>\n",
       "      <td>google</td>\n",
       "    </tr>\n",
       "    <tr>\n",
       "      <th>4</th>\n",
       "      <td>2 Μαρτίου 2022 Η Ευρωπαϊκή Κεντρική Τράπεζα (Ε...</td>\n",
       "      <td>translator</td>\n",
       "    </tr>\n",
       "    <tr>\n",
       "      <th>5</th>\n",
       "      <td>2 Μαρτίου 2022 Η Ευρωπαϊκή Κεντρική Τράπεζα (Ε...</td>\n",
       "      <td>google</td>\n",
       "    </tr>\n",
       "    <tr>\n",
       "      <th>6</th>\n",
       "      <td>17 Φεβρουαρίου 2022  Τα κέρδη της ΕΚΤ ανήλθαν ...</td>\n",
       "      <td>translator</td>\n",
       "    </tr>\n",
       "    <tr>\n",
       "      <th>7</th>\n",
       "      <td>17 Φεβρουαρίου 2022 Κέρδη ΕΚΤ 0,2 δισ. ευρώ (2...</td>\n",
       "      <td>google</td>\n",
       "    </tr>\n",
       "    <tr>\n",
       "      <th>8</th>\n",
       "      <td>Ενεργητικό  (σε εκατ. ευρώ)     Παθητικό  (σε ...</td>\n",
       "      <td>translator</td>\n",
       "    </tr>\n",
       "    <tr>\n",
       "      <th>9</th>\n",
       "      <td>Ενεργητικό (εκατ. ευρώ) Υποχρεώσεις (εκατ. ευρ...</td>\n",
       "      <td>google</td>\n",
       "    </tr>\n",
       "  </tbody>\n",
       "</table>\n",
       "</div>"
      ],
      "text/plain": [
       "                                                  el      author\n",
       "0  14 Απριλίου 2022Η επίθεση της Ρωσίας στην Ουκρ...  translator\n",
       "1  14 Απριλίου 2022 Η επιθετικότητα της Ρωσίας στ...      google\n",
       "2  10 Μαρτίου 2022 Η εισβολή της Ρωσίας στην Ουκρ...  translator\n",
       "3  10 Μαρτίου 2022 Η ρωσική εισβολή στην Ουκρανία...      google\n",
       "4  2 Μαρτίου 2022 Η Ευρωπαϊκή Κεντρική Τράπεζα (Ε...  translator\n",
       "5  2 Μαρτίου 2022 Η Ευρωπαϊκή Κεντρική Τράπεζα (Ε...      google\n",
       "6  17 Φεβρουαρίου 2022  Τα κέρδη της ΕΚΤ ανήλθαν ...  translator\n",
       "7  17 Φεβρουαρίου 2022 Κέρδη ΕΚΤ 0,2 δισ. ευρώ (2...      google\n",
       "8  Ενεργητικό  (σε εκατ. ευρώ)     Παθητικό  (σε ...  translator\n",
       "9  Ενεργητικό (εκατ. ευρώ) Υποχρεώσεις (εκατ. ευρ...      google"
      ]
     },
     "execution_count": 4,
     "metadata": {},
     "output_type": "execute_result"
    }
   ],
   "source": [
    "df_full = pd.concat([df_translators, df_google]).sort_index(kind='merge').reset_index(drop=True)\n",
    "df_full.head(10)"
   ]
  },
  {
   "cell_type": "code",
   "execution_count": 5,
   "metadata": {},
   "outputs": [],
   "source": [
    "df_full.to_csv('corpus_el_labelled.csv', sep=';', index=False)"
   ]
  }
 ],
 "metadata": {
  "interpreter": {
   "hash": "1baa965d5efe3ac65b79dfc60c0d706280b1da80fedb7760faf2759126c4f253"
  },
  "kernelspec": {
   "display_name": "Python 3.8.2 64-bit",
   "language": "python",
   "name": "python3"
  },
  "language_info": {
   "codemirror_mode": {
    "name": "ipython",
    "version": 3
   },
   "file_extension": ".py",
   "mimetype": "text/x-python",
   "name": "python",
   "nbconvert_exporter": "python",
   "pygments_lexer": "ipython3",
   "version": "3.8.2"
  },
  "orig_nbformat": 4
 },
 "nbformat": 4,
 "nbformat_minor": 2
}
