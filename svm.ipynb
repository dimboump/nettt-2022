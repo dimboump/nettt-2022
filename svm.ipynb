{
 "cells": [
  {
   "cell_type": "code",
   "execution_count": 23,
   "metadata": {},
   "outputs": [],
   "source": [
    "import pandas as pd\n",
    "import numpy as np\n",
    "from matplotlib import pyplot as plt\n",
    "\n",
    "from sklearn.feature_extraction.text import TfidfVectorizer\n",
    "from sklearn.preprocessing import StandardScaler\n",
    "from sklearn.model_selection import train_test_split\n",
    "from sklearn.pipeline import make_pipeline\n",
    "from sklearn.svm import SVC\n",
    "from sklearn.metrics import confusion_matrix, classification_report, accuracy_score, ConfusionMatrixDisplay"
   ]
  },
  {
   "cell_type": "code",
   "execution_count": 5,
   "metadata": {},
   "outputs": [
    {
     "data": {
      "text/html": [
       "<div>\n",
       "<style scoped>\n",
       "    .dataframe tbody tr th:only-of-type {\n",
       "        vertical-align: middle;\n",
       "    }\n",
       "\n",
       "    .dataframe tbody tr th {\n",
       "        vertical-align: top;\n",
       "    }\n",
       "\n",
       "    .dataframe thead th {\n",
       "        text-align: right;\n",
       "    }\n",
       "</style>\n",
       "<table border=\"1\" class=\"dataframe\">\n",
       "  <thead>\n",
       "    <tr style=\"text-align: right;\">\n",
       "      <th></th>\n",
       "      <th>el</th>\n",
       "      <th>author</th>\n",
       "    </tr>\n",
       "  </thead>\n",
       "  <tbody>\n",
       "    <tr>\n",
       "      <th>1218</th>\n",
       "      <td>Κατά τη σημερινή του συνεδρίαση το Διοικητικό ...</td>\n",
       "      <td>translator</td>\n",
       "    </tr>\n",
       "    <tr>\n",
       "      <th>340</th>\n",
       "      <td>EMBARGOΑπαγόρευση δημοσίευσης πριν από τις 11....</td>\n",
       "      <td>translator</td>\n",
       "    </tr>\n",
       "    <tr>\n",
       "      <th>226</th>\n",
       "      <td>Ο Πρόεδρος της Ελληνικής Δημοκρατίας, κ. Προκό...</td>\n",
       "      <td>translator</td>\n",
       "    </tr>\n",
       "    <tr>\n",
       "      <th>376</th>\n",
       "      <td>Κατά τη σημερινή του συνεδρίαση, το Διοικητικό...</td>\n",
       "      <td>translator</td>\n",
       "    </tr>\n",
       "    <tr>\n",
       "      <th>134</th>\n",
       "      <td>17 Σεπτεμβρίου 2018  Τα νέα τραπεζογραμμάτια τ...</td>\n",
       "      <td>translator</td>\n",
       "    </tr>\n",
       "    <tr>\n",
       "      <th>111</th>\n",
       "      <td>28 Μαΐου 2019 Κυκλοφορούν σήμερα τραπεζογραμμά...</td>\n",
       "      <td>google</td>\n",
       "    </tr>\n",
       "    <tr>\n",
       "      <th>330</th>\n",
       "      <td>EMBARGOΑπαγόρευση δημοσίευσης πριν από τις 10....</td>\n",
       "      <td>translator</td>\n",
       "    </tr>\n",
       "    <tr>\n",
       "      <th>881</th>\n",
       "      <td>Σε συνέχεια των αποφάσεων που ελήφθησαν στις 2...</td>\n",
       "      <td>google</td>\n",
       "    </tr>\n",
       "    <tr>\n",
       "      <th>957</th>\n",
       "      <td>Σήμερα, η Ευρωπαϊκή Κεντρική Τράπεζα και η Ευρ...</td>\n",
       "      <td>google</td>\n",
       "    </tr>\n",
       "    <tr>\n",
       "      <th>562</th>\n",
       "      <td>Κατά τη σημερινή του συνεδρίαση το Διοικητικό ...</td>\n",
       "      <td>translator</td>\n",
       "    </tr>\n",
       "  </tbody>\n",
       "</table>\n",
       "</div>"
      ],
      "text/plain": [
       "                                                     el      author\n",
       "1218  Κατά τη σημερινή του συνεδρίαση το Διοικητικό ...  translator\n",
       "340   EMBARGOΑπαγόρευση δημοσίευσης πριν από τις 11....  translator\n",
       "226   Ο Πρόεδρος της Ελληνικής Δημοκρατίας, κ. Προκό...  translator\n",
       "376   Κατά τη σημερινή του συνεδρίαση, το Διοικητικό...  translator\n",
       "134   17 Σεπτεμβρίου 2018  Τα νέα τραπεζογραμμάτια τ...  translator\n",
       "111   28 Μαΐου 2019 Κυκλοφορούν σήμερα τραπεζογραμμά...      google\n",
       "330   EMBARGOΑπαγόρευση δημοσίευσης πριν από τις 10....  translator\n",
       "881   Σε συνέχεια των αποφάσεων που ελήφθησαν στις 2...      google\n",
       "957   Σήμερα, η Ευρωπαϊκή Κεντρική Τράπεζα και η Ευρ...      google\n",
       "562   Κατά τη σημερινή του συνεδρίαση το Διοικητικό ...  translator"
      ]
     },
     "execution_count": 5,
     "metadata": {},
     "output_type": "execute_result"
    }
   ],
   "source": [
    "df = pd.read_csv('data/corpus_el_labelled.csv', sep=';')\n",
    "df.sample(10)"
   ]
  },
  {
   "cell_type": "code",
   "execution_count": 6,
   "metadata": {},
   "outputs": [
    {
     "data": {
      "text/html": [
       "<div>\n",
       "<style scoped>\n",
       "    .dataframe tbody tr th:only-of-type {\n",
       "        vertical-align: middle;\n",
       "    }\n",
       "\n",
       "    .dataframe tbody tr th {\n",
       "        vertical-align: top;\n",
       "    }\n",
       "\n",
       "    .dataframe thead th {\n",
       "        text-align: right;\n",
       "    }\n",
       "</style>\n",
       "<table border=\"1\" class=\"dataframe\">\n",
       "  <thead>\n",
       "    <tr style=\"text-align: right;\">\n",
       "      <th></th>\n",
       "      <th>el</th>\n",
       "      <th>author</th>\n",
       "    </tr>\n",
       "  </thead>\n",
       "  <tbody>\n",
       "    <tr>\n",
       "      <th>646</th>\n",
       "      <td>Σήμερα η Σλοβακία εισήγαγε το ευρώ. Έτσι, ο αρ...</td>\n",
       "      <td>0</td>\n",
       "    </tr>\n",
       "    <tr>\n",
       "      <th>86</th>\n",
       "      <td>Η επανεξέταση θα περιλαμβάνει την ποσοτική δια...</td>\n",
       "      <td>0</td>\n",
       "    </tr>\n",
       "    <tr>\n",
       "      <th>383</th>\n",
       "      <td>Στη σημερινή του συνεδρίαση, το Διοικητικό Συμ...</td>\n",
       "      <td>1</td>\n",
       "    </tr>\n",
       "    <tr>\n",
       "      <th>410</th>\n",
       "      <td>Η Ευρωπαϊκή Κεντρική Τράπεζα (ΕΚΤ) ανακοινώνει...</td>\n",
       "      <td>0</td>\n",
       "    </tr>\n",
       "    <tr>\n",
       "      <th>57</th>\n",
       "      <td>Στη σημερινή συνεδρίαση το Διοικητικό Συμβούλι...</td>\n",
       "      <td>1</td>\n",
       "    </tr>\n",
       "    <tr>\n",
       "      <th>187</th>\n",
       "      <td>Στη σημερινή συνεδρίαση το Διοικητικό Συμβούλι...</td>\n",
       "      <td>1</td>\n",
       "    </tr>\n",
       "    <tr>\n",
       "      <th>1046</th>\n",
       "      <td>Στο πλαίσιο του διεθνούς αρχιτεκτονικού διαγων...</td>\n",
       "      <td>0</td>\n",
       "    </tr>\n",
       "    <tr>\n",
       "      <th>917</th>\n",
       "      <td>Στη σημερινή συνεδρίαση το Διοικητικό Συμβούλι...</td>\n",
       "      <td>1</td>\n",
       "    </tr>\n",
       "    <tr>\n",
       "      <th>277</th>\n",
       "      <td>Στη σημερινή συνεδρίασή του το Διοικητικό Συμβ...</td>\n",
       "      <td>1</td>\n",
       "    </tr>\n",
       "    <tr>\n",
       "      <th>492</th>\n",
       "      <td>Το Διοικητικό Συμβούλιο της Ευρωπαϊκής Κεντρικ...</td>\n",
       "      <td>0</td>\n",
       "    </tr>\n",
       "  </tbody>\n",
       "</table>\n",
       "</div>"
      ],
      "text/plain": [
       "                                                     el  author\n",
       "646   Σήμερα η Σλοβακία εισήγαγε το ευρώ. Έτσι, ο αρ...       0\n",
       "86    Η επανεξέταση θα περιλαμβάνει την ποσοτική δια...       0\n",
       "383   Στη σημερινή του συνεδρίαση, το Διοικητικό Συμ...       1\n",
       "410   Η Ευρωπαϊκή Κεντρική Τράπεζα (ΕΚΤ) ανακοινώνει...       0\n",
       "57    Στη σημερινή συνεδρίαση το Διοικητικό Συμβούλι...       1\n",
       "187   Στη σημερινή συνεδρίαση το Διοικητικό Συμβούλι...       1\n",
       "1046  Στο πλαίσιο του διεθνούς αρχιτεκτονικού διαγων...       0\n",
       "917   Στη σημερινή συνεδρίαση το Διοικητικό Συμβούλι...       1\n",
       "277   Στη σημερινή συνεδρίασή του το Διοικητικό Συμβ...       1\n",
       "492   Το Διοικητικό Συμβούλιο της Ευρωπαϊκής Κεντρικ...       0"
      ]
     },
     "execution_count": 6,
     "metadata": {},
     "output_type": "execute_result"
    }
   ],
   "source": [
    "df.replace({'author': {'google': 1, 'translator': 0}}, inplace=True)\n",
    "df.sample(10)"
   ]
  },
  {
   "cell_type": "code",
   "execution_count": 19,
   "metadata": {},
   "outputs": [
    {
     "data": {
      "text/plain": [
       "el        0\n",
       "author    0\n",
       "dtype: int64"
      ]
     },
     "execution_count": 19,
     "metadata": {},
     "output_type": "execute_result"
    }
   ],
   "source": [
    "df.isna().sum()"
   ]
  },
  {
   "cell_type": "code",
   "execution_count": 8,
   "metadata": {},
   "outputs": [
    {
     "data": {
      "text/plain": [
       "((1032,), (258,), (1032,), (258,))"
      ]
     },
     "execution_count": 8,
     "metadata": {},
     "output_type": "execute_result"
    }
   ],
   "source": [
    "X = df['el']\n",
    "y = df['author']\n",
    "\n",
    "X_train, X_test, y_train, y_test = train_test_split(X, y, test_size=0.2, random_state=42)\n",
    "X_train.shape, X_test.shape, y_train.shape, y_test.shape"
   ]
  },
  {
   "cell_type": "code",
   "execution_count": 11,
   "metadata": {},
   "outputs": [],
   "source": [
    "vect = TfidfVectorizer(max_features=10000)"
   ]
  },
  {
   "cell_type": "code",
   "execution_count": 21,
   "metadata": {},
   "outputs": [
    {
     "name": "stdout",
     "output_type": "stream",
     "text": [
      "Fitting 10 folds for each of 15 candidates, totalling 150 fits\n",
      "------------------------------------------------\n",
      "Best params: {'svc__C': 10, 'tfidfvectorizer__ngram_range': (2, 3)}\n",
      "Best f1-score: 0.8951917909696177\n"
     ]
    }
   ],
   "source": [
    "from sklearn.compose import make_column_transformer\n",
    "from sklearn.model_selection import GridSearchCV\n",
    "\n",
    "clf = SVC()\n",
    "\n",
    "pipe = make_pipeline(vect, clf)\n",
    "\n",
    "param_grid = {\n",
    "    'svc__C': [0.01, 0.1, 0.5, 1, 10],\n",
    "    'tfidfvectorizer__ngram_range': [(1, 2), (2, 2), (2, 3)]\n",
    "}\n",
    "\n",
    "gs = GridSearchCV(pipe, param_grid, cv=10, scoring='f1_macro', n_jobs=-1, verbose=1, refit=True)\n",
    "gs.fit(X_train, y_train)\n",
    "\n",
    "print('-'*48)\n",
    "print('Best params:', gs.best_params_)\n",
    "print('Best f1-score:', round(gs.best_score_, 4))"
   ]
  },
  {
   "cell_type": "code",
   "execution_count": 57,
   "metadata": {},
   "outputs": [
    {
     "name": "stdout",
     "output_type": "stream",
     "text": [
      "              precision    recall  f1-score   support\n",
      "\n",
      "           0       0.91      0.89      0.90       133\n",
      "           1       0.88      0.90      0.89       125\n",
      "\n",
      "    accuracy                           0.90       258\n",
      "   macro avg       0.90      0.90      0.90       258\n",
      "weighted avg       0.90      0.90      0.90       258\n",
      "\n"
     ]
    },
    {
     "data": {
      "image/png": "[encoded data removed]",
      "text/plain": [
       "<Figure size 640x480 with 2 Axes>"
      ]
     },
     "metadata": {},
     "output_type": "display_data"
    }
   ],
   "source": [
    "y_pred = gs.predict(X_test)\n",
    "print(classification_report(y_test, y_pred))\n",
    "cm = confusion_matrix(y_test, y_pred, labels=[1, 0], normalize='all')\n",
    "ConfusionMatrixDisplay(cm, display_labels=[1, 0]).plot(cmap=plt.cm.Blues);"
   ]
  },
  {
   "cell_type": "code",
   "execution_count": 44,
   "metadata": {},
   "outputs": [
    {
     "name": "stdout",
     "output_type": "stream",
     "text": [
      "0.388 (+/-0.062) for {'svc__C': 0.01, 'tfidfvectorizer__ngram_range': (1, 2)}\n",
      "0.337 (+/-0.013) for {'svc__C': 0.01, 'tfidfvectorizer__ngram_range': (2, 2)}\n",
      "0.335 (+/-0.002) for {'svc__C': 0.01, 'tfidfvectorizer__ngram_range': (2, 3)}\n",
      "0.702 (+/-0.090) for {'svc__C': 0.1, 'tfidfvectorizer__ngram_range': (1, 2)}\n",
      "0.697 (+/-0.086) for {'svc__C': 0.1, 'tfidfvectorizer__ngram_range': (2, 2)}\n",
      "0.719 (+/-0.072) for {'svc__C': 0.1, 'tfidfvectorizer__ngram_range': (2, 3)}\n",
      "0.836 (+/-0.041) for {'svc__C': 0.5, 'tfidfvectorizer__ngram_range': (1, 2)}\n",
      "0.850 (+/-0.034) for {'svc__C': 0.5, 'tfidfvectorizer__ngram_range': (2, 2)}\n",
      "0.860 (+/-0.047) for {'svc__C': 0.5, 'tfidfvectorizer__ngram_range': (2, 3)}\n",
      "0.847 (+/-0.057) for {'svc__C': 1, 'tfidfvectorizer__ngram_range': (1, 2)}\n",
      "0.856 (+/-0.063) for {'svc__C': 1, 'tfidfvectorizer__ngram_range': (2, 2)}\n",
      "0.884 (+/-0.089) for {'svc__C': 1, 'tfidfvectorizer__ngram_range': (2, 3)}\n",
      "0.884 (+/-0.069) for {'svc__C': 10, 'tfidfvectorizer__ngram_range': (1, 2)}\n",
      "0.883 (+/-0.072) for {'svc__C': 10, 'tfidfvectorizer__ngram_range': (2, 2)}\n",
      "0.895 (+/-0.079) for {'svc__C': 10, 'tfidfvectorizer__ngram_range': (2, 3)}\n"
     ]
    }
   ],
   "source": [
    "means = gs.cv_results_['mean_test_score']\n",
    "stds = gs.cv_results_['std_test_score']\n",
    "\n",
    "for mean, std, params in zip(means, stds, gs.cv_results_['params']):\n",
    "    print(\"%0.3f (+/-%0.03f) for %r\"\n",
    "          % (mean, std * 2, params))"
   ]
  },
  {
   "cell_type": "code",
   "execution_count": 53,
   "metadata": {},
   "outputs": [],
   "source": [
    "def plot_grid_search(cv_results, grid_param_1, grid_param_2, name_param_1, name_param_2):\n",
    "\n",
    "    scores_mean = cv_results['mean_test_score']\n",
    "    scores_mean = np.array(scores_mean).reshape(len(grid_param_2), len(grid_param_1))\n",
    "\n",
    "    scores_sd = cv_results['std_test_score']\n",
    "    scores_sd = np.array(scores_sd).reshape(len(grid_param_2), len(grid_param_1))\n",
    "\n",
    "    _, ax = plt.subplots(1, 1) # Plot Grid search scores\n",
    "\n",
    "    # Param1 is the X-axis, Param 2 is represented as a different curve (color line)\n",
    "    for idx, val in enumerate(grid_param_2):\n",
    "        ax.plot(grid_param_1, scores_mean[idx,:], '-o', label= name_param_2 + ': ' + str(val))\n",
    "\n",
    "    ax.set_title('Grid Search scores')\n",
    "    ax.set_xlabel(name_param_1)\n",
    "    ax.set_ylabel('10-fold CV f1 macro avg.')\n",
    "    ax.legend(loc='best')\n",
    "    ax.grid('on')"
   ]
  },
  {
   "cell_type": "code",
   "execution_count": 54,
   "metadata": {},
   "outputs": [
    {
     "data": {
      "image/png": "[encoded data removed]",
      "text/plain": [
       "<Figure size 640x480 with 1 Axes>"
      ]
     },
     "metadata": {},
     "output_type": "display_data"
    }
   ],
   "source": [
    "plot_grid_search(gs.cv_results_, param_grid['svc__C'], param_grid['tfidfvectorizer__ngram_range'], r'SVC $C$', r'word $n$-grams')"
   ]
  }
 ],
 "metadata": {
  "interpreter": {
   "hash": "1baa965d5efe3ac65b79dfc60c0d706280b1da80fedb7760faf2759126c4f253"
  },
  "kernelspec": {
   "display_name": "Python 3.8.2 64-bit",
   "language": "python",
   "name": "python3"
  },
  "language_info": {
   "codemirror_mode": {
    "name": "ipython",
    "version": 3
   },
   "file_extension": ".py",
   "mimetype": "text/x-python",
   "name": "python",
   "nbconvert_exporter": "python",
   "pygments_lexer": "ipython3",
   "version": "3.8.2"
  },
  "orig_nbformat": 4
 },
 "nbformat": 4,
 "nbformat_minor": 2
}
