{
 "cells": [
  {
   "cell_type": "code",
   "execution_count": 31,
   "metadata": {},
   "outputs": [
    {
     "data": {
      "text/html": [
       "<div>\n",
       "<style scoped>\n",
       "    .dataframe tbody tr th:only-of-type {\n",
       "        vertical-align: middle;\n",
       "    }\n",
       "\n",
       "    .dataframe tbody tr th {\n",
       "        vertical-align: top;\n",
       "    }\n",
       "\n",
       "    .dataframe thead th {\n",
       "        text-align: right;\n",
       "    }\n",
       "</style>\n",
       "<table border=\"1\" class=\"dataframe\">\n",
       "  <thead>\n",
       "    <tr style=\"text-align: right;\">\n",
       "      <th></th>\n",
       "      <th>year</th>\n",
       "      <th>date</th>\n",
       "      <th>category</th>\n",
       "      <th>title_en</th>\n",
       "      <th>link_en</th>\n",
       "      <th>text_en</th>\n",
       "      <th>length_en</th>\n",
       "      <th>title_el</th>\n",
       "      <th>text_el</th>\n",
       "      <th>length_el</th>\n",
       "      <th>link_el</th>\n",
       "      <th>google_nmt</th>\n",
       "      <th>length_google</th>\n",
       "    </tr>\n",
       "  </thead>\n",
       "  <tbody>\n",
       "    <tr>\n",
       "      <th>0</th>\n",
       "      <td>2022</td>\n",
       "      <td>2022-04-14</td>\n",
       "      <td>MONETARY POLICY DECISION</td>\n",
       "      <td>Monetary policy decisions</td>\n",
       "      <td>https://www.ecb.europa.eu/press/pr/date/2022/h...</td>\n",
       "      <td>14 April 2022Russia’s aggression in Ukraine is...</td>\n",
       "      <td>899</td>\n",
       "      <td>Αποφάσεις νομισματικής πολιτικής</td>\n",
       "      <td>14 Απριλίου 2022Η επίθεση της Ρωσίας στην Ουκρ...</td>\n",
       "      <td>1070</td>\n",
       "      <td>https://www.ecb.europa.eu/press/pr/date/2022/h...</td>\n",
       "      <td>14 Απριλίου 2022 Η επιθετικότητα της Ρωσίας στ...</td>\n",
       "      <td>943</td>\n",
       "    </tr>\n",
       "    <tr>\n",
       "      <th>1</th>\n",
       "      <td>2022</td>\n",
       "      <td>2022-03-10</td>\n",
       "      <td>MONETARY POLICY DECISION</td>\n",
       "      <td>Monetary policy decisions</td>\n",
       "      <td>https://www.ecb.europa.eu/press/pr/date/2022/h...</td>\n",
       "      <td>10 March 2022 The Russian invasion of Ukraine ...</td>\n",
       "      <td>977</td>\n",
       "      <td>Αποφάσεις νομισματικής πολιτικής</td>\n",
       "      <td>10 Μαρτίου 2022 Η εισβολή της Ρωσίας στην Ουκρ...</td>\n",
       "      <td>1200</td>\n",
       "      <td>https://www.ecb.europa.eu/press/pr/date/2022/h...</td>\n",
       "      <td>10 Μαρτίου 2022 Η ρωσική εισβολή στην Ουκρανία...</td>\n",
       "      <td>1069</td>\n",
       "    </tr>\n",
       "    <tr>\n",
       "      <th>2</th>\n",
       "      <td>2022</td>\n",
       "      <td>2022-03-02</td>\n",
       "      <td>PRESS RELEASE</td>\n",
       "      <td>Charity concert for Ukraine at Berlin State Opera</td>\n",
       "      <td>https://www.ecb.europa.eu/press/pr/date/2022/h...</td>\n",
       "      <td>2 March 2022 The European Central Bank (ECB) a...</td>\n",
       "      <td>227</td>\n",
       "      <td>Φιλανθρωπική συναυλία για την Ουκρανία στην Κρ...</td>\n",
       "      <td>2 Μαρτίου 2022 Η Ευρωπαϊκή Κεντρική Τράπεζα (Ε...</td>\n",
       "      <td>257</td>\n",
       "      <td>https://www.ecb.europa.eu/press/pr/date/2022/h...</td>\n",
       "      <td>2 Μαρτίου 2022 Η Ευρωπαϊκή Κεντρική Τράπεζα (Ε...</td>\n",
       "      <td>247</td>\n",
       "    </tr>\n",
       "    <tr>\n",
       "      <th>3</th>\n",
       "      <td>2022</td>\n",
       "      <td>2022-02-17</td>\n",
       "      <td>PRESS RELEASE</td>\n",
       "      <td>Financial statements of the ECB for 2021</td>\n",
       "      <td>https://www.ecb.europa.eu/press/pr/date/2022/h...</td>\n",
       "      <td>17 February 2022  ECB profit €0.2 billion (202...</td>\n",
       "      <td>713</td>\n",
       "      <td>Οικονομικές καταστάσεις της ΕΚΤ για το 2021</td>\n",
       "      <td>17 Φεβρουαρίου 2022  Τα κέρδη της ΕΚΤ ανήλθαν ...</td>\n",
       "      <td>849</td>\n",
       "      <td>https://www.ecb.europa.eu/press/pr/date/2022/h...</td>\n",
       "      <td>17 Φεβρουαρίου 2022 Κέρδη ΕΚΤ 0,2 δισ. ευρώ (2...</td>\n",
       "      <td>793</td>\n",
       "    </tr>\n",
       "    <tr>\n",
       "      <th>4</th>\n",
       "      <td>2022</td>\n",
       "      <td>2022-02-17</td>\n",
       "      <td>ANNUAL CONSOLIDATED BALANCE SHEET OF THE EUROS...</td>\n",
       "      <td>Consolidated balance sheet of the Eurosystem a...</td>\n",
       "      <td>https://www.ecb.europa.eu/pub/annual/balance/h...</td>\n",
       "      <td>Assets  (EUR millions)     Liabilities  (EUR m...</td>\n",
       "      <td>100</td>\n",
       "      <td>Ενοποιημένος ισολογισμός του Ευρωσυστήματος τη...</td>\n",
       "      <td>Ενεργητικό  (σε εκατ. ευρώ)     Παθητικό  (σε ...</td>\n",
       "      <td>100</td>\n",
       "      <td>https://www.ecb.europa.eu/pub/annual/balance/h...</td>\n",
       "      <td>Ενεργητικό (εκατ. ευρώ) Υποχρεώσεις (εκατ. ευρ...</td>\n",
       "      <td>101</td>\n",
       "    </tr>\n",
       "  </tbody>\n",
       "</table>\n",
       "</div>"
      ],
      "text/plain": [
       "   year        date                                           category  \\\n",
       "0  2022  2022-04-14                           MONETARY POLICY DECISION   \n",
       "1  2022  2022-03-10                           MONETARY POLICY DECISION   \n",
       "2  2022  2022-03-02                                      PRESS RELEASE   \n",
       "3  2022  2022-02-17                                      PRESS RELEASE   \n",
       "4  2022  2022-02-17  ANNUAL CONSOLIDATED BALANCE SHEET OF THE EUROS...   \n",
       "\n",
       "                                            title_en  \\\n",
       "0                          Monetary policy decisions   \n",
       "1                          Monetary policy decisions   \n",
       "2  Charity concert for Ukraine at Berlin State Opera   \n",
       "3           Financial statements of the ECB for 2021   \n",
       "4  Consolidated balance sheet of the Eurosystem a...   \n",
       "\n",
       "                                             link_en  \\\n",
       "0  https://www.ecb.europa.eu/press/pr/date/2022/h...   \n",
       "1  https://www.ecb.europa.eu/press/pr/date/2022/h...   \n",
       "2  https://www.ecb.europa.eu/press/pr/date/2022/h...   \n",
       "3  https://www.ecb.europa.eu/press/pr/date/2022/h...   \n",
       "4  https://www.ecb.europa.eu/pub/annual/balance/h...   \n",
       "\n",
       "                                             text_en  length_en  \\\n",
       "0  14 April 2022Russia’s aggression in Ukraine is...        899   \n",
       "1  10 March 2022 The Russian invasion of Ukraine ...        977   \n",
       "2  2 March 2022 The European Central Bank (ECB) a...        227   \n",
       "3  17 February 2022  ECB profit €0.2 billion (202...        713   \n",
       "4  Assets  (EUR millions)     Liabilities  (EUR m...        100   \n",
       "\n",
       "                                            title_el  \\\n",
       "0                   Αποφάσεις νομισματικής πολιτικής   \n",
       "1                   Αποφάσεις νομισματικής πολιτικής   \n",
       "2  Φιλανθρωπική συναυλία για την Ουκρανία στην Κρ...   \n",
       "3        Οικονομικές καταστάσεις της ΕΚΤ για το 2021   \n",
       "4  Ενοποιημένος ισολογισμός του Ευρωσυστήματος τη...   \n",
       "\n",
       "                                             text_el  length_el  \\\n",
       "0  14 Απριλίου 2022Η επίθεση της Ρωσίας στην Ουκρ...       1070   \n",
       "1  10 Μαρτίου 2022 Η εισβολή της Ρωσίας στην Ουκρ...       1200   \n",
       "2  2 Μαρτίου 2022 Η Ευρωπαϊκή Κεντρική Τράπεζα (Ε...        257   \n",
       "3  17 Φεβρουαρίου 2022  Τα κέρδη της ΕΚΤ ανήλθαν ...        849   \n",
       "4  Ενεργητικό  (σε εκατ. ευρώ)     Παθητικό  (σε ...        100   \n",
       "\n",
       "                                             link_el  \\\n",
       "0  https://www.ecb.europa.eu/press/pr/date/2022/h...   \n",
       "1  https://www.ecb.europa.eu/press/pr/date/2022/h...   \n",
       "2  https://www.ecb.europa.eu/press/pr/date/2022/h...   \n",
       "3  https://www.ecb.europa.eu/press/pr/date/2022/h...   \n",
       "4  https://www.ecb.europa.eu/pub/annual/balance/h...   \n",
       "\n",
       "                                          google_nmt  length_google  \n",
       "0  14 Απριλίου 2022 Η επιθετικότητα της Ρωσίας στ...            943  \n",
       "1  10 Μαρτίου 2022 Η ρωσική εισβολή στην Ουκρανία...           1069  \n",
       "2  2 Μαρτίου 2022 Η Ευρωπαϊκή Κεντρική Τράπεζα (Ε...            247  \n",
       "3  17 Φεβρουαρίου 2022 Κέρδη ΕΚΤ 0,2 δισ. ευρώ (2...            793  \n",
       "4  Ενεργητικό (εκατ. ευρώ) Υποχρεώσεις (εκατ. ευρ...            101  "
      ]
     },
     "execution_count": 31,
     "metadata": {},
     "output_type": "execute_result"
    }
   ],
   "source": [
    "import pandas as pd\n",
    "\n",
    "corpus = pd.read_csv('../data/corpus_el_google.csv', sep=';')\n",
    "corpus.head()"
   ]
  },
  {
   "cell_type": "code",
   "execution_count": 32,
   "metadata": {},
   "outputs": [
    {
     "data": {
      "text/html": [
       "<div>\n",
       "<style scoped>\n",
       "    .dataframe tbody tr th:only-of-type {\n",
       "        vertical-align: middle;\n",
       "    }\n",
       "\n",
       "    .dataframe tbody tr th {\n",
       "        vertical-align: top;\n",
       "    }\n",
       "\n",
       "    .dataframe thead th {\n",
       "        text-align: right;\n",
       "    }\n",
       "</style>\n",
       "<table border=\"1\" class=\"dataframe\">\n",
       "  <thead>\n",
       "    <tr style=\"text-align: right;\">\n",
       "      <th></th>\n",
       "      <th>text_el</th>\n",
       "      <th>google_nmt</th>\n",
       "    </tr>\n",
       "  </thead>\n",
       "  <tbody>\n",
       "    <tr>\n",
       "      <th>254</th>\n",
       "      <td>Κατά τη σημερινή του συνεδρίαση το Διοικητικό ...</td>\n",
       "      <td>Στη σημερινή συνεδρίασή του το Διοικητικό Συμβ...</td>\n",
       "    </tr>\n",
       "    <tr>\n",
       "      <th>550</th>\n",
       "      <td>Η Ευρωπαϊκή Κεντρική Τράπεζα (ΕΚΤ) δημοσίευσε ...</td>\n",
       "      <td>Η Ευρωπαϊκή Κεντρική Τράπεζα (ΕΚΤ) δημοσίευσε ...</td>\n",
       "    </tr>\n",
       "    <tr>\n",
       "      <th>329</th>\n",
       "      <td>Στην έκτη έκθεση προόδου σχετικά με τον Ενιαίο...</td>\n",
       "      <td>Στην έκτη έκθεση προόδου για τον Ενιαίο Χώρο Π...</td>\n",
       "    </tr>\n",
       "    <tr>\n",
       "      <th>181</th>\n",
       "      <td>EMBARGOΑπαγόρευση δημοσίευσης πριν από τις 11....</td>\n",
       "      <td>EMBARGOT Εμπάργκο μετάδοσης έως τις 11.30 π.μ....</td>\n",
       "    </tr>\n",
       "    <tr>\n",
       "      <th>306</th>\n",
       "      <td>Κατά τη σημερινή του συνεδρίαση, το Διοικητικό...</td>\n",
       "      <td>Στη σημερινή συνεδρίασή του το Διοικητικό Συμβ...</td>\n",
       "    </tr>\n",
       "    <tr>\n",
       "      <th>315</th>\n",
       "      <td>Το Ευρωσύστημα, το οποίο αποτελείται από την Ε...</td>\n",
       "      <td>Το Ευρωσύστημα, το οποίο περιλαμβάνει την Ευρω...</td>\n",
       "    </tr>\n",
       "    <tr>\n",
       "      <th>495</th>\n",
       "      <td>Κατά τη σημερινή του συνεδρίαση, το Διοικητικό...</td>\n",
       "      <td>Στη σημερινή συνεδρίασή του το Διοικητικό Συμβ...</td>\n",
       "    </tr>\n",
       "    <tr>\n",
       "      <th>392</th>\n",
       "      <td>Κατά τη σημερινή του συνεδρίαση, το Διοικητικό...</td>\n",
       "      <td>Στη σημερινή συνεδρίαση, το Διοικητικό Συμβούλ...</td>\n",
       "    </tr>\n",
       "    <tr>\n",
       "      <th>338</th>\n",
       "      <td>Κατά τη σημερινή του συνεδρίαση, το Διοικητικό...</td>\n",
       "      <td>Στη σημερινή συνεδρίαση, το Διοικητικό Συμβούλ...</td>\n",
       "    </tr>\n",
       "    <tr>\n",
       "      <th>594</th>\n",
       "      <td>Κατά τη σημερινή του συνεδρίαση, η οποία πραγμ...</td>\n",
       "      <td>Στη σημερινή συνεδρίαση, η οποία πραγματοποιήθ...</td>\n",
       "    </tr>\n",
       "  </tbody>\n",
       "</table>\n",
       "</div>"
      ],
      "text/plain": [
       "                                               text_el  \\\n",
       "254  Κατά τη σημερινή του συνεδρίαση το Διοικητικό ...   \n",
       "550  Η Ευρωπαϊκή Κεντρική Τράπεζα (ΕΚΤ) δημοσίευσε ...   \n",
       "329  Στην έκτη έκθεση προόδου σχετικά με τον Ενιαίο...   \n",
       "181  EMBARGOΑπαγόρευση δημοσίευσης πριν από τις 11....   \n",
       "306  Κατά τη σημερινή του συνεδρίαση, το Διοικητικό...   \n",
       "315  Το Ευρωσύστημα, το οποίο αποτελείται από την Ε...   \n",
       "495  Κατά τη σημερινή του συνεδρίαση, το Διοικητικό...   \n",
       "392  Κατά τη σημερινή του συνεδρίαση, το Διοικητικό...   \n",
       "338  Κατά τη σημερινή του συνεδρίαση, το Διοικητικό...   \n",
       "594  Κατά τη σημερινή του συνεδρίαση, η οποία πραγμ...   \n",
       "\n",
       "                                            google_nmt  \n",
       "254  Στη σημερινή συνεδρίασή του το Διοικητικό Συμβ...  \n",
       "550  Η Ευρωπαϊκή Κεντρική Τράπεζα (ΕΚΤ) δημοσίευσε ...  \n",
       "329  Στην έκτη έκθεση προόδου για τον Ενιαίο Χώρο Π...  \n",
       "181  EMBARGOT Εμπάργκο μετάδοσης έως τις 11.30 π.μ....  \n",
       "306  Στη σημερινή συνεδρίασή του το Διοικητικό Συμβ...  \n",
       "315  Το Ευρωσύστημα, το οποίο περιλαμβάνει την Ευρω...  \n",
       "495  Στη σημερινή συνεδρίασή του το Διοικητικό Συμβ...  \n",
       "392  Στη σημερινή συνεδρίαση, το Διοικητικό Συμβούλ...  \n",
       "338  Στη σημερινή συνεδρίαση, το Διοικητικό Συμβούλ...  \n",
       "594  Στη σημερινή συνεδρίαση, η οποία πραγματοποιήθ...  "
      ]
     },
     "execution_count": 32,
     "metadata": {},
     "output_type": "execute_result"
    }
   ],
   "source": [
    "ref_df = corpus[['text_el', 'google_nmt']]\n",
    "ref_df.sample(10)"
   ]
  },
  {
   "cell_type": "markdown",
   "metadata": {},
   "source": [
    "## Preprocess corpus"
   ]
  },
  {
   "cell_type": "code",
   "execution_count": 33,
   "metadata": {},
   "outputs": [],
   "source": [
    "import nltk\n",
    "import re\n",
    "from collections import Counter\n",
    "\n",
    "# Helper function to check if a token is a punctuation mark\n",
    "def is_punct(string: str) -> bool:\n",
    "    \"\"\"Check if STRING is a punctuation marker or a sequence of punctuation markers.\"\"\"\n",
    "    PUNCT_RE = re.compile(r'[^\\w\\s]+$')\n",
    "    return bool(PUNCT_RE.match(string))\n",
    "\n",
    "# Step 1: Tokenize the text\n",
    "def preprocess_text(text: str, language: str, lowercase: bool = True) -> list:\n",
    "    \"\"\"Perform a text preprocessing procedure, which transforms a string\n",
    "    object into a list of word tokens without punctuation markers.\"\"\"\n",
    "    if lowercase:\n",
    "        text = text.lower()\n",
    "    tokens = nltk.tokenize.word_tokenize(text, language=language)\n",
    "    tokens = [token for token in tokens if not is_punct(token)]\n",
    "    return tokens\n",
    "\n",
    "# Step 2: Define the vocabulary\n",
    "def extract_vocabulary(tokenized_corpus: str, min_count: int = 1, max_count=float('inf')) -> list:\n",
    "    \"\"\"Extract a vocabulary from a tokenized corpus.\"\"\"\n",
    "    vocabulary = Counter()\n",
    "    for document in tokenized_corpus:\n",
    "        vocabulary.update(document)\n",
    "    vocabulary = {\n",
    "        word for word, count in vocabulary.items()\n",
    "        if count >= min_count and count <= max_count\n",
    "    }\n",
    "    return sorted(vocabulary)\n",
    "\n",
    "# Step 3: Create bag-of-words representation\n",
    "def create_bow(tokenized_corpus: list, vocabulary: list, return_df: bool = True) -> pd.DataFrame:\n",
    "    \"\"\"Create a bag-of-words representation of a tokenized corpus.\"\"\"\n",
    "\n",
    "    bow_list = []\n",
    "    for document in tokenized_corpus:\n",
    "        bow_list.append([word in document for word in vocabulary])\n",
    "\n",
    "    if return_df:\n",
    "        bow_df = pd.DataFrame(bow_list, columns=vocabulary)\n",
    "        return bow_df\n",
    "    else:\n",
    "        return bow_list"
   ]
  },
  {
   "cell_type": "code",
   "execution_count": 34,
   "metadata": {},
   "outputs": [],
   "source": [
    "# Export corpus to text files\n",
    "from pathlib import Path\n",
    "\n",
    "for col in ref_df.columns:\n",
    "    Path(f\"../data/corpus\").mkdir(parents=True, exist_ok=True)\n",
    "    i = 1\n",
    "    for row in ref_df[col]:\n",
    "        with open(f\"../data/corpus/{col[0]}_{i:03d}.txt\", 'w', encoding='utf-8') as f:\n",
    "            f.write(row)\n",
    "        i += 1"
   ]
  },
  {
   "cell_type": "markdown",
   "metadata": {},
   "source": [
    "## Load corpus"
   ]
  },
  {
   "cell_type": "code",
   "execution_count": 35,
   "metadata": {},
   "outputs": [
    {
     "data": {
      "text/plain": [
       "(645, 645)"
      ]
     },
     "execution_count": 35,
     "metadata": {},
     "output_type": "execute_result"
    }
   ],
   "source": [
    "# Preprocess each play \n",
    "tokens_ht = [preprocess_text(text, 'greek') for text in ref_df['text_el'].values]\n",
    "tokens_mt = [preprocess_text(text, 'greek') for text in ref_df['google_nmt'].values]\n",
    "len(tokens_ht), len(tokens_mt)"
   ]
  },
  {
   "cell_type": "code",
   "execution_count": 36,
   "metadata": {},
   "outputs": [
    {
     "data": {
      "text/plain": [
       "(6085, 5913)"
      ]
     },
     "execution_count": 36,
     "metadata": {},
     "output_type": "execute_result"
    }
   ],
   "source": [
    "# Determine vocabulary (and prune it by removing words that occcur less than twice)\n",
    "vocab_ht = extract_vocabulary(tokens_ht, min_count=2)\n",
    "vocab_mt = extract_vocabulary(tokens_mt, min_count=2)\n",
    "len(vocab_ht), len(vocab_mt)"
   ]
  },
  {
   "cell_type": "code",
   "execution_count": 37,
   "metadata": {},
   "outputs": [
    {
     "name": "stdout",
     "output_type": "stream",
     "text": [
      "HT: document-term matrix with 645 documents and 6085 words.\n",
      "MT: document-term matrix with 645 documents and 5913 words.\n"
     ]
    }
   ],
   "source": [
    "import numpy as np\n",
    "# Build document-term matrix\n",
    "dtm_ht = np.array(create_bow(tokens_ht, vocab_ht))\n",
    "dtm_mt = np.array(create_bow(tokens_mt, vocab_mt))\n",
    "\n",
    "print(f'HT: document-term matrix with '\n",
    "      f'{dtm_ht.shape[0]} documents and '\n",
    "      f'{dtm_ht.shape[1]} words.')\n",
    "\n",
    "print(f'MT: document-term matrix with '\n",
    "      f'{dtm_mt.shape[0]} documents and '\n",
    "      f'{dtm_mt.shape[1]} words.')"
   ]
  },
  {
   "cell_type": "code",
   "execution_count": 38,
   "metadata": {},
   "outputs": [
    {
     "data": {
      "text/plain": [
       "(array([0.1751938 , 0.00310078, 0.04341085, ..., 0.00930233, 0.00310078,\n",
       "        0.00310078]),\n",
       " array([0.17674419, 0.00310078, 0.00620155, ..., 0.0124031 , 0.00310078,\n",
       "        0.00310078]))"
      ]
     },
     "execution_count": 38,
     "metadata": {},
     "output_type": "execute_result"
    }
   ],
   "source": [
    "ht_means = dtm_ht.mean(axis=0)\n",
    "mt_means = dtm_mt.mean(axis=0)\n",
    "ht_means, mt_means"
   ]
  },
  {
   "cell_type": "markdown",
   "metadata": {},
   "source": [
    "## Calculate cosine similarity"
   ]
  },
  {
   "cell_type": "code",
   "execution_count": 39,
   "metadata": {},
   "outputs": [],
   "source": [
    "from scipy.spatial import distance\n",
    "\n",
    "def nearest_neighbors(X, metric='cosine'):\n",
    "    \"\"\"Retrieve the nearest neighbor for each row in a 2D array.\"\"\"\n",
    "    distances = distance.pdist(X, metric=metric)\n",
    "    distances = distance.squareform(distances)\n",
    "    np.fill_diagonal(distances, np.inf)  # so it doesn't select itself!\n",
    "    return distances.argmin(1)"
   ]
  },
  {
   "cell_type": "code",
   "execution_count": 40,
   "metadata": {},
   "outputs": [],
   "source": [
    "def cosine_distance(s1, s2):\n",
    "\n",
    "    allsentences = [s1 , s2]\n",
    "\n",
    "    from sklearn.feature_extraction.text import CountVectorizer\n",
    "    from scipy.spatial import distance\n",
    "\n",
    "    vectorizer = CountVectorizer()\n",
    "    all_sentences_to_vector = vectorizer.fit_transform(allsentences)\n",
    "    text_to_vector_v1 = all_sentences_to_vector.toarray()[0].tolist()\n",
    "    text_to_vector_v2 = all_sentences_to_vector.toarray()[1].tolist()\n",
    "\n",
    "    cosine = distance.cosine(text_to_vector_v1, text_to_vector_v2)\n",
    "    \n",
    "    return round((1 - cosine) * 100, 2)"
   ]
  },
  {
   "cell_type": "code",
   "execution_count": 41,
   "metadata": {},
   "outputs": [
    {
     "name": "stderr",
     "output_type": "stream",
     "text": [
      "<ipython-input-41-757474032596>:1: SettingWithCopyWarning: \n",
      "A value is trying to be set on a copy of a slice from a DataFrame.\n",
      "Try using .loc[row_indexer,col_indexer] = value instead\n",
      "\n",
      "See the caveats in the documentation: https://pandas.pydata.org/pandas-docs/stable/user_guide/indexing.html#returning-a-view-versus-a-copy\n",
      "  ref_df['cos_similarity'] = ref_df.apply(lambda row: cosine_distance(row['text_el'], row['google_nmt']), axis=1)\n"
     ]
    }
   ],
   "source": [
    "ref_df['cos_similarity'] = ref_df.apply(lambda row: cosine_distance(row['text_el'], row['google_nmt']), axis=1)"
   ]
  },
  {
   "cell_type": "code",
   "execution_count": 42,
   "metadata": {},
   "outputs": [
    {
     "data": {
      "text/html": [
       "<div>\n",
       "<style scoped>\n",
       "    .dataframe tbody tr th:only-of-type {\n",
       "        vertical-align: middle;\n",
       "    }\n",
       "\n",
       "    .dataframe tbody tr th {\n",
       "        vertical-align: top;\n",
       "    }\n",
       "\n",
       "    .dataframe thead th {\n",
       "        text-align: right;\n",
       "    }\n",
       "</style>\n",
       "<table border=\"1\" class=\"dataframe\">\n",
       "  <thead>\n",
       "    <tr style=\"text-align: right;\">\n",
       "      <th></th>\n",
       "      <th>text_el</th>\n",
       "      <th>google_nmt</th>\n",
       "      <th>cos_similarity</th>\n",
       "    </tr>\n",
       "  </thead>\n",
       "  <tbody>\n",
       "    <tr>\n",
       "      <th>279</th>\n",
       "      <td>Κατά τη σημερινή του συνεδρίαση το Διοικητικό ...</td>\n",
       "      <td>Στη σημερινή συνεδρίασή του το Διοικητικό Συμβ...</td>\n",
       "      <td>78.76</td>\n",
       "    </tr>\n",
       "    <tr>\n",
       "      <th>226</th>\n",
       "      <td>Η Ευρωπαϊκή Κεντρική Τράπεζα (ΕΚΤ) πραγματοποί...</td>\n",
       "      <td>Σήμερα, η Ευρωπαϊκή Κεντρική Τράπεζα (ΕΚΤ) πρα...</td>\n",
       "      <td>90.88</td>\n",
       "    </tr>\n",
       "    <tr>\n",
       "      <th>625</th>\n",
       "      <td>2 Δεκεμβρίου 1999  Κατά τη συνεδρίαση της 2ας ...</td>\n",
       "      <td>Στη συνεδρίασή του στις 2 Δεκεμβρίου 1999, το ...</td>\n",
       "      <td>94.45</td>\n",
       "    </tr>\n",
       "    <tr>\n",
       "      <th>418</th>\n",
       "      <td>Η τρίτη Ευρωμεσογειακή διάσκεψη, στην οποία συ...</td>\n",
       "      <td>Το τρίτο ευρωμεσογειακό σεμινάριο, το οποίο συ...</td>\n",
       "      <td>87.73</td>\n",
       "    </tr>\n",
       "    <tr>\n",
       "      <th>508</th>\n",
       "      <td>Tο Διοικητικό Συμβούλιο της Ευρωπαϊκής Κεντρικ...</td>\n",
       "      <td>Σήμερα, το Διοικητικό Συμβούλιο της Ευρωπαϊκής...</td>\n",
       "      <td>93.98</td>\n",
       "    </tr>\n",
       "    <tr>\n",
       "      <th>210</th>\n",
       "      <td>Το Διοικητικό Συμβούλιο της Ευρωπαϊκής Κεντρικ...</td>\n",
       "      <td>Το Διοικητικό Συμβούλιο της Ευρωπαϊκής Κεντρικ...</td>\n",
       "      <td>97.82</td>\n",
       "    </tr>\n",
       "    <tr>\n",
       "      <th>565</th>\n",
       "      <td>Σύμφωνα με τη Συνθήκη για την ίδρυση της Ευρωπ...</td>\n",
       "      <td>Σύμφωνα με τη Συνθήκη για την ίδρυση της Ευρωπ...</td>\n",
       "      <td>91.24</td>\n",
       "    </tr>\n",
       "    <tr>\n",
       "      <th>554</th>\n",
       "      <td>Κατά τη σημερινή του συνεδρίαση, το Διοικητικό...</td>\n",
       "      <td>Στη σημερινή συνεδρίασή του το Διοικητικό Συμβ...</td>\n",
       "      <td>82.21</td>\n",
       "    </tr>\n",
       "    <tr>\n",
       "      <th>377</th>\n",
       "      <td>Κατόπιν αιτήματος της Κύπρου και της Μάλτας, η...</td>\n",
       "      <td>Κατόπιν αιτήματος της Κύπρου και της Μάλτας, η...</td>\n",
       "      <td>92.65</td>\n",
       "    </tr>\n",
       "    <tr>\n",
       "      <th>45</th>\n",
       "      <td>Το Διοικητικό Συμβούλιο δεν έχει καμία αντίρρη...</td>\n",
       "      <td>Το Διοικητικό Συμβούλιο δεν έχει αντίρρηση για...</td>\n",
       "      <td>91.22</td>\n",
       "    </tr>\n",
       "  </tbody>\n",
       "</table>\n",
       "</div>"
      ],
      "text/plain": [
       "                                               text_el  \\\n",
       "279  Κατά τη σημερινή του συνεδρίαση το Διοικητικό ...   \n",
       "226  Η Ευρωπαϊκή Κεντρική Τράπεζα (ΕΚΤ) πραγματοποί...   \n",
       "625  2 Δεκεμβρίου 1999  Κατά τη συνεδρίαση της 2ας ...   \n",
       "418  Η τρίτη Ευρωμεσογειακή διάσκεψη, στην οποία συ...   \n",
       "508  Tο Διοικητικό Συμβούλιο της Ευρωπαϊκής Κεντρικ...   \n",
       "210  Το Διοικητικό Συμβούλιο της Ευρωπαϊκής Κεντρικ...   \n",
       "565  Σύμφωνα με τη Συνθήκη για την ίδρυση της Ευρωπ...   \n",
       "554  Κατά τη σημερινή του συνεδρίαση, το Διοικητικό...   \n",
       "377  Κατόπιν αιτήματος της Κύπρου και της Μάλτας, η...   \n",
       "45   Το Διοικητικό Συμβούλιο δεν έχει καμία αντίρρη...   \n",
       "\n",
       "                                            google_nmt  cos_similarity  \n",
       "279  Στη σημερινή συνεδρίασή του το Διοικητικό Συμβ...           78.76  \n",
       "226  Σήμερα, η Ευρωπαϊκή Κεντρική Τράπεζα (ΕΚΤ) πρα...           90.88  \n",
       "625  Στη συνεδρίασή του στις 2 Δεκεμβρίου 1999, το ...           94.45  \n",
       "418  Το τρίτο ευρωμεσογειακό σεμινάριο, το οποίο συ...           87.73  \n",
       "508  Σήμερα, το Διοικητικό Συμβούλιο της Ευρωπαϊκής...           93.98  \n",
       "210  Το Διοικητικό Συμβούλιο της Ευρωπαϊκής Κεντρικ...           97.82  \n",
       "565  Σύμφωνα με τη Συνθήκη για την ίδρυση της Ευρωπ...           91.24  \n",
       "554  Στη σημερινή συνεδρίασή του το Διοικητικό Συμβ...           82.21  \n",
       "377  Κατόπιν αιτήματος της Κύπρου και της Μάλτας, η...           92.65  \n",
       "45   Το Διοικητικό Συμβούλιο δεν έχει αντίρρηση για...           91.22  "
      ]
     },
     "execution_count": 42,
     "metadata": {},
     "output_type": "execute_result"
    }
   ],
   "source": [
    "ref_df.sample(10)"
   ]
  },
  {
   "cell_type": "code",
   "execution_count": 43,
   "metadata": {},
   "outputs": [
    {
     "data": {
      "text/plain": [
       "'83.94% similarity'"
      ]
     },
     "execution_count": 43,
     "metadata": {},
     "output_type": "execute_result"
    }
   ],
   "source": [
    "f\"{round(ref_df['cos_similarity'].mean(), 2)}% similarity\""
   ]
  },
  {
   "cell_type": "code",
   "execution_count": 44,
   "metadata": {},
   "outputs": [
    {
     "data": {
      "text/plain": [
       "381"
      ]
     },
     "execution_count": 44,
     "metadata": {},
     "output_type": "execute_result"
    }
   ],
   "source": [
    "ref_df['cos_similarity'].argmax()"
   ]
  },
  {
   "cell_type": "code",
   "execution_count": 45,
   "metadata": {},
   "outputs": [
    {
     "data": {
      "text/html": [
       "<div>\n",
       "<style scoped>\n",
       "    .dataframe tbody tr th:only-of-type {\n",
       "        vertical-align: middle;\n",
       "    }\n",
       "\n",
       "    .dataframe tbody tr th {\n",
       "        vertical-align: top;\n",
       "    }\n",
       "\n",
       "    .dataframe thead th {\n",
       "        text-align: right;\n",
       "    }\n",
       "</style>\n",
       "<table border=\"1\" class=\"dataframe\">\n",
       "  <thead>\n",
       "    <tr style=\"text-align: right;\">\n",
       "      <th></th>\n",
       "      <th>text_el</th>\n",
       "      <th>google_nmt</th>\n",
       "      <th>cos_similarity</th>\n",
       "    </tr>\n",
       "  </thead>\n",
       "  <tbody>\n",
       "  </tbody>\n",
       "</table>\n",
       "</div>"
      ],
      "text/plain": [
       "Empty DataFrame\n",
       "Columns: [text_el, google_nmt, cos_similarity]\n",
       "Index: []"
      ]
     },
     "execution_count": 45,
     "metadata": {},
     "output_type": "execute_result"
    }
   ],
   "source": [
    "outliers = ref_df[ref_df['cos_similarity'] < 35]\n",
    "outliers.head()"
   ]
  },
  {
   "cell_type": "code",
   "execution_count": 46,
   "metadata": {},
   "outputs": [],
   "source": [
    "ref_df = ref_df.drop(outliers.index)"
   ]
  },
  {
   "cell_type": "code",
   "execution_count": 47,
   "metadata": {},
   "outputs": [
    {
     "data": {
      "text/plain": [
       "367"
      ]
     },
     "execution_count": 47,
     "metadata": {},
     "output_type": "execute_result"
    }
   ],
   "source": [
    "ref_df['cos_similarity'].argmin()"
   ]
  },
  {
   "cell_type": "markdown",
   "metadata": {},
   "source": [
    "## SpaCy similarity"
   ]
  },
  {
   "cell_type": "code",
   "execution_count": 52,
   "metadata": {},
   "outputs": [
    {
     "name": "stderr",
     "output_type": "stream",
     "text": [
      "C:\\Users\\user\\AppData\\Roaming\\Python\\Python38\\site-packages\\spacy\\util.py:837: UserWarning: [W095] Model 'el_core_news_lg' (3.0.0) was trained with spaCy v3.0 and may not be 100% compatible with the current version (3.3.0). If you see errors or degraded performance, download a newer compatible model or retrain your custom model with the current spaCy version. For more details and available updates, run: python -m spacy validate\n",
      "  warnings.warn(warn_msg)\n"
     ]
    }
   ],
   "source": [
    "import spacy\n",
    "\n",
    "nlp = spacy.load(\"el_core_news_lg\")\n",
    "\n",
    "def spacy_similarity(s1, s2):\n",
    "    doc1 = nlp(s1)\n",
    "    doc2 = nlp(s2)\n",
    "    return round(doc1.similarity(doc2), 5) * 100"
   ]
  },
  {
   "cell_type": "code",
   "execution_count": 53,
   "metadata": {},
   "outputs": [
    {
     "data": {
      "text/html": [
       "<div>\n",
       "<style scoped>\n",
       "    .dataframe tbody tr th:only-of-type {\n",
       "        vertical-align: middle;\n",
       "    }\n",
       "\n",
       "    .dataframe tbody tr th {\n",
       "        vertical-align: top;\n",
       "    }\n",
       "\n",
       "    .dataframe thead th {\n",
       "        text-align: right;\n",
       "    }\n",
       "</style>\n",
       "<table border=\"1\" class=\"dataframe\">\n",
       "  <thead>\n",
       "    <tr style=\"text-align: right;\">\n",
       "      <th></th>\n",
       "      <th>text_el</th>\n",
       "      <th>google_nmt</th>\n",
       "      <th>cos_similarity</th>\n",
       "      <th>spacy_similarity</th>\n",
       "    </tr>\n",
       "  </thead>\n",
       "  <tbody>\n",
       "    <tr>\n",
       "      <th>332</th>\n",
       "      <td>Το Διοικητικό Συμβούλιο της Ευρωπαϊκής Κεντρικ...</td>\n",
       "      <td>Το Διοικητικό Συμβούλιο της Ευρωπαϊκής Κεντρικ...</td>\n",
       "      <td>64.41</td>\n",
       "      <td>94.097</td>\n",
       "    </tr>\n",
       "    <tr>\n",
       "      <th>362</th>\n",
       "      <td>Κατά τη σημερινή του συνεδρίαση, η οποία πραγμ...</td>\n",
       "      <td>Στη σημερινή συνεδρίαση, που πραγματοποιήθηκε ...</td>\n",
       "      <td>80.87</td>\n",
       "      <td>94.882</td>\n",
       "    </tr>\n",
       "    <tr>\n",
       "      <th>338</th>\n",
       "      <td>Κατά τη σημερινή του συνεδρίαση, το Διοικητικό...</td>\n",
       "      <td>Στη σημερινή συνεδρίαση, το Διοικητικό Συμβούλ...</td>\n",
       "      <td>64.70</td>\n",
       "      <td>85.588</td>\n",
       "    </tr>\n",
       "    <tr>\n",
       "      <th>215</th>\n",
       "      <td>Κατά τη σημερινή του συνεδρίαση, το Διοικητικό...</td>\n",
       "      <td>Στη σημερινή συνεδρίασή του το Διοικητικό Συμβ...</td>\n",
       "      <td>78.76</td>\n",
       "      <td>93.469</td>\n",
       "    </tr>\n",
       "    <tr>\n",
       "      <th>541</th>\n",
       "      <td>Κατά τη σημερινή του συνεδρίαση, το Διοικητικό...</td>\n",
       "      <td>Στη σημερινή συνεδρίασή του το Διοικητικό Συμβ...</td>\n",
       "      <td>82.21</td>\n",
       "      <td>95.791</td>\n",
       "    </tr>\n",
       "  </tbody>\n",
       "</table>\n",
       "</div>"
      ],
      "text/plain": [
       "                                               text_el  \\\n",
       "332  Το Διοικητικό Συμβούλιο της Ευρωπαϊκής Κεντρικ...   \n",
       "362  Κατά τη σημερινή του συνεδρίαση, η οποία πραγμ...   \n",
       "338  Κατά τη σημερινή του συνεδρίαση, το Διοικητικό...   \n",
       "215  Κατά τη σημερινή του συνεδρίαση, το Διοικητικό...   \n",
       "541  Κατά τη σημερινή του συνεδρίαση, το Διοικητικό...   \n",
       "\n",
       "                                            google_nmt  cos_similarity  \\\n",
       "332  Το Διοικητικό Συμβούλιο της Ευρωπαϊκής Κεντρικ...           64.41   \n",
       "362  Στη σημερινή συνεδρίαση, που πραγματοποιήθηκε ...           80.87   \n",
       "338  Στη σημερινή συνεδρίαση, το Διοικητικό Συμβούλ...           64.70   \n",
       "215  Στη σημερινή συνεδρίασή του το Διοικητικό Συμβ...           78.76   \n",
       "541  Στη σημερινή συνεδρίασή του το Διοικητικό Συμβ...           82.21   \n",
       "\n",
       "     spacy_similarity  \n",
       "332            94.097  \n",
       "362            94.882  \n",
       "338            85.588  \n",
       "215            93.469  \n",
       "541            95.791  "
      ]
     },
     "execution_count": 53,
     "metadata": {},
     "output_type": "execute_result"
    }
   ],
   "source": [
    "ref_df['spacy_similarity'] = ref_df.apply(lambda row: spacy_similarity(row['text_el'], row['google_nmt']), axis=1)\n",
    "ref_df.sample(5)"
   ]
  },
  {
   "cell_type": "code",
   "execution_count": 54,
   "metadata": {},
   "outputs": [
    {
     "name": "stdout",
     "output_type": "stream",
     "text": [
      "Mean     96.889\n",
      "Std      3.095\n",
      "Median   98.08\n",
      "Min      75.905\n",
      "Max      99.828\n"
     ]
    }
   ],
   "source": [
    "stats = {'mean': pd.Series.mean, 'std': pd.Series.std, 'median': pd.Series.median, 'min': pd.Series.min, 'max': pd.Series.max}\n",
    "results = {}\n",
    "\n",
    "for stat in stats:\n",
    "    print(f\"{stat.capitalize():<8} {round(ref_df['spacy_similarity'].agg(stats[stat]), 3)}\")"
   ]
  },
  {
   "cell_type": "code",
   "execution_count": 73,
   "metadata": {},
   "outputs": [
    {
     "data": {
      "image/png": "[encoded data removed]",
      "text/plain": [
       "<Figure size 640x480 with 1 Axes>"
      ]
     },
     "metadata": {},
     "output_type": "display_data"
    }
   ],
   "source": [
    "plt.boxplot([ref_df['cos_similarity'], ref_df['spacy_similarity']], labels=['cosine', 'SpaCy'])\n",
    "plt.title('Text Similarity Scores')\n",
    "plt.grid(True)\n",
    "plt.show();"
   ]
  }
 ],
 "metadata": {
  "interpreter": {
   "hash": "1baa965d5efe3ac65b79dfc60c0d706280b1da80fedb7760faf2759126c4f253"
  },
  "kernelspec": {
   "display_name": "Python 3.8.2 64-bit",
   "language": "python",
   "name": "python3"
  },
  "language_info": {
   "codemirror_mode": {
    "name": "ipython",
    "version": 3
   },
   "file_extension": ".py",
   "mimetype": "text/x-python",
   "name": "python",
   "nbconvert_exporter": "python",
   "pygments_lexer": "ipython3",
   "version": "3.8.2"
  },
  "orig_nbformat": 4
 },
 "nbformat": 4,
 "nbformat_minor": 2
}
