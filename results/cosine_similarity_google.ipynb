{
 "cells": [
  {
   "cell_type": "code",
   "execution_count": 7,
   "metadata": {},
   "outputs": [
    {
     "data": {
      "text/html": [
       "<div>\n",
       "<style scoped>\n",
       "    .dataframe tbody tr th:only-of-type {\n",
       "        vertical-align: middle;\n",
       "    }\n",
       "\n",
       "    .dataframe tbody tr th {\n",
       "        vertical-align: top;\n",
       "    }\n",
       "\n",
       "    .dataframe thead th {\n",
       "        text-align: right;\n",
       "    }\n",
       "</style>\n",
       "<table border=\"1\" class=\"dataframe\">\n",
       "  <thead>\n",
       "    <tr style=\"text-align: right;\">\n",
       "      <th></th>\n",
       "      <th>year</th>\n",
       "      <th>date</th>\n",
       "      <th>category</th>\n",
       "      <th>title_en</th>\n",
       "      <th>link_en</th>\n",
       "      <th>text_en</th>\n",
       "      <th>length_en</th>\n",
       "      <th>title_el</th>\n",
       "      <th>text_el</th>\n",
       "      <th>length_el</th>\n",
       "      <th>link_el</th>\n",
       "      <th>google_nmt</th>\n",
       "      <th>length_google</th>\n",
       "    </tr>\n",
       "  </thead>\n",
       "  <tbody>\n",
       "    <tr>\n",
       "      <th>0</th>\n",
       "      <td>2022</td>\n",
       "      <td>2022-04-14</td>\n",
       "      <td>MONETARY POLICY DECISION</td>\n",
       "      <td>Monetary policy decisions</td>\n",
       "      <td>https://www.ecb.europa.eu/press/pr/date/2022/h...</td>\n",
       "      <td>14 April 2022Russia’s aggression in Ukraine is...</td>\n",
       "      <td>899</td>\n",
       "      <td>Αποφάσεις νομισματικής πολιτικής</td>\n",
       "      <td>14 Απριλίου 2022Η επίθεση της Ρωσίας στην Ουκρ...</td>\n",
       "      <td>1070</td>\n",
       "      <td>https://www.ecb.europa.eu/press/pr/date/2022/h...</td>\n",
       "      <td>14 Απριλίου 2022 Η επιθετικότητα της Ρωσίας στ...</td>\n",
       "      <td>943</td>\n",
       "    </tr>\n",
       "    <tr>\n",
       "      <th>1</th>\n",
       "      <td>2022</td>\n",
       "      <td>2022-03-10</td>\n",
       "      <td>MONETARY POLICY DECISION</td>\n",
       "      <td>Monetary policy decisions</td>\n",
       "      <td>https://www.ecb.europa.eu/press/pr/date/2022/h...</td>\n",
       "      <td>10 March 2022 The Russian invasion of Ukraine ...</td>\n",
       "      <td>977</td>\n",
       "      <td>Αποφάσεις νομισματικής πολιτικής</td>\n",
       "      <td>10 Μαρτίου 2022 Η εισβολή της Ρωσίας στην Ουκρ...</td>\n",
       "      <td>1200</td>\n",
       "      <td>https://www.ecb.europa.eu/press/pr/date/2022/h...</td>\n",
       "      <td>10 Μαρτίου 2022 Η ρωσική εισβολή στην Ουκρανία...</td>\n",
       "      <td>1069</td>\n",
       "    </tr>\n",
       "    <tr>\n",
       "      <th>2</th>\n",
       "      <td>2022</td>\n",
       "      <td>2022-03-02</td>\n",
       "      <td>PRESS RELEASE</td>\n",
       "      <td>Charity concert for Ukraine at Berlin State Opera</td>\n",
       "      <td>https://www.ecb.europa.eu/press/pr/date/2022/h...</td>\n",
       "      <td>2 March 2022 The European Central Bank (ECB) a...</td>\n",
       "      <td>227</td>\n",
       "      <td>Φιλανθρωπική συναυλία για την Ουκρανία στην Κρ...</td>\n",
       "      <td>2 Μαρτίου 2022 Η Ευρωπαϊκή Κεντρική Τράπεζα (Ε...</td>\n",
       "      <td>257</td>\n",
       "      <td>https://www.ecb.europa.eu/press/pr/date/2022/h...</td>\n",
       "      <td>2 Μαρτίου 2022 Η Ευρωπαϊκή Κεντρική Τράπεζα (Ε...</td>\n",
       "      <td>247</td>\n",
       "    </tr>\n",
       "    <tr>\n",
       "      <th>3</th>\n",
       "      <td>2022</td>\n",
       "      <td>2022-02-17</td>\n",
       "      <td>PRESS RELEASE</td>\n",
       "      <td>Financial statements of the ECB for 2021</td>\n",
       "      <td>https://www.ecb.europa.eu/press/pr/date/2022/h...</td>\n",
       "      <td>17 February 2022  ECB profit €0.2 billion (202...</td>\n",
       "      <td>713</td>\n",
       "      <td>Οικονομικές καταστάσεις της ΕΚΤ για το 2021</td>\n",
       "      <td>17 Φεβρουαρίου 2022  Τα κέρδη της ΕΚΤ ανήλθαν ...</td>\n",
       "      <td>849</td>\n",
       "      <td>https://www.ecb.europa.eu/press/pr/date/2022/h...</td>\n",
       "      <td>17 Φεβρουαρίου 2022 Κέρδη ΕΚΤ 0,2 δισ. ευρώ (2...</td>\n",
       "      <td>793</td>\n",
       "    </tr>\n",
       "    <tr>\n",
       "      <th>4</th>\n",
       "      <td>2022</td>\n",
       "      <td>2022-02-17</td>\n",
       "      <td>ANNUAL CONSOLIDATED BALANCE SHEET OF THE EUROS...</td>\n",
       "      <td>Consolidated balance sheet of the Eurosystem a...</td>\n",
       "      <td>https://www.ecb.europa.eu/pub/annual/balance/h...</td>\n",
       "      <td>Assets  (EUR millions)     Liabilities  (EUR m...</td>\n",
       "      <td>100</td>\n",
       "      <td>Ενοποιημένος ισολογισμός του Ευρωσυστήματος τη...</td>\n",
       "      <td>Ενεργητικό  (σε εκατ. ευρώ)     Παθητικό  (σε ...</td>\n",
       "      <td>100</td>\n",
       "      <td>https://www.ecb.europa.eu/pub/annual/balance/h...</td>\n",
       "      <td>Ενεργητικό (εκατ. ευρώ) Υποχρεώσεις (εκατ. ευρ...</td>\n",
       "      <td>101</td>\n",
       "    </tr>\n",
       "  </tbody>\n",
       "</table>\n",
       "</div>"
      ],
      "text/plain": [
       "   year        date                                           category  \\\n",
       "0  2022  2022-04-14                           MONETARY POLICY DECISION   \n",
       "1  2022  2022-03-10                           MONETARY POLICY DECISION   \n",
       "2  2022  2022-03-02                                      PRESS RELEASE   \n",
       "3  2022  2022-02-17                                      PRESS RELEASE   \n",
       "4  2022  2022-02-17  ANNUAL CONSOLIDATED BALANCE SHEET OF THE EUROS...   \n",
       "\n",
       "                                            title_en  \\\n",
       "0                          Monetary policy decisions   \n",
       "1                          Monetary policy decisions   \n",
       "2  Charity concert for Ukraine at Berlin State Opera   \n",
       "3           Financial statements of the ECB for 2021   \n",
       "4  Consolidated balance sheet of the Eurosystem a...   \n",
       "\n",
       "                                             link_en  \\\n",
       "0  https://www.ecb.europa.eu/press/pr/date/2022/h...   \n",
       "1  https://www.ecb.europa.eu/press/pr/date/2022/h...   \n",
       "2  https://www.ecb.europa.eu/press/pr/date/2022/h...   \n",
       "3  https://www.ecb.europa.eu/press/pr/date/2022/h...   \n",
       "4  https://www.ecb.europa.eu/pub/annual/balance/h...   \n",
       "\n",
       "                                             text_en  length_en  \\\n",
       "0  14 April 2022Russia’s aggression in Ukraine is...        899   \n",
       "1  10 March 2022 The Russian invasion of Ukraine ...        977   \n",
       "2  2 March 2022 The European Central Bank (ECB) a...        227   \n",
       "3  17 February 2022  ECB profit €0.2 billion (202...        713   \n",
       "4  Assets  (EUR millions)     Liabilities  (EUR m...        100   \n",
       "\n",
       "                                            title_el  \\\n",
       "0                   Αποφάσεις νομισματικής πολιτικής   \n",
       "1                   Αποφάσεις νομισματικής πολιτικής   \n",
       "2  Φιλανθρωπική συναυλία για την Ουκρανία στην Κρ...   \n",
       "3        Οικονομικές καταστάσεις της ΕΚΤ για το 2021   \n",
       "4  Ενοποιημένος ισολογισμός του Ευρωσυστήματος τη...   \n",
       "\n",
       "                                             text_el  length_el  \\\n",
       "0  14 Απριλίου 2022Η επίθεση της Ρωσίας στην Ουκρ...       1070   \n",
       "1  10 Μαρτίου 2022 Η εισβολή της Ρωσίας στην Ουκρ...       1200   \n",
       "2  2 Μαρτίου 2022 Η Ευρωπαϊκή Κεντρική Τράπεζα (Ε...        257   \n",
       "3  17 Φεβρουαρίου 2022  Τα κέρδη της ΕΚΤ ανήλθαν ...        849   \n",
       "4  Ενεργητικό  (σε εκατ. ευρώ)     Παθητικό  (σε ...        100   \n",
       "\n",
       "                                             link_el  \\\n",
       "0  https://www.ecb.europa.eu/press/pr/date/2022/h...   \n",
       "1  https://www.ecb.europa.eu/press/pr/date/2022/h...   \n",
       "2  https://www.ecb.europa.eu/press/pr/date/2022/h...   \n",
       "3  https://www.ecb.europa.eu/press/pr/date/2022/h...   \n",
       "4  https://www.ecb.europa.eu/pub/annual/balance/h...   \n",
       "\n",
       "                                          google_nmt  length_google  \n",
       "0  14 Απριλίου 2022 Η επιθετικότητα της Ρωσίας στ...            943  \n",
       "1  10 Μαρτίου 2022 Η ρωσική εισβολή στην Ουκρανία...           1069  \n",
       "2  2 Μαρτίου 2022 Η Ευρωπαϊκή Κεντρική Τράπεζα (Ε...            247  \n",
       "3  17 Φεβρουαρίου 2022 Κέρδη ΕΚΤ 0,2 δισ. ευρώ (2...            793  \n",
       "4  Ενεργητικό (εκατ. ευρώ) Υποχρεώσεις (εκατ. ευρ...            101  "
      ]
     },
     "execution_count": 7,
     "metadata": {},
     "output_type": "execute_result"
    }
   ],
   "source": [
    "import pandas as pd\n",
    "\n",
    "corpus = pd.read_csv('../data/corpus_el_google.csv', sep=';')\n",
    "corpus.head()"
   ]
  },
  {
   "cell_type": "code",
   "execution_count": 8,
   "metadata": {},
   "outputs": [
    {
     "data": {
      "text/html": [
       "<div>\n",
       "<style scoped>\n",
       "    .dataframe tbody tr th:only-of-type {\n",
       "        vertical-align: middle;\n",
       "    }\n",
       "\n",
       "    .dataframe tbody tr th {\n",
       "        vertical-align: top;\n",
       "    }\n",
       "\n",
       "    .dataframe thead th {\n",
       "        text-align: right;\n",
       "    }\n",
       "</style>\n",
       "<table border=\"1\" class=\"dataframe\">\n",
       "  <thead>\n",
       "    <tr style=\"text-align: right;\">\n",
       "      <th></th>\n",
       "      <th>text_el</th>\n",
       "      <th>google_nmt</th>\n",
       "    </tr>\n",
       "  </thead>\n",
       "  <tbody>\n",
       "    <tr>\n",
       "      <th>347</th>\n",
       "      <td>Το Διοικητικό Συμβούλιο της Ευρωπαϊκής Κεντρικ...</td>\n",
       "      <td>Το Διοικητικό Συμβούλιο της Ευρωπαϊκής Κεντρικ...</td>\n",
       "    </tr>\n",
       "    <tr>\n",
       "      <th>468</th>\n",
       "      <td>Η Ευρωπαϊκή Κεντρική Τράπεζα (ΕΚΤ) λαμβάνει υπ...</td>\n",
       "      <td>Η Ευρωπαϊκή Κεντρική Τράπεζα (ΕΚΤ) σημειώνει τ...</td>\n",
       "    </tr>\n",
       "    <tr>\n",
       "      <th>378</th>\n",
       "      <td>Κατά τη σημερινή του συνεδρίαση, η οποία πραγμ...</td>\n",
       "      <td>Στη σημερινή συνεδρίαση, που πραγματοποιήθηκε ...</td>\n",
       "    </tr>\n",
       "    <tr>\n",
       "      <th>448</th>\n",
       "      <td>Το Διοικητικό Συμβούλιο αποφάσισε να αυξήσει α...</td>\n",
       "      <td>Το Διοικητικό Συμβούλιο αποφάσισε να αυξήσει τ...</td>\n",
       "    </tr>\n",
       "    <tr>\n",
       "      <th>267</th>\n",
       "      <td>Κατά τη σημερινή του συνεδρίαση το Διοικητικό ...</td>\n",
       "      <td>Στη σημερινή συνεδρίασή του το Διοικητικό Συμβ...</td>\n",
       "    </tr>\n",
       "    <tr>\n",
       "      <th>244</th>\n",
       "      <td>Κατά τη σημερινή του συνεδρίαση, το Διοικητικό...</td>\n",
       "      <td>Στη σημερινή συνεδρίασή του το Διοικητικό Συμβ...</td>\n",
       "    </tr>\n",
       "    <tr>\n",
       "      <th>123</th>\n",
       "      <td>Τα πλαστά τραπεζογραμμάτια ευρώ μειώθηκαν το π...</td>\n",
       "      <td>Μείωση των πλαστών τραπεζογραμματίων ευρώ το π...</td>\n",
       "    </tr>\n",
       "    <tr>\n",
       "      <th>56</th>\n",
       "      <td>10 Απριλίου 2019 Κατά τη σημερινή του συνεδρία...</td>\n",
       "      <td>10 Απριλίου 2019 Στη σημερινή συνεδρίαση το Δι...</td>\n",
       "    </tr>\n",
       "    <tr>\n",
       "      <th>114</th>\n",
       "      <td>Από την 1η Ιουλίου 2016 οι συναλλαγματικές ισο...</td>\n",
       "      <td>Από την 1η Ιουλίου 2016 οι συναλλαγματικές ισο...</td>\n",
       "    </tr>\n",
       "    <tr>\n",
       "      <th>375</th>\n",
       "      <td>Η Ευρωπαϊκή Κεντρική Τράπεζα (ΕΚΤ) δημοσιεύει ...</td>\n",
       "      <td>Η Ευρωπαϊκή Κεντρική Τράπεζα (ΕΚΤ) δημοσιεύει ...</td>\n",
       "    </tr>\n",
       "  </tbody>\n",
       "</table>\n",
       "</div>"
      ],
      "text/plain": [
       "                                               text_el  \\\n",
       "347  Το Διοικητικό Συμβούλιο της Ευρωπαϊκής Κεντρικ...   \n",
       "468  Η Ευρωπαϊκή Κεντρική Τράπεζα (ΕΚΤ) λαμβάνει υπ...   \n",
       "378  Κατά τη σημερινή του συνεδρίαση, η οποία πραγμ...   \n",
       "448  Το Διοικητικό Συμβούλιο αποφάσισε να αυξήσει α...   \n",
       "267  Κατά τη σημερινή του συνεδρίαση το Διοικητικό ...   \n",
       "244  Κατά τη σημερινή του συνεδρίαση, το Διοικητικό...   \n",
       "123  Τα πλαστά τραπεζογραμμάτια ευρώ μειώθηκαν το π...   \n",
       "56   10 Απριλίου 2019 Κατά τη σημερινή του συνεδρία...   \n",
       "114  Από την 1η Ιουλίου 2016 οι συναλλαγματικές ισο...   \n",
       "375  Η Ευρωπαϊκή Κεντρική Τράπεζα (ΕΚΤ) δημοσιεύει ...   \n",
       "\n",
       "                                            google_nmt  \n",
       "347  Το Διοικητικό Συμβούλιο της Ευρωπαϊκής Κεντρικ...  \n",
       "468  Η Ευρωπαϊκή Κεντρική Τράπεζα (ΕΚΤ) σημειώνει τ...  \n",
       "378  Στη σημερινή συνεδρίαση, που πραγματοποιήθηκε ...  \n",
       "448  Το Διοικητικό Συμβούλιο αποφάσισε να αυξήσει τ...  \n",
       "267  Στη σημερινή συνεδρίασή του το Διοικητικό Συμβ...  \n",
       "244  Στη σημερινή συνεδρίασή του το Διοικητικό Συμβ...  \n",
       "123  Μείωση των πλαστών τραπεζογραμματίων ευρώ το π...  \n",
       "56   10 Απριλίου 2019 Στη σημερινή συνεδρίαση το Δι...  \n",
       "114  Από την 1η Ιουλίου 2016 οι συναλλαγματικές ισο...  \n",
       "375  Η Ευρωπαϊκή Κεντρική Τράπεζα (ΕΚΤ) δημοσιεύει ...  "
      ]
     },
     "execution_count": 8,
     "metadata": {},
     "output_type": "execute_result"
    }
   ],
   "source": [
    "ref_df = corpus[['text_el', 'google_nmt']]\n",
    "ref_df.sample(10)"
   ]
  },
  {
   "cell_type": "markdown",
   "metadata": {},
   "source": [
    "## Preprocess corpus"
   ]
  },
  {
   "cell_type": "code",
   "execution_count": 9,
   "metadata": {},
   "outputs": [],
   "source": [
    "import nltk\n",
    "import re\n",
    "from collections import Counter\n",
    "\n",
    "# Helper function to check if a token is a punctuation mark\n",
    "def is_punct(string: str) -> bool:\n",
    "    \"\"\"Check if STRING is a punctuation marker or a sequence of punctuation markers.\"\"\"\n",
    "    PUNCT_RE = re.compile(r'[^\\w\\s]+$')\n",
    "    return bool(PUNCT_RE.match(string))\n",
    "\n",
    "# Step 1: Tokenize the text\n",
    "def preprocess_text(text: str, language: str, lowercase: bool = True) -> list:\n",
    "    \"\"\"Perform a text preprocessing procedure, which transforms a string\n",
    "    object into a list of word tokens without punctuation markers.\"\"\"\n",
    "    if lowercase:\n",
    "        text = text.lower()\n",
    "    tokens = nltk.tokenize.word_tokenize(text, language=language)\n",
    "    tokens = [token for token in tokens if not is_punct(token)]\n",
    "    return tokens\n",
    "\n",
    "# Step 2: Define the vocabulary\n",
    "def extract_vocabulary(tokenized_corpus: str, min_count: int = 1, max_count=float('inf')) -> list:\n",
    "    \"\"\"Extract a vocabulary from a tokenized corpus.\"\"\"\n",
    "    vocabulary = Counter()\n",
    "    for document in tokenized_corpus:\n",
    "        vocabulary.update(document)\n",
    "    vocabulary = {\n",
    "        word for word, count in vocabulary.items()\n",
    "        if count >= min_count and count <= max_count\n",
    "    }\n",
    "    return sorted(vocabulary)\n",
    "\n",
    "# Step 3: Create bag-of-words representation\n",
    "def create_bow(tokenized_corpus: list, vocabulary: list, return_df: bool = True) -> pd.DataFrame:\n",
    "    \"\"\"Create a bag-of-words representation of a tokenized corpus.\"\"\"\n",
    "\n",
    "    bow_list = []\n",
    "    for document in tokenized_corpus:\n",
    "        bow_list.append([word in document for word in vocabulary])\n",
    "\n",
    "    if return_df:\n",
    "        bow_df = pd.DataFrame(bow_list, columns=vocabulary)\n",
    "        return bow_df\n",
    "    else:\n",
    "        return bow_list"
   ]
  },
  {
   "cell_type": "code",
   "execution_count": 10,
   "metadata": {},
   "outputs": [],
   "source": [
    "# Export corpus to text files\n",
    "from pathlib import Path\n",
    "\n",
    "for col in ref_df.columns:\n",
    "    Path(f\"../data/corpus\").mkdir(parents=True, exist_ok=True)\n",
    "    i = 1\n",
    "    for row in ref_df[col]:\n",
    "        with open(f\"../data/corpus/{col[0]}_{i:03d}.txt\", 'w', encoding='utf-8') as f:\n",
    "            f.write(row)\n",
    "        i += 1"
   ]
  },
  {
   "cell_type": "markdown",
   "metadata": {},
   "source": [
    "## Load corpus"
   ]
  },
  {
   "cell_type": "code",
   "execution_count": 11,
   "metadata": {},
   "outputs": [
    {
     "data": {
      "text/plain": [
       "(645, 645)"
      ]
     },
     "execution_count": 11,
     "metadata": {},
     "output_type": "execute_result"
    }
   ],
   "source": [
    "# Preprocess each play \n",
    "tokens_ht = [preprocess_text(text, 'greek') for text in ref_df['text_el'].values]\n",
    "tokens_mt = [preprocess_text(text, 'greek') for text in ref_df['google_nmt'].values]\n",
    "len(tokens_ht), len(tokens_mt)"
   ]
  },
  {
   "cell_type": "code",
   "execution_count": 12,
   "metadata": {},
   "outputs": [
    {
     "data": {
      "text/plain": [
       "(6085, 5913)"
      ]
     },
     "execution_count": 12,
     "metadata": {},
     "output_type": "execute_result"
    }
   ],
   "source": [
    "# Determine vocabulary (and prune it by removing words that occcur less than twice)\n",
    "vocab_ht = extract_vocabulary(tokens_ht, min_count=2)\n",
    "vocab_mt = extract_vocabulary(tokens_mt, min_count=2)\n",
    "len(vocab_ht), len(vocab_mt)"
   ]
  },
  {
   "cell_type": "code",
   "execution_count": 13,
   "metadata": {},
   "outputs": [
    {
     "name": "stdout",
     "output_type": "stream",
     "text": [
      "HT: document-term matrix with 645 documents and 6085 words.\n",
      "MT: document-term matrix with 645 documents and 5913 words.\n"
     ]
    }
   ],
   "source": [
    "import numpy as np\n",
    "# Build document-term matrix\n",
    "dtm_ht = np.array(create_bow(tokens_ht, vocab_ht))\n",
    "dtm_mt = np.array(create_bow(tokens_mt, vocab_mt))\n",
    "\n",
    "print(f'HT: document-term matrix with '\n",
    "      f'{dtm_ht.shape[0]} documents and '\n",
    "      f'{dtm_ht.shape[1]} words.')\n",
    "\n",
    "print(f'MT: document-term matrix with '\n",
    "      f'{dtm_mt.shape[0]} documents and '\n",
    "      f'{dtm_mt.shape[1]} words.')"
   ]
  },
  {
   "cell_type": "code",
   "execution_count": null,
   "metadata": {},
   "outputs": [],
   "source": [
    "ht_means = dtm_ht.mean(axis=0)\n",
    "mt_means = dtm_mt.mean(axis=0)\n",
    "ht_means, mt_means"
   ]
  },
  {
   "cell_type": "markdown",
   "metadata": {},
   "source": [
    "## Calculate cosine similarity"
   ]
  },
  {
   "cell_type": "code",
   "execution_count": 14,
   "metadata": {},
   "outputs": [],
   "source": [
    "from scipy.spatial import distance\n",
    "\n",
    "def nearest_neighbors(X, metric='cosine'):\n",
    "    \"\"\"Retrieve the nearest neighbor for each row in a 2D array.\"\"\"\n",
    "    distances = distance.pdist(X, metric=metric)\n",
    "    distances = distance.squareform(distances)\n",
    "    np.fill_diagonal(distances, np.inf)  # so it doesn't select itself!\n",
    "    return distances.argmin(1)"
   ]
  },
  {
   "cell_type": "code",
   "execution_count": 15,
   "metadata": {},
   "outputs": [],
   "source": [
    "def cosine_distance(s1, s2):\n",
    "\n",
    "    allsentences = [s1 , s2]\n",
    "\n",
    "    from sklearn.feature_extraction.text import CountVectorizer\n",
    "    from scipy.spatial import distance\n",
    "\n",
    "    vectorizer = CountVectorizer()\n",
    "    all_sentences_to_vector = vectorizer.fit_transform(allsentences)\n",
    "    text_to_vector_v1 = all_sentences_to_vector.toarray()[0].tolist()\n",
    "    text_to_vector_v2 = all_sentences_to_vector.toarray()[1].tolist()\n",
    "\n",
    "    cosine = distance.cosine(text_to_vector_v1, text_to_vector_v2)\n",
    "    \n",
    "    return round((1 - cosine) * 100, 2)"
   ]
  },
  {
   "cell_type": "code",
   "execution_count": 16,
   "metadata": {},
   "outputs": [
    {
     "name": "stderr",
     "output_type": "stream",
     "text": [
      "<ipython-input-16-757474032596>:1: SettingWithCopyWarning: \n",
      "A value is trying to be set on a copy of a slice from a DataFrame.\n",
      "Try using .loc[row_indexer,col_indexer] = value instead\n",
      "\n",
      "See the caveats in the documentation: https://pandas.pydata.org/pandas-docs/stable/user_guide/indexing.html#returning-a-view-versus-a-copy\n",
      "  ref_df['cos_similarity'] = ref_df.apply(lambda row: cosine_distance(row['text_el'], row['google_nmt']), axis=1)\n"
     ]
    }
   ],
   "source": [
    "ref_df['cos_similarity'] = ref_df.apply(lambda row: cosine_distance(row['text_el'], row['google_nmt']), axis=1)"
   ]
  },
  {
   "cell_type": "code",
   "execution_count": 17,
   "metadata": {},
   "outputs": [
    {
     "data": {
      "text/html": [
       "<div>\n",
       "<style scoped>\n",
       "    .dataframe tbody tr th:only-of-type {\n",
       "        vertical-align: middle;\n",
       "    }\n",
       "\n",
       "    .dataframe tbody tr th {\n",
       "        vertical-align: top;\n",
       "    }\n",
       "\n",
       "    .dataframe thead th {\n",
       "        text-align: right;\n",
       "    }\n",
       "</style>\n",
       "<table border=\"1\" class=\"dataframe\">\n",
       "  <thead>\n",
       "    <tr style=\"text-align: right;\">\n",
       "      <th></th>\n",
       "      <th>text_el</th>\n",
       "      <th>google_nmt</th>\n",
       "      <th>cos_similarity</th>\n",
       "    </tr>\n",
       "  </thead>\n",
       "  <tbody>\n",
       "    <tr>\n",
       "      <th>443</th>\n",
       "      <td>Κατά τη σημερινή του συνεδρίαση, το Διοικητικό...</td>\n",
       "      <td>Κατά τη σημερινή του συνεδρίαση, το Διοικητικό...</td>\n",
       "      <td>94.68</td>\n",
       "    </tr>\n",
       "    <tr>\n",
       "      <th>29</th>\n",
       "      <td>13 Ιουλίου 2020  Τα όρια υποχρεωτικής παρέμβασ...</td>\n",
       "      <td>13 Ιουλίου 2020 Τα υποχρεωτικά επιτόκια παρέμβ...</td>\n",
       "      <td>84.88</td>\n",
       "    </tr>\n",
       "    <tr>\n",
       "      <th>523</th>\n",
       "      <td>Στο πλαίσιο του διεθνούς αρχιτεκτονικού διαγων...</td>\n",
       "      <td>Ο διεθνής αρχιτεκτονικός διαγωνισμός που ξεκίν...</td>\n",
       "      <td>60.06</td>\n",
       "    </tr>\n",
       "    <tr>\n",
       "      <th>57</th>\n",
       "      <td>9 Απριλίου 2019  Το Διοικητικό Συμβούλιο υποβά...</td>\n",
       "      <td>9 Απριλίου 2019 Το Διοικητικό Συμβούλιο υποβάλ...</td>\n",
       "      <td>92.89</td>\n",
       "    </tr>\n",
       "    <tr>\n",
       "      <th>302</th>\n",
       "      <td>Κατά τη σημερινή του συνεδρίαση, το Διοικητικό...</td>\n",
       "      <td>Στη σημερινή συνεδρίασή του το Διοικητικό Συμβ...</td>\n",
       "      <td>79.07</td>\n",
       "    </tr>\n",
       "    <tr>\n",
       "      <th>147</th>\n",
       "      <td>Βασικά αποτελέσματα της συνολικής αξιολόγησης ...</td>\n",
       "      <td>Βασικά αποτελέσματα της συνολικής αξιολόγησης ...</td>\n",
       "      <td>88.00</td>\n",
       "    </tr>\n",
       "    <tr>\n",
       "      <th>90</th>\n",
       "      <td>Κατά τη σημερινή του συνεδρίαση, το Διοικητικό...</td>\n",
       "      <td>Στη σημερινή συνεδρίαση το Διοικητικό Συμβούλι...</td>\n",
       "      <td>83.75</td>\n",
       "    </tr>\n",
       "    <tr>\n",
       "      <th>587</th>\n",
       "      <td>Κατά τη σημερινή του συνεδρίαση, το Διοικητικό...</td>\n",
       "      <td>Στη σημερινή συνεδρίασή του το Διοικητικό Συμβ...</td>\n",
       "      <td>85.20</td>\n",
       "    </tr>\n",
       "    <tr>\n",
       "      <th>205</th>\n",
       "      <td>Η Ευρωπαϊκή Κεντρική Τράπεζα (ΕΚΤ) ανακοινώνει...</td>\n",
       "      <td>Η Ευρωπαϊκή Κεντρική Τράπεζα ανακοινώνει σήμερ...</td>\n",
       "      <td>88.93</td>\n",
       "    </tr>\n",
       "    <tr>\n",
       "      <th>498</th>\n",
       "      <td>Κατά την προηγούμενη συνεδρίασή του, το Διοικη...</td>\n",
       "      <td>Στην προηγούμενη συνεδρίασή του, το Διοικητικό...</td>\n",
       "      <td>90.39</td>\n",
       "    </tr>\n",
       "  </tbody>\n",
       "</table>\n",
       "</div>"
      ],
      "text/plain": [
       "                                               text_el  \\\n",
       "443  Κατά τη σημερινή του συνεδρίαση, το Διοικητικό...   \n",
       "29   13 Ιουλίου 2020  Τα όρια υποχρεωτικής παρέμβασ...   \n",
       "523  Στο πλαίσιο του διεθνούς αρχιτεκτονικού διαγων...   \n",
       "57   9 Απριλίου 2019  Το Διοικητικό Συμβούλιο υποβά...   \n",
       "302  Κατά τη σημερινή του συνεδρίαση, το Διοικητικό...   \n",
       "147  Βασικά αποτελέσματα της συνολικής αξιολόγησης ...   \n",
       "90   Κατά τη σημερινή του συνεδρίαση, το Διοικητικό...   \n",
       "587  Κατά τη σημερινή του συνεδρίαση, το Διοικητικό...   \n",
       "205  Η Ευρωπαϊκή Κεντρική Τράπεζα (ΕΚΤ) ανακοινώνει...   \n",
       "498  Κατά την προηγούμενη συνεδρίασή του, το Διοικη...   \n",
       "\n",
       "                                            google_nmt  cos_similarity  \n",
       "443  Κατά τη σημερινή του συνεδρίαση, το Διοικητικό...           94.68  \n",
       "29   13 Ιουλίου 2020 Τα υποχρεωτικά επιτόκια παρέμβ...           84.88  \n",
       "523  Ο διεθνής αρχιτεκτονικός διαγωνισμός που ξεκίν...           60.06  \n",
       "57   9 Απριλίου 2019 Το Διοικητικό Συμβούλιο υποβάλ...           92.89  \n",
       "302  Στη σημερινή συνεδρίασή του το Διοικητικό Συμβ...           79.07  \n",
       "147  Βασικά αποτελέσματα της συνολικής αξιολόγησης ...           88.00  \n",
       "90   Στη σημερινή συνεδρίαση το Διοικητικό Συμβούλι...           83.75  \n",
       "587  Στη σημερινή συνεδρίασή του το Διοικητικό Συμβ...           85.20  \n",
       "205  Η Ευρωπαϊκή Κεντρική Τράπεζα ανακοινώνει σήμερ...           88.93  \n",
       "498  Στην προηγούμενη συνεδρίασή του, το Διοικητικό...           90.39  "
      ]
     },
     "execution_count": 17,
     "metadata": {},
     "output_type": "execute_result"
    }
   ],
   "source": [
    "ref_df.sample(10)"
   ]
  },
  {
   "cell_type": "code",
   "execution_count": 18,
   "metadata": {},
   "outputs": [
    {
     "data": {
      "text/plain": [
       "'83.94% similarity'"
      ]
     },
     "execution_count": 18,
     "metadata": {},
     "output_type": "execute_result"
    }
   ],
   "source": [
    "f\"{round(ref_df['cos_similarity'].mean(), 2)}% similarity\""
   ]
  },
  {
   "cell_type": "code",
   "execution_count": 19,
   "metadata": {},
   "outputs": [
    {
     "data": {
      "text/plain": [
       "381"
      ]
     },
     "execution_count": 19,
     "metadata": {},
     "output_type": "execute_result"
    }
   ],
   "source": [
    "ref_df['cos_similarity'].argmax()"
   ]
  },
  {
   "cell_type": "code",
   "execution_count": 20,
   "metadata": {},
   "outputs": [
    {
     "data": {
      "text/html": [
       "<div>\n",
       "<style scoped>\n",
       "    .dataframe tbody tr th:only-of-type {\n",
       "        vertical-align: middle;\n",
       "    }\n",
       "\n",
       "    .dataframe tbody tr th {\n",
       "        vertical-align: top;\n",
       "    }\n",
       "\n",
       "    .dataframe thead th {\n",
       "        text-align: right;\n",
       "    }\n",
       "</style>\n",
       "<table border=\"1\" class=\"dataframe\">\n",
       "  <thead>\n",
       "    <tr style=\"text-align: right;\">\n",
       "      <th></th>\n",
       "      <th>text_el</th>\n",
       "      <th>google_nmt</th>\n",
       "      <th>cos_similarity</th>\n",
       "    </tr>\n",
       "  </thead>\n",
       "  <tbody>\n",
       "  </tbody>\n",
       "</table>\n",
       "</div>"
      ],
      "text/plain": [
       "Empty DataFrame\n",
       "Columns: [text_el, google_nmt, cos_similarity]\n",
       "Index: []"
      ]
     },
     "execution_count": 20,
     "metadata": {},
     "output_type": "execute_result"
    }
   ],
   "source": [
    "outliers = ref_df[ref_df['cos_similarity'] < 35]\n",
    "outliers.head()"
   ]
  },
  {
   "cell_type": "code",
   "execution_count": 21,
   "metadata": {},
   "outputs": [],
   "source": [
    "ref_df = ref_df.drop(outliers.index)"
   ]
  },
  {
   "cell_type": "code",
   "execution_count": 22,
   "metadata": {},
   "outputs": [
    {
     "data": {
      "text/plain": [
       "367"
      ]
     },
     "execution_count": 22,
     "metadata": {},
     "output_type": "execute_result"
    }
   ],
   "source": [
    "ref_df['cos_similarity'].argmin()"
   ]
  }
 ],
 "metadata": {
  "interpreter": {
   "hash": "1baa965d5efe3ac65b79dfc60c0d706280b1da80fedb7760faf2759126c4f253"
  },
  "kernelspec": {
   "display_name": "Python 3.8.2 64-bit",
   "language": "python",
   "name": "python3"
  },
  "language_info": {
   "codemirror_mode": {
    "name": "ipython",
    "version": 3
   },
   "file_extension": ".py",
   "mimetype": "text/x-python",
   "name": "python",
   "nbconvert_exporter": "python",
   "pygments_lexer": "ipython3",
   "version": "3.8.2"
  },
  "orig_nbformat": 4
 },
 "nbformat": 4,
 "nbformat_minor": 2
}
